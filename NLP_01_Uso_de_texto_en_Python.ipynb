{
  "cells": [
    {
      "cell_type": "markdown",
      "metadata": {
        "id": "view-in-github",
        "colab_type": "text"
      },
      "source": [
        "<a href=\"https://colab.research.google.com/github/SoniaPMi/NLP/blob/main/NLP_01_Uso_de_texto_en_Python.ipynb\" target=\"_parent\"><img src=\"https://colab.research.google.com/assets/colab-badge.svg\" alt=\"Open In Colab\"/></a>"
      ]
    },
    {
      "cell_type": "markdown",
      "id": "german-basic",
      "metadata": {
        "id": "german-basic"
      },
      "source": [
        "## Uso de texto en Python\n",
        "Declaración de variables de tipo `string`"
      ]
    },
    {
      "cell_type": "code",
      "source": [
        "pip -m spacy download en_core_web_md\n",
        "pip -m spacy download es_core_news_md\n",
        "pip -m spacy download es_core_news_sm"
      ],
      "metadata": {
        "colab": {
          "base_uri": "https://localhost:8080/",
          "height": 130
        },
        "id": "fZM4feicziN-",
        "outputId": "89bda419-021e-4364-cd15-15226c5eab30"
      },
      "id": "fZM4feicziN-",
      "execution_count": 1,
      "outputs": [
        {
          "output_type": "error",
          "ename": "SyntaxError",
          "evalue": "ignored",
          "traceback": [
            "\u001b[0;36m  File \u001b[0;32m\"<ipython-input-1-e1cffd65e169>\"\u001b[0;36m, line \u001b[0;32m1\u001b[0m\n\u001b[0;31m    pip -m spacy download en_core_web_md\u001b[0m\n\u001b[0m               ^\u001b[0m\n\u001b[0;31mSyntaxError\u001b[0m\u001b[0;31m:\u001b[0m invalid syntax\n"
          ]
        }
      ]
    },
    {
      "cell_type": "code",
      "source": [
        "pip spacy download en_core_web_md\n",
        "pip spacy download es_core_news_md\n",
        "pip spacy download es_core_news_sm"
      ],
      "metadata": {
        "colab": {
          "base_uri": "https://localhost:8080/",
          "height": 130
        },
        "id": "6rggQYpsz2Ev",
        "outputId": "33619ea4-15ad-4c69-c640-fb70539f8347"
      },
      "id": "6rggQYpsz2Ev",
      "execution_count": 2,
      "outputs": [
        {
          "output_type": "error",
          "ename": "SyntaxError",
          "evalue": "ignored",
          "traceback": [
            "\u001b[0;36m  File \u001b[0;32m\"<ipython-input-2-8885377c7a6e>\"\u001b[0;36m, line \u001b[0;32m1\u001b[0m\n\u001b[0;31m    pip spacy download en_core_web_md\u001b[0m\n\u001b[0m            ^\u001b[0m\n\u001b[0;31mSyntaxError\u001b[0m\u001b[0;31m:\u001b[0m invalid syntax\n"
          ]
        }
      ]
    },
    {
      "cell_type": "code",
      "execution_count": 3,
      "id": "sized-membership",
      "metadata": {
        "id": "sized-membership"
      },
      "outputs": [],
      "source": [
        "texto = \"Texto 'normal' en Python\""
      ]
    },
    {
      "cell_type": "code",
      "execution_count": 4,
      "id": "quiet-eleven",
      "metadata": {
        "colab": {
          "base_uri": "https://localhost:8080/"
        },
        "id": "quiet-eleven",
        "outputId": "720aa6fb-0162-4a33-8291-3abcc10eecbd"
      },
      "outputs": [
        {
          "output_type": "execute_result",
          "data": {
            "text/plain": [
              "str"
            ]
          },
          "metadata": {},
          "execution_count": 4
        }
      ],
      "source": [
        "type(texto)"
      ]
    },
    {
      "cell_type": "code",
      "execution_count": 6,
      "id": "lightweight-assist",
      "metadata": {
        "colab": {
          "base_uri": "https://localhost:8080/"
        },
        "id": "lightweight-assist",
        "outputId": "033d3a1a-3ff3-47b2-f281-c8c6a5daf608"
      },
      "outputs": [
        {
          "output_type": "execute_result",
          "data": {
            "text/plain": [
              "24"
            ]
          },
          "metadata": {},
          "execution_count": 6
        }
      ],
      "source": [
        "len(texto) #iterable, puede recorerse elemento a elemento con un bucle"
      ]
    },
    {
      "cell_type": "markdown",
      "id": "previous-corruption",
      "metadata": {
        "id": "previous-corruption"
      },
      "source": [
        "Los objetos de tipo `string` son elementos iterables compuestos por sus caracteres:"
      ]
    },
    {
      "cell_type": "code",
      "execution_count": 7,
      "id": "appreciated-testimony",
      "metadata": {
        "colab": {
          "base_uri": "https://localhost:8080/"
        },
        "id": "appreciated-testimony",
        "outputId": "9d314d4d-5fe8-4d87-b2de-01cdc28e200c"
      },
      "outputs": [
        {
          "output_type": "stream",
          "name": "stdout",
          "text": [
            "T\n",
            "e\n",
            "x\n",
            "t\n",
            "o\n",
            " \n",
            "'\n",
            "n\n",
            "o\n",
            "r\n",
            "m\n",
            "a\n",
            "l\n",
            "'\n",
            " \n",
            "e\n",
            "n\n",
            " \n",
            "P\n",
            "y\n",
            "t\n",
            "h\n",
            "o\n",
            "n\n"
          ]
        }
      ],
      "source": [
        "for t in texto:\n",
        "    print(t)"
      ]
    },
    {
      "cell_type": "code",
      "execution_count": 8,
      "id": "handed-offset",
      "metadata": {
        "colab": {
          "base_uri": "https://localhost:8080/",
          "height": 35
        },
        "id": "handed-offset",
        "outputId": "0905a29a-521b-4d96-ed27-946eb6ada9d1"
      },
      "outputs": [
        {
          "output_type": "execute_result",
          "data": {
            "text/plain": [
              "'Texto'"
            ],
            "application/vnd.google.colaboratory.intrinsic+json": {
              "type": "string"
            }
          },
          "metadata": {},
          "execution_count": 8
        }
      ],
      "source": [
        "#podemos indexar cada elemento (caracter) del texto\n",
        "texto[0:5]"
      ]
    },
    {
      "cell_type": "code",
      "execution_count": 9,
      "id": "later-witch",
      "metadata": {
        "colab": {
          "base_uri": "https://localhost:8080/"
        },
        "id": "later-witch",
        "outputId": "30146fd8-6d7d-4b26-e2d2-452452c7cdd0"
      },
      "outputs": [
        {
          "output_type": "stream",
          "name": "stdout",
          "text": [
            "['T', 'e', 'x', 't', 'o', ' ', \"'\", 'n', 'o', 'r', 'm', 'a', 'l', \"'\", ' ', 'e', 'n', ' ', 'P', 'y', 't', 'h', 'o', 'n']\n"
          ]
        }
      ],
      "source": [
        "#los iterables también se recorren como list comprehension:\n",
        "lista = [t for t in texto]\n",
        "print(lista)"
      ]
    },
    {
      "cell_type": "markdown",
      "id": "aerial-fleece",
      "metadata": {
        "id": "aerial-fleece"
      },
      "source": [
        "*Nota:* Las list comprenhension se ven en detalle al final del notebook."
      ]
    },
    {
      "cell_type": "code",
      "execution_count": 12,
      "id": "compact-process",
      "metadata": {
        "colab": {
          "base_uri": "https://localhost:8080/"
        },
        "id": "compact-process",
        "outputId": "4ce886d3-ad9c-4952-9e6e-36f6dc0bbffe"
      },
      "outputs": [
        {
          "output_type": "execute_result",
          "data": {
            "text/plain": [
              "list"
            ]
          },
          "metadata": {},
          "execution_count": 12
        }
      ],
      "source": [
        "type(lista)"
      ]
    },
    {
      "cell_type": "markdown",
      "id": "stuffed-serbia",
      "metadata": {
        "id": "stuffed-serbia"
      },
      "source": [
        "### Ejercicio\n",
        "¿De qué tipo es cada elemento de la lista anterior?"
      ]
    },
    {
      "cell_type": "code",
      "execution_count": 13,
      "id": "breathing-grammar",
      "metadata": {
        "colab": {
          "base_uri": "https://localhost:8080/"
        },
        "id": "breathing-grammar",
        "outputId": "c800247f-808c-45b7-c293-6a3e82da983a"
      },
      "outputs": [
        {
          "output_type": "execute_result",
          "data": {
            "text/plain": [
              "str"
            ]
          },
          "metadata": {},
          "execution_count": 13
        }
      ],
      "source": [
        "type(lista[0])"
      ]
    },
    {
      "cell_type": "markdown",
      "id": "ultimate-oxygen",
      "metadata": {
        "id": "ultimate-oxygen"
      },
      "source": [
        "### Caracteres unicode en Python\n",
        "Todos los objetos `string` aceptan caracteres unicode."
      ]
    },
    {
      "cell_type": "code",
      "execution_count": 14,
      "id": "horizontal-foster",
      "metadata": {
        "id": "horizontal-foster"
      },
      "outputs": [],
      "source": [
        "#caracteres unicode\n",
        "texto2 = \"áèï😀🛵\""
      ]
    },
    {
      "cell_type": "code",
      "execution_count": 15,
      "id": "alone-logan",
      "metadata": {
        "colab": {
          "base_uri": "https://localhost:8080/"
        },
        "id": "alone-logan",
        "outputId": "87d4f960-2b9f-4b8d-cd6e-35a9ea3f5916"
      },
      "outputs": [
        {
          "output_type": "execute_result",
          "data": {
            "text/plain": [
              "['á', 'è', 'ï', '😀', '🛵']"
            ]
          },
          "metadata": {},
          "execution_count": 15
        }
      ],
      "source": [
        "[t for t in texto2]"
      ]
    },
    {
      "cell_type": "markdown",
      "id": "needed-folks",
      "metadata": {
        "id": "needed-folks"
      },
      "source": [
        "Texto en otros alfabetos (http://xahlee.info/comp/unicode_index.html)"
      ]
    },
    {
      "cell_type": "code",
      "execution_count": 16,
      "id": "guided-medline",
      "metadata": {
        "colab": {
          "base_uri": "https://localhost:8080/"
        },
        "id": "guided-medline",
        "outputId": "18271b9f-1561-4f17-f271-9a5c46dd05e1"
      },
      "outputs": [
        {
          "output_type": "execute_result",
          "data": {
            "text/plain": [
              "['林', '花', '謝', '了', '春', '紅', ' ', '太', '匆', '匆']"
            ]
          },
          "metadata": {},
          "execution_count": 16
        }
      ],
      "source": [
        "#chino\n",
        "texto3 = \"林花謝了春紅 太匆匆\"\n",
        "[t for t in texto3]"
      ]
    },
    {
      "cell_type": "code",
      "execution_count": 17,
      "id": "medieval-netscape",
      "metadata": {
        "colab": {
          "base_uri": "https://localhost:8080/"
        },
        "id": "medieval-netscape",
        "outputId": "ebc2d8a9-5918-40e8-e99d-7e91f49af1ee"
      },
      "outputs": [
        {
          "output_type": "execute_result",
          "data": {
            "text/plain": [
              "['Б', 'б', 'в', 'Г', 'г', 'Д', 'д', 'ѭ']"
            ]
          },
          "metadata": {},
          "execution_count": 17
        }
      ],
      "source": [
        "#cirílico:\n",
        "texto4 = \"БбвГгДдѭ\"\n",
        "[t for t in texto4]"
      ]
    },
    {
      "cell_type": "code",
      "execution_count": 18,
      "id": "simple-audio",
      "metadata": {
        "colab": {
          "base_uri": "https://localhost:8080/"
        },
        "id": "simple-audio",
        "outputId": "6e10845c-4fb3-4c24-bae9-cb2ffc47eb5c"
      },
      "outputs": [
        {
          "output_type": "execute_result",
          "data": {
            "text/plain": [
              "['α', 'β', 'γ', 'δ', 'ε']"
            ]
          },
          "metadata": {},
          "execution_count": 18
        }
      ],
      "source": [
        "#griego:\n",
        "texto5 = \"αβγδε\"\n",
        "[t for t in texto5]"
      ]
    },
    {
      "cell_type": "code",
      "source": [
        "import sys \n",
        "sys.getsizeof(texto4) #tamaño memoria"
      ],
      "metadata": {
        "colab": {
          "base_uri": "https://localhost:8080/"
        },
        "id": "oYujrWoS1OQf",
        "outputId": "eae0f849-6800-435c-fd47-0235611e6d3c"
      },
      "id": "oYujrWoS1OQf",
      "execution_count": 19,
      "outputs": [
        {
          "output_type": "execute_result",
          "data": {
            "text/plain": [
              "90"
            ]
          },
          "metadata": {},
          "execution_count": 19
        }
      ]
    },
    {
      "cell_type": "code",
      "source": [
        "len(texto4) #longitud texto"
      ],
      "metadata": {
        "colab": {
          "base_uri": "https://localhost:8080/"
        },
        "id": "GiVHIe7w1UJq",
        "outputId": "5c94fe93-55ae-465d-e008-b4aa873026e2"
      },
      "id": "GiVHIe7w1UJq",
      "execution_count": 21,
      "outputs": [
        {
          "output_type": "execute_result",
          "data": {
            "text/plain": [
              "8"
            ]
          },
          "metadata": {},
          "execution_count": 21
        }
      ]
    },
    {
      "cell_type": "markdown",
      "id": "rising-nudist",
      "metadata": {
        "id": "rising-nudist"
      },
      "source": [
        "## Métodos sobre strings\n",
        "Métodos que devuelven `string`/lista de `string`:\n",
        "- `lower`\n",
        "- `upper`\n",
        "- `tittle`\n",
        "- `len`"
      ]
    },
    {
      "cell_type": "code",
      "execution_count": 22,
      "id": "endangered-antibody",
      "metadata": {
        "colab": {
          "base_uri": "https://localhost:8080/",
          "height": 35
        },
        "id": "endangered-antibody",
        "outputId": "b9d96ea3-b951-4884-9d8e-88923dd8ab9e"
      },
      "outputs": [
        {
          "output_type": "execute_result",
          "data": {
            "text/plain": [
              "'TEXTO'"
            ],
            "application/vnd.google.colaboratory.intrinsic+json": {
              "type": "string"
            }
          },
          "metadata": {},
          "execution_count": 22
        }
      ],
      "source": [
        "\"texto\".upper()"
      ]
    },
    {
      "cell_type": "code",
      "execution_count": 23,
      "id": "rental-fortune",
      "metadata": {
        "colab": {
          "base_uri": "https://localhost:8080/",
          "height": 35
        },
        "id": "rental-fortune",
        "outputId": "dca73efc-deff-4683-a167-d96a8074bbdb"
      },
      "outputs": [
        {
          "output_type": "execute_result",
          "data": {
            "text/plain": [
              "\"Texto 'Normal' En Python\""
            ],
            "application/vnd.google.colaboratory.intrinsic+json": {
              "type": "string"
            }
          },
          "metadata": {},
          "execution_count": 23
        }
      ],
      "source": [
        "texto.title()"
      ]
    },
    {
      "cell_type": "code",
      "execution_count": 24,
      "id": "expected-prize",
      "metadata": {
        "colab": {
          "base_uri": "https://localhost:8080/",
          "height": 35
        },
        "id": "expected-prize",
        "outputId": "4ff3fc65-6081-415d-fc52-3998410e8786"
      },
      "outputs": [
        {
          "output_type": "execute_result",
          "data": {
            "text/plain": [
              "'La Casa Azul'"
            ],
            "application/vnd.google.colaboratory.intrinsic+json": {
              "type": "string"
            }
          },
          "metadata": {},
          "execution_count": 24
        }
      ],
      "source": [
        "\"la casa azul\".title()"
      ]
    },
    {
      "cell_type": "markdown",
      "id": "fixed-christianity",
      "metadata": {
        "id": "fixed-christianity"
      },
      "source": [
        "Lo podemos aplicar a los elementos *string* de una lista mediante una *list comprenhension*"
      ]
    },
    {
      "cell_type": "code",
      "execution_count": 25,
      "id": "dental-arcade",
      "metadata": {
        "colab": {
          "base_uri": "https://localhost:8080/"
        },
        "id": "dental-arcade",
        "outputId": "f80286c1-d293-4966-a00f-2b1e3cfd3ff0"
      },
      "outputs": [
        {
          "output_type": "execute_result",
          "data": {
            "text/plain": [
              "['Texto', \"'normal'\", 'en', 'Python']"
            ]
          },
          "metadata": {},
          "execution_count": 25
        }
      ],
      "source": [
        "#creamos una lista de las palabras de nuestro texto\n",
        "lista2 = texto.split(\" \")\n",
        "lista2"
      ]
    },
    {
      "cell_type": "code",
      "execution_count": 26,
      "id": "digital-mention",
      "metadata": {
        "colab": {
          "base_uri": "https://localhost:8080/",
          "height": 35
        },
        "id": "digital-mention",
        "outputId": "91446f14-52f3-417c-c01b-cc9cdbe8a4c5"
      },
      "outputs": [
        {
          "output_type": "execute_result",
          "data": {
            "text/plain": [
              "\"Texto,'normal',en,Python\""
            ],
            "application/vnd.google.colaboratory.intrinsic+json": {
              "type": "string"
            }
          },
          "metadata": {},
          "execution_count": 26
        }
      ],
      "source": [
        "#también podemos convertir una lista en string\n",
        "','.join(lista2)"
      ]
    },
    {
      "cell_type": "code",
      "execution_count": 27,
      "id": "matched-thumbnail",
      "metadata": {
        "colab": {
          "base_uri": "https://localhost:8080/"
        },
        "id": "matched-thumbnail",
        "outputId": "b0679d16-774f-4bc0-a4d6-318d355f1b02"
      },
      "outputs": [
        {
          "output_type": "execute_result",
          "data": {
            "text/plain": [
              "['TEXTO', \"'NORMAL'\", 'EN', 'PYTHON']"
            ]
          },
          "metadata": {},
          "execution_count": 27
        }
      ],
      "source": [
        "#aplicamos método a cada elemento de la lista\n",
        "[c.upper() for c in lista2]"
      ]
    },
    {
      "cell_type": "markdown",
      "id": "large-radar",
      "metadata": {
        "id": "large-radar"
      },
      "source": [
        "Métodos de comparación:  \n",
        "`s.startswith(t)\n",
        "s.endswith(t)\n",
        "t in s\n",
        "s.isupper(); s.islower(); s.istitle()\n",
        "s.isalpha(); s.isdigit(); s.isalnum()`"
      ]
    },
    {
      "cell_type": "code",
      "execution_count": 28,
      "id": "three-briefing",
      "metadata": {
        "colab": {
          "base_uri": "https://localhost:8080/"
        },
        "id": "three-briefing",
        "outputId": "8f8fe919-c2b5-46be-dbe4-93e9f87bb5fe"
      },
      "outputs": [
        {
          "output_type": "execute_result",
          "data": {
            "text/plain": [
              "False"
            ]
          },
          "metadata": {},
          "execution_count": 28
        }
      ],
      "source": [
        "'Texto'.startswith('t')"
      ]
    },
    {
      "cell_type": "code",
      "execution_count": 29,
      "id": "beneficial-makeup",
      "metadata": {
        "colab": {
          "base_uri": "https://localhost:8080/"
        },
        "id": "beneficial-makeup",
        "outputId": "40c4369b-595f-46e6-b5de-30c9968e9ffc"
      },
      "outputs": [
        {
          "output_type": "execute_result",
          "data": {
            "text/plain": [
              "True"
            ]
          },
          "metadata": {},
          "execution_count": 29
        }
      ],
      "source": [
        "'Texto'.startswith('T')"
      ]
    },
    {
      "cell_type": "code",
      "execution_count": 30,
      "id": "uniform-banana",
      "metadata": {
        "colab": {
          "base_uri": "https://localhost:8080/"
        },
        "id": "uniform-banana",
        "outputId": "5b2ab121-b18a-4da0-c964-6ddeb4145914"
      },
      "outputs": [
        {
          "output_type": "execute_result",
          "data": {
            "text/plain": [
              "True"
            ]
          },
          "metadata": {},
          "execution_count": 30
        }
      ],
      "source": [
        "'ex' in texto"
      ]
    },
    {
      "cell_type": "code",
      "execution_count": 31,
      "id": "concerned-battlefield",
      "metadata": {
        "colab": {
          "base_uri": "https://localhost:8080/"
        },
        "id": "concerned-battlefield",
        "outputId": "f0b2ad42-5d39-4ead-e925-5b8ec2b1a11d"
      },
      "outputs": [
        {
          "output_type": "execute_result",
          "data": {
            "text/plain": [
              "True"
            ]
          },
          "metadata": {},
          "execution_count": 31
        }
      ],
      "source": [
        "'Texto'.istitle()"
      ]
    },
    {
      "cell_type": "code",
      "execution_count": 32,
      "id": "hired-deposit",
      "metadata": {
        "colab": {
          "base_uri": "https://localhost:8080/"
        },
        "id": "hired-deposit",
        "outputId": "4ff5236a-780a-4aa5-c740-5cbe67b18e91"
      },
      "outputs": [
        {
          "output_type": "execute_result",
          "data": {
            "text/plain": [
              "False"
            ]
          },
          "metadata": {},
          "execution_count": 32
        }
      ],
      "source": [
        "'TexTo'.istitle()"
      ]
    },
    {
      "cell_type": "code",
      "execution_count": 33,
      "id": "similar-nursing",
      "metadata": {
        "colab": {
          "base_uri": "https://localhost:8080/"
        },
        "id": "similar-nursing",
        "outputId": "113b0269-f12f-4afa-c055-fe937a558403"
      },
      "outputs": [
        {
          "output_type": "execute_result",
          "data": {
            "text/plain": [
              "False"
            ]
          },
          "metadata": {},
          "execution_count": 33
        }
      ],
      "source": [
        "'Texto largo'.istitle()"
      ]
    },
    {
      "cell_type": "code",
      "source": [
        "'Hola' == 'hola'"
      ],
      "metadata": {
        "colab": {
          "base_uri": "https://localhost:8080/"
        },
        "id": "0mr6n0yD1vAY",
        "outputId": "8e5ad358-976c-4d4a-a2b4-5626b60b9868"
      },
      "id": "0mr6n0yD1vAY",
      "execution_count": 34,
      "outputs": [
        {
          "output_type": "execute_result",
          "data": {
            "text/plain": [
              "False"
            ]
          },
          "metadata": {},
          "execution_count": 34
        }
      ]
    },
    {
      "cell_type": "code",
      "source": [
        "'Hola'.lower() == 'hola'"
      ],
      "metadata": {
        "colab": {
          "base_uri": "https://localhost:8080/"
        },
        "id": "7gqiuHnq1xiy",
        "outputId": "69760dea-a1f0-489d-c94a-f6fd3d48be1b"
      },
      "id": "7gqiuHnq1xiy",
      "execution_count": 35,
      "outputs": [
        {
          "output_type": "execute_result",
          "data": {
            "text/plain": [
              "True"
            ]
          },
          "metadata": {},
          "execution_count": 35
        }
      ]
    },
    {
      "cell_type": "code",
      "execution_count": 38,
      "id": "indoor-duncan",
      "metadata": {
        "colab": {
          "base_uri": "https://localhost:8080/"
        },
        "id": "indoor-duncan",
        "outputId": "18a9b4cf-d1f4-42cf-f783-90f5c9f1c6bb"
      },
      "outputs": [
        {
          "output_type": "execute_result",
          "data": {
            "text/plain": [
              "['Texto', \"'normal'\", 'en', 'Python']"
            ]
          },
          "metadata": {},
          "execution_count": 38
        }
      ],
      "source": [
        "lista2 = texto.split(\" \")\n",
        "lista2"
      ]
    },
    {
      "cell_type": "code",
      "source": [
        "'texto' in texto"
      ],
      "metadata": {
        "colab": {
          "base_uri": "https://localhost:8080/"
        },
        "id": "HcnzRSzo3EJp",
        "outputId": "c614a482-3f8f-4bb3-d907-a34a73f9ed44"
      },
      "id": "HcnzRSzo3EJp",
      "execution_count": 49,
      "outputs": [
        {
          "output_type": "execute_result",
          "data": {
            "text/plain": [
              "False"
            ]
          },
          "metadata": {},
          "execution_count": 49
        }
      ]
    },
    {
      "cell_type": "code",
      "source": [
        "','.join(lista2)"
      ],
      "metadata": {
        "colab": {
          "base_uri": "https://localhost:8080/",
          "height": 35
        },
        "id": "kO83V1SX1_Lk",
        "outputId": "16ed5c18-b8a9-4699-da8c-fbdd6bdbaa24"
      },
      "id": "kO83V1SX1_Lk",
      "execution_count": 39,
      "outputs": [
        {
          "output_type": "execute_result",
          "data": {
            "text/plain": [
              "\"Texto,'normal',en,Python\""
            ],
            "application/vnd.google.colaboratory.intrinsic+json": {
              "type": "string"
            }
          },
          "metadata": {},
          "execution_count": 39
        }
      ]
    },
    {
      "cell_type": "code",
      "source": [
        "[c.upper() for c in lista2] \n",
        "# el elemento lista no tiene lista, lo aplico elemento a elemento, porq asi lo aplico a un str"
      ],
      "metadata": {
        "colab": {
          "base_uri": "https://localhost:8080/"
        },
        "id": "-u-A9a0K2DtG",
        "outputId": "8f50295f-86b6-477e-aaba-6d7410a92bf5"
      },
      "id": "-u-A9a0K2DtG",
      "execution_count": 41,
      "outputs": [
        {
          "output_type": "execute_result",
          "data": {
            "text/plain": [
              "['TEXTO', \"'NORMAL'\", 'EN', 'PYTHON']"
            ]
          },
          "metadata": {},
          "execution_count": 41
        }
      ]
    },
    {
      "cell_type": "code",
      "source": [
        "list(map(lambda x: x.upper(), lista2))"
      ],
      "metadata": {
        "colab": {
          "base_uri": "https://localhost:8080/"
        },
        "id": "O-zzjHdY2mpF",
        "outputId": "cb7aa6a1-36ed-4689-ad6a-4487d7172864"
      },
      "id": "O-zzjHdY2mpF",
      "execution_count": 42,
      "outputs": [
        {
          "output_type": "execute_result",
          "data": {
            "text/plain": [
              "['TEXTO', \"'NORMAL'\", 'EN', 'PYTHON']"
            ]
          },
          "metadata": {},
          "execution_count": 42
        }
      ]
    },
    {
      "cell_type": "code",
      "source": [
        "print('ó' in 'acción')\n",
        "print('o' in 'acción')"
      ],
      "metadata": {
        "colab": {
          "base_uri": "https://localhost:8080/"
        },
        "id": "UE8m9SQN3MAK",
        "outputId": "e2c06857-6285-4c5f-bed0-9161c8103768"
      },
      "id": "UE8m9SQN3MAK",
      "execution_count": 51,
      "outputs": [
        {
          "output_type": "stream",
          "name": "stdout",
          "text": [
            "True\n",
            "False\n"
          ]
        }
      ]
    },
    {
      "cell_type": "markdown",
      "id": "liquid-location",
      "metadata": {
        "id": "liquid-location"
      },
      "source": [
        "Podemos combinar las funciones de comparación con las list comprehension"
      ]
    },
    {
      "cell_type": "code",
      "execution_count": 36,
      "id": "furnished-investigator",
      "metadata": {
        "colab": {
          "base_uri": "https://localhost:8080/"
        },
        "id": "furnished-investigator",
        "outputId": "7c9f98ea-e530-4786-bccb-f96bd08f3197"
      },
      "outputs": [
        {
          "output_type": "execute_result",
          "data": {
            "text/plain": [
              "['Texto', \"'normal'\", 'en', 'Python']"
            ]
          },
          "metadata": {},
          "execution_count": 36
        }
      ],
      "source": [
        "lista2"
      ]
    },
    {
      "cell_type": "code",
      "source": [
        "print([w for w in lista2]) #recorrer todos los elementos de la lista\n",
        "print([w for w in range(10)]) #recorrer todos los elementos de 0 a 9"
      ],
      "metadata": {
        "colab": {
          "base_uri": "https://localhost:8080/"
        },
        "id": "hQa_LQpc36Z_",
        "outputId": "d20aca53-0718-4485-b7b6-e89518963e89"
      },
      "id": "hQa_LQpc36Z_",
      "execution_count": 54,
      "outputs": [
        {
          "output_type": "stream",
          "name": "stdout",
          "text": [
            "['Texto', \"'normal'\", 'en', 'Python']\n",
            "[0, 1, 2, 3, 4, 5, 6, 7, 8, 9]\n"
          ]
        }
      ]
    },
    {
      "cell_type": "code",
      "execution_count": 37,
      "id": "eligible-corpus",
      "metadata": {
        "colab": {
          "base_uri": "https://localhost:8080/"
        },
        "id": "eligible-corpus",
        "outputId": "9142aa85-4de2-4a49-dc87-9b5c89ed07ec"
      },
      "outputs": [
        {
          "output_type": "execute_result",
          "data": {
            "text/plain": [
              "['Texto', 'Python']"
            ]
          },
          "metadata": {},
          "execution_count": 37
        }
      ],
      "source": [
        "#palabras que empiezan en mayúscula\n",
        "[w for w in lista2 if w.istitle()] \n",
        "#devuelve de la lista los elementos que cumplen esa condición"
      ]
    },
    {
      "cell_type": "markdown",
      "id": "noble-accordance",
      "metadata": {
        "id": "noble-accordance"
      },
      "source": [
        "### Ejercicio\n",
        "Filtra las palabras terminadas en `n` de `lista2`"
      ]
    },
    {
      "cell_type": "code",
      "source": [
        ""
      ],
      "metadata": {
        "id": "ghBjcuqgD1U2"
      },
      "id": "ghBjcuqgD1U2",
      "execution_count": null,
      "outputs": []
    },
    {
      "cell_type": "code",
      "source": [
        "[w for w in lista2 if w.endswith('n')]"
      ],
      "metadata": {
        "colab": {
          "base_uri": "https://localhost:8080/"
        },
        "id": "IBLHEZFm4giF",
        "outputId": "9f7e6650-b0a6-483d-af8e-0b06109d73e0"
      },
      "id": "IBLHEZFm4giF",
      "execution_count": 56,
      "outputs": [
        {
          "output_type": "execute_result",
          "data": {
            "text/plain": [
              "['en', 'Python']"
            ]
          },
          "metadata": {},
          "execution_count": 56
        }
      ]
    },
    {
      "cell_type": "code",
      "source": [
        "texto = 'hola\\nmundo'"
      ],
      "metadata": {
        "id": "R1spWfxK52Lz"
      },
      "id": "R1spWfxK52Lz",
      "execution_count": 59,
      "outputs": []
    },
    {
      "cell_type": "code",
      "source": [
        "print(texto)\n"
      ],
      "metadata": {
        "colab": {
          "base_uri": "https://localhost:8080/"
        },
        "id": "Wb-jSYR156Xe",
        "outputId": "0d1d0c6c-b331-491c-d6d8-bf4abf2ed2e9"
      },
      "id": "Wb-jSYR156Xe",
      "execution_count": 60,
      "outputs": [
        {
          "output_type": "stream",
          "name": "stdout",
          "text": [
            "hola\n",
            "mundo\n"
          ]
        }
      ]
    },
    {
      "cell_type": "code",
      "source": [
        "len('r\\n') #raw"
      ],
      "metadata": {
        "colab": {
          "base_uri": "https://localhost:8080/"
        },
        "id": "jLW6t-3j5_cc",
        "outputId": "6f9bdf77-acf7-4133-cecb-d275be0d8aed"
      },
      "id": "jLW6t-3j5_cc",
      "execution_count": 64,
      "outputs": [
        {
          "output_type": "execute_result",
          "data": {
            "text/plain": [
              "2"
            ]
          },
          "metadata": {},
          "execution_count": 64
        }
      ]
    },
    {
      "cell_type": "code",
      "source": [
        "len('\\n')"
      ],
      "metadata": {
        "colab": {
          "base_uri": "https://localhost:8080/"
        },
        "id": "esCXC4X66HBo",
        "outputId": "a698eaad-9334-49d9-8460-20eb578df5ad"
      },
      "id": "esCXC4X66HBo",
      "execution_count": 65,
      "outputs": [
        {
          "output_type": "execute_result",
          "data": {
            "text/plain": [
              "1"
            ]
          },
          "metadata": {},
          "execution_count": 65
        }
      ]
    },
    {
      "cell_type": "code",
      "source": [
        "[c for c in r'\\n']"
      ],
      "metadata": {
        "colab": {
          "base_uri": "https://localhost:8080/"
        },
        "id": "fYVL_Fl66c6y",
        "outputId": "06b1ea9e-1c62-4e3d-bf61-15d5dd500613"
      },
      "id": "fYVL_Fl66c6y",
      "execution_count": 67,
      "outputs": [
        {
          "output_type": "execute_result",
          "data": {
            "text/plain": [
              "['\\\\', 'n']"
            ]
          },
          "metadata": {},
          "execution_count": 67
        }
      ]
    },
    {
      "cell_type": "markdown",
      "id": "hungry-gallery",
      "metadata": {
        "id": "hungry-gallery"
      },
      "source": [
        "## Uso de texto en Pandas\n",
        "https://pandas.pydata.org/pandas-docs/stable/user_guide/text.html"
      ]
    },
    {
      "cell_type": "code",
      "execution_count": 43,
      "id": "coordinated-russia",
      "metadata": {
        "colab": {
          "base_uri": "https://localhost:8080/",
          "height": 35
        },
        "id": "coordinated-russia",
        "outputId": "28994f41-1ef2-490a-821e-7f26d9280ecd"
      },
      "outputs": [
        {
          "output_type": "execute_result",
          "data": {
            "text/plain": [
              "'1.3.5'"
            ],
            "application/vnd.google.colaboratory.intrinsic+json": {
              "type": "string"
            }
          },
          "metadata": {},
          "execution_count": 43
        }
      ],
      "source": [
        "import pandas as pd\n",
        "import numpy as np\n",
        "pd.__version__"
      ]
    },
    {
      "cell_type": "code",
      "execution_count": 44,
      "id": "plastic-roommate",
      "metadata": {
        "colab": {
          "base_uri": "https://localhost:8080/"
        },
        "id": "plastic-roommate",
        "outputId": "a534f98b-70d7-4116-d4ad-3d52ac49145e"
      },
      "outputs": [
        {
          "output_type": "execute_result",
          "data": {
            "text/plain": [
              "0       Texto\n",
              "1    'normal'\n",
              "2          en\n",
              "3      Python\n",
              "dtype: object"
            ]
          },
          "metadata": {},
          "execution_count": 44
        }
      ],
      "source": [
        "pd.Series(lista2)"
      ]
    },
    {
      "cell_type": "code",
      "execution_count": 45,
      "id": "exotic-explosion",
      "metadata": {
        "colab": {
          "base_uri": "https://localhost:8080/"
        },
        "id": "exotic-explosion",
        "outputId": "2f216846-ea5f-431e-eeb4-8e1b4866b414"
      },
      "outputs": [
        {
          "output_type": "execute_result",
          "data": {
            "text/plain": [
              "0       Texto\n",
              "1    'normal'\n",
              "2          en\n",
              "3      Python\n",
              "dtype: string"
            ]
          },
          "metadata": {},
          "execution_count": 45
        }
      ],
      "source": [
        "pd.Series(lista2, dtype=\"string\") #string es un nuevo dtype de Pandas 1.0"
      ]
    },
    {
      "cell_type": "code",
      "execution_count": 46,
      "id": "dirty-invasion",
      "metadata": {
        "colab": {
          "base_uri": "https://localhost:8080/"
        },
        "id": "dirty-invasion",
        "outputId": "7b58f1fc-0c8a-4844-a7b3-b03a5f84a44f"
      },
      "outputs": [
        {
          "output_type": "execute_result",
          "data": {
            "text/plain": [
              "0       A\n",
              "1       B\n",
              "2       C\n",
              "3    Aaba\n",
              "4    Baca\n",
              "5    <NA>\n",
              "6    CABA\n",
              "7     dog\n",
              "8     cat\n",
              "dtype: string"
            ]
          },
          "metadata": {},
          "execution_count": 46
        }
      ],
      "source": [
        "#podemos usar los métodos de str sobre los elementos del array\n",
        "s = pd.Series(\n",
        "     [\"A\", \"B\", \"C\", \"Aaba\", \"Baca\", np.nan, \"CABA\", \"dog\", \"cat\"],\n",
        "     dtype=\"string\"\n",
        " )\n",
        "s"
      ]
    },
    {
      "cell_type": "code",
      "execution_count": 47,
      "id": "universal-findings",
      "metadata": {
        "colab": {
          "base_uri": "https://localhost:8080/"
        },
        "id": "universal-findings",
        "outputId": "ffbdef94-bdea-4754-bc28-4e8035f69964"
      },
      "outputs": [
        {
          "output_type": "execute_result",
          "data": {
            "text/plain": [
              "0       1\n",
              "1       1\n",
              "2       1\n",
              "3       4\n",
              "4       4\n",
              "5    <NA>\n",
              "6       4\n",
              "7       3\n",
              "8       3\n",
              "dtype: Int64"
            ]
          },
          "metadata": {},
          "execution_count": 47
        }
      ],
      "source": [
        "#contar caracteres\n",
        "s.str.len()"
      ]
    },
    {
      "cell_type": "code",
      "execution_count": 48,
      "id": "changing-prerequisite",
      "metadata": {
        "colab": {
          "base_uri": "https://localhost:8080/"
        },
        "id": "changing-prerequisite",
        "outputId": "f0b21248-eb96-496d-8677-9524b1b10182"
      },
      "outputs": [
        {
          "output_type": "execute_result",
          "data": {
            "text/plain": [
              "0       A\n",
              "1       B\n",
              "2       C\n",
              "3    AABA\n",
              "4    BACA\n",
              "5    <NA>\n",
              "6    CABA\n",
              "7     DOG\n",
              "8     CAT\n",
              "dtype: string"
            ]
          },
          "metadata": {},
          "execution_count": 48
        }
      ],
      "source": [
        "#convertir serie s en mayúsculas\n",
        "s.str.upper()"
      ]
    },
    {
      "cell_type": "markdown",
      "id": "precious-ensemble",
      "metadata": {
        "id": "precious-ensemble"
      },
      "source": [
        "Dividir, expandir, reemplazar, o concatenar texto (extraer lo veremos con RegEx)"
      ]
    },
    {
      "cell_type": "code",
      "execution_count": 68,
      "id": "becoming-saint",
      "metadata": {
        "colab": {
          "base_uri": "https://localhost:8080/"
        },
        "id": "becoming-saint",
        "outputId": "6a7843cb-b3ce-49ee-ea99-0b4815bc28a3"
      },
      "outputs": [
        {
          "output_type": "execute_result",
          "data": {
            "text/plain": [
              "0       [a, b, c]\n",
              "1       [c, d, e]\n",
              "2            <NA>\n",
              "3    [f, g, h, k]\n",
              "dtype: object"
            ]
          },
          "metadata": {},
          "execution_count": 68
        }
      ],
      "source": [
        "#split devuelve una Serie de elementos de tipo lista\n",
        "s2 = pd.Series([\"a_b_c\", \"c_d_e\", np.nan, \"f_g_h_k\"], dtype=\"string\")\n",
        "s2.str.split(\"_\")"
      ]
    },
    {
      "cell_type": "code",
      "execution_count": 69,
      "id": "seasonal-russia",
      "metadata": {
        "colab": {
          "base_uri": "https://localhost:8080/"
        },
        "id": "seasonal-russia",
        "outputId": "f8f45d98-ebc4-4535-b570-fd615e115435"
      },
      "outputs": [
        {
          "output_type": "execute_result",
          "data": {
            "text/plain": [
              "0       b\n",
              "1       d\n",
              "2    <NA>\n",
              "3       g\n",
              "dtype: object"
            ]
          },
          "metadata": {},
          "execution_count": 69
        }
      ],
      "source": [
        "#podemos acceder a los elementos de la lista con str.get o str[]\n",
        "s2.str.split(\"_\").str.get(1)"
      ]
    },
    {
      "cell_type": "code",
      "execution_count": 70,
      "id": "corporate-strap",
      "metadata": {
        "colab": {
          "base_uri": "https://localhost:8080/"
        },
        "id": "corporate-strap",
        "outputId": "b62d482a-0bc1-427a-a951-d4871f67b3b1"
      },
      "outputs": [
        {
          "output_type": "execute_result",
          "data": {
            "text/plain": [
              "0       c\n",
              "1       e\n",
              "2    <NA>\n",
              "3       h\n",
              "dtype: object"
            ]
          },
          "metadata": {},
          "execution_count": 70
        }
      ],
      "source": [
        "s2.str.split(\"_\").str[2]"
      ]
    },
    {
      "cell_type": "code",
      "execution_count": 71,
      "id": "contrary-worry",
      "metadata": {
        "colab": {
          "base_uri": "https://localhost:8080/",
          "height": 174
        },
        "id": "contrary-worry",
        "outputId": "1fbfdd07-47c1-4b28-acab-8e648bdc345f"
      },
      "outputs": [
        {
          "output_type": "execute_result",
          "data": {
            "text/plain": [
              "      0     1     2     3\n",
              "0     a     b     c  <NA>\n",
              "1     c     d     e  <NA>\n",
              "2  <NA>  <NA>  <NA>  <NA>\n",
              "3     f     g     h     k"
            ],
            "text/html": [
              "\n",
              "  <div id=\"df-ccf8a07e-f549-443e-879f-3b01b4de16fa\">\n",
              "    <div class=\"colab-df-container\">\n",
              "      <div>\n",
              "<style scoped>\n",
              "    .dataframe tbody tr th:only-of-type {\n",
              "        vertical-align: middle;\n",
              "    }\n",
              "\n",
              "    .dataframe tbody tr th {\n",
              "        vertical-align: top;\n",
              "    }\n",
              "\n",
              "    .dataframe thead th {\n",
              "        text-align: right;\n",
              "    }\n",
              "</style>\n",
              "<table border=\"1\" class=\"dataframe\">\n",
              "  <thead>\n",
              "    <tr style=\"text-align: right;\">\n",
              "      <th></th>\n",
              "      <th>0</th>\n",
              "      <th>1</th>\n",
              "      <th>2</th>\n",
              "      <th>3</th>\n",
              "    </tr>\n",
              "  </thead>\n",
              "  <tbody>\n",
              "    <tr>\n",
              "      <th>0</th>\n",
              "      <td>a</td>\n",
              "      <td>b</td>\n",
              "      <td>c</td>\n",
              "      <td>&lt;NA&gt;</td>\n",
              "    </tr>\n",
              "    <tr>\n",
              "      <th>1</th>\n",
              "      <td>c</td>\n",
              "      <td>d</td>\n",
              "      <td>e</td>\n",
              "      <td>&lt;NA&gt;</td>\n",
              "    </tr>\n",
              "    <tr>\n",
              "      <th>2</th>\n",
              "      <td>&lt;NA&gt;</td>\n",
              "      <td>&lt;NA&gt;</td>\n",
              "      <td>&lt;NA&gt;</td>\n",
              "      <td>&lt;NA&gt;</td>\n",
              "    </tr>\n",
              "    <tr>\n",
              "      <th>3</th>\n",
              "      <td>f</td>\n",
              "      <td>g</td>\n",
              "      <td>h</td>\n",
              "      <td>k</td>\n",
              "    </tr>\n",
              "  </tbody>\n",
              "</table>\n",
              "</div>\n",
              "      <button class=\"colab-df-convert\" onclick=\"convertToInteractive('df-ccf8a07e-f549-443e-879f-3b01b4de16fa')\"\n",
              "              title=\"Convert this dataframe to an interactive table.\"\n",
              "              style=\"display:none;\">\n",
              "        \n",
              "  <svg xmlns=\"http://www.w3.org/2000/svg\" height=\"24px\"viewBox=\"0 0 24 24\"\n",
              "       width=\"24px\">\n",
              "    <path d=\"M0 0h24v24H0V0z\" fill=\"none\"/>\n",
              "    <path d=\"M18.56 5.44l.94 2.06.94-2.06 2.06-.94-2.06-.94-.94-2.06-.94 2.06-2.06.94zm-11 1L8.5 8.5l.94-2.06 2.06-.94-2.06-.94L8.5 2.5l-.94 2.06-2.06.94zm10 10l.94 2.06.94-2.06 2.06-.94-2.06-.94-.94-2.06-.94 2.06-2.06.94z\"/><path d=\"M17.41 7.96l-1.37-1.37c-.4-.4-.92-.59-1.43-.59-.52 0-1.04.2-1.43.59L10.3 9.45l-7.72 7.72c-.78.78-.78 2.05 0 2.83L4 21.41c.39.39.9.59 1.41.59.51 0 1.02-.2 1.41-.59l7.78-7.78 2.81-2.81c.8-.78.8-2.07 0-2.86zM5.41 20L4 18.59l7.72-7.72 1.47 1.35L5.41 20z\"/>\n",
              "  </svg>\n",
              "      </button>\n",
              "      \n",
              "  <style>\n",
              "    .colab-df-container {\n",
              "      display:flex;\n",
              "      flex-wrap:wrap;\n",
              "      gap: 12px;\n",
              "    }\n",
              "\n",
              "    .colab-df-convert {\n",
              "      background-color: #E8F0FE;\n",
              "      border: none;\n",
              "      border-radius: 50%;\n",
              "      cursor: pointer;\n",
              "      display: none;\n",
              "      fill: #1967D2;\n",
              "      height: 32px;\n",
              "      padding: 0 0 0 0;\n",
              "      width: 32px;\n",
              "    }\n",
              "\n",
              "    .colab-df-convert:hover {\n",
              "      background-color: #E2EBFA;\n",
              "      box-shadow: 0px 1px 2px rgba(60, 64, 67, 0.3), 0px 1px 3px 1px rgba(60, 64, 67, 0.15);\n",
              "      fill: #174EA6;\n",
              "    }\n",
              "\n",
              "    [theme=dark] .colab-df-convert {\n",
              "      background-color: #3B4455;\n",
              "      fill: #D2E3FC;\n",
              "    }\n",
              "\n",
              "    [theme=dark] .colab-df-convert:hover {\n",
              "      background-color: #434B5C;\n",
              "      box-shadow: 0px 1px 3px 1px rgba(0, 0, 0, 0.15);\n",
              "      filter: drop-shadow(0px 1px 2px rgba(0, 0, 0, 0.3));\n",
              "      fill: #FFFFFF;\n",
              "    }\n",
              "  </style>\n",
              "\n",
              "      <script>\n",
              "        const buttonEl =\n",
              "          document.querySelector('#df-ccf8a07e-f549-443e-879f-3b01b4de16fa button.colab-df-convert');\n",
              "        buttonEl.style.display =\n",
              "          google.colab.kernel.accessAllowed ? 'block' : 'none';\n",
              "\n",
              "        async function convertToInteractive(key) {\n",
              "          const element = document.querySelector('#df-ccf8a07e-f549-443e-879f-3b01b4de16fa');\n",
              "          const dataTable =\n",
              "            await google.colab.kernel.invokeFunction('convertToInteractive',\n",
              "                                                     [key], {});\n",
              "          if (!dataTable) return;\n",
              "\n",
              "          const docLinkHtml = 'Like what you see? Visit the ' +\n",
              "            '<a target=\"_blank\" href=https://colab.research.google.com/notebooks/data_table.ipynb>data table notebook</a>'\n",
              "            + ' to learn more about interactive tables.';\n",
              "          element.innerHTML = '';\n",
              "          dataTable['output_type'] = 'display_data';\n",
              "          await google.colab.output.renderOutput(dataTable, element);\n",
              "          const docLink = document.createElement('div');\n",
              "          docLink.innerHTML = docLinkHtml;\n",
              "          element.appendChild(docLink);\n",
              "        }\n",
              "      </script>\n",
              "    </div>\n",
              "  </div>\n",
              "  "
            ]
          },
          "metadata": {},
          "execution_count": 71
        }
      ],
      "source": [
        "#podemos expandir la lista a un dataframe\n",
        "s2.str.split(\"_\", expand=True)"
      ]
    },
    {
      "cell_type": "code",
      "execution_count": 72,
      "id": "official-consultation",
      "metadata": {
        "colab": {
          "base_uri": "https://localhost:8080/"
        },
        "id": "official-consultation",
        "outputId": "a25a0548-5588-407f-ef4a-0bcf3e274a49"
      },
      "outputs": [
        {
          "output_type": "execute_result",
          "data": {
            "text/plain": [
              "0       A\n",
              "1       B\n",
              "2       C\n",
              "3    Aaba\n",
              "4    Baca\n",
              "5        \n",
              "6    <NA>\n",
              "7    CABA\n",
              "8     dog\n",
              "9     cat\n",
              "dtype: string"
            ]
          },
          "metadata": {},
          "execution_count": 72
        }
      ],
      "source": [
        "s3 = pd.Series(\n",
        "     [\"A\", \"B\", \"C\", \"Aaba\", \"Baca\", \"\", np.nan, \"CABA\", \"dog\", \"cat\"],\n",
        "     dtype=\"string\",\n",
        " )\n",
        "s3"
      ]
    },
    {
      "cell_type": "code",
      "execution_count": 73,
      "id": "german-yesterday",
      "metadata": {
        "colab": {
          "base_uri": "https://localhost:8080/"
        },
        "id": "german-yesterday",
        "outputId": "d6fcef93-21d5-4d73-c76b-0552ab3dcbb3"
      },
      "outputs": [
        {
          "output_type": "execute_result",
          "data": {
            "text/plain": [
              "0       A\n",
              "1       B\n",
              "2       C\n",
              "3    AXbX\n",
              "4    BXcX\n",
              "5        \n",
              "6    <NA>\n",
              "7    CABA\n",
              "8     dog\n",
              "9     cXt\n",
              "dtype: string"
            ]
          },
          "metadata": {},
          "execution_count": 73
        }
      ],
      "source": [
        "#reemplazar texto\n",
        "s3.str.replace(\"a\", \"X\", case=True)"
      ]
    },
    {
      "cell_type": "code",
      "execution_count": 74,
      "id": "monthly-awareness",
      "metadata": {
        "colab": {
          "base_uri": "https://localhost:8080/"
        },
        "id": "monthly-awareness",
        "outputId": "d608ff81-360d-408b-d146-4416d2ec5988"
      },
      "outputs": [
        {
          "output_type": "execute_result",
          "data": {
            "text/plain": [
              "0    a\n",
              "1    b\n",
              "2    c\n",
              "3    d\n",
              "dtype: string"
            ]
          },
          "metadata": {},
          "execution_count": 74
        }
      ],
      "source": [
        "s = pd.Series([\"a\", \"b\", \"c\", \"d\"], dtype=\"string\")\n",
        "s"
      ]
    },
    {
      "cell_type": "code",
      "execution_count": 76,
      "id": "involved-service",
      "metadata": {
        "colab": {
          "base_uri": "https://localhost:8080/",
          "height": 35
        },
        "id": "involved-service",
        "outputId": "8d614570-a410-4170-fcb2-120c9f339432"
      },
      "outputs": [
        {
          "output_type": "execute_result",
          "data": {
            "text/plain": [
              "'a,b,c,d'"
            ],
            "application/vnd.google.colaboratory.intrinsic+json": {
              "type": "string"
            }
          },
          "metadata": {},
          "execution_count": 76
        }
      ],
      "source": [
        "#concatenar texto (elementos de una Serie)\n",
        "s.str.cat(sep=\",\")"
      ]
    },
    {
      "cell_type": "code",
      "execution_count": 77,
      "id": "sapphire-perth",
      "metadata": {
        "colab": {
          "base_uri": "https://localhost:8080/"
        },
        "id": "sapphire-perth",
        "outputId": "220d0d20-bf66-4ccc-92b2-b6038eaafe1b"
      },
      "outputs": [
        {
          "output_type": "execute_result",
          "data": {
            "text/plain": [
              "str"
            ]
          },
          "metadata": {},
          "execution_count": 77
        }
      ],
      "source": [
        "type(s.str.cat(sep=\",\"))"
      ]
    },
    {
      "cell_type": "code",
      "execution_count": 78,
      "id": "tutorial-quarter",
      "metadata": {
        "colab": {
          "base_uri": "https://localhost:8080/"
        },
        "id": "tutorial-quarter",
        "outputId": "3cd91859-f3ce-4e03-b4bd-9b293176002c"
      },
      "outputs": [
        {
          "output_type": "execute_result",
          "data": {
            "text/plain": [
              "0    aA\n",
              "1    bB\n",
              "2    cC\n",
              "3    dD\n",
              "dtype: string"
            ]
          },
          "metadata": {},
          "execution_count": 78
        }
      ],
      "source": [
        "#podemos concatenar los elementos de una Serie con otra de igual longitud\n",
        "s.str.cat([\"A\", \"B\", \"C\", \"D\"])"
      ]
    },
    {
      "cell_type": "markdown",
      "id": "million-terry",
      "metadata": {
        "id": "million-terry"
      },
      "source": [
        "Funciones de comparación: comprobar si un elemento contiene o empieza por un patrón"
      ]
    },
    {
      "cell_type": "code",
      "execution_count": 79,
      "id": "empty-substitute",
      "metadata": {
        "colab": {
          "base_uri": "https://localhost:8080/"
        },
        "id": "empty-substitute",
        "outputId": "165ff49e-6f39-463a-a3c7-264c1efd6275"
      },
      "outputs": [
        {
          "output_type": "execute_result",
          "data": {
            "text/plain": [
              "0       A\n",
              "1       B\n",
              "2       C\n",
              "3    Aaba\n",
              "4    Baca\n",
              "5        \n",
              "6    <NA>\n",
              "7    CABA\n",
              "8     dog\n",
              "9     cat\n",
              "dtype: string"
            ]
          },
          "metadata": {},
          "execution_count": 79
        }
      ],
      "source": [
        "s3"
      ]
    },
    {
      "cell_type": "code",
      "execution_count": 80,
      "id": "illegal-inventory",
      "metadata": {
        "colab": {
          "base_uri": "https://localhost:8080/"
        },
        "id": "illegal-inventory",
        "outputId": "31a83208-8f36-462f-ab4a-207fef969d94"
      },
      "outputs": [
        {
          "output_type": "execute_result",
          "data": {
            "text/plain": [
              "0     True\n",
              "1    False\n",
              "2    False\n",
              "3     True\n",
              "4    False\n",
              "5    False\n",
              "6     <NA>\n",
              "7    False\n",
              "8    False\n",
              "9    False\n",
              "dtype: boolean"
            ]
          },
          "metadata": {},
          "execution_count": 80
        }
      ],
      "source": [
        "s3.str.match(\"A\") #comienza por el patrón"
      ]
    },
    {
      "cell_type": "code",
      "execution_count": 81,
      "id": "attractive-cisco",
      "metadata": {
        "colab": {
          "base_uri": "https://localhost:8080/",
          "height": 363
        },
        "id": "attractive-cisco",
        "outputId": "9aa76e62-0749-47e5-92ab-7c02c5d5cca9"
      },
      "outputs": [
        {
          "output_type": "execute_result",
          "data": {
            "text/plain": [
              "      0      1\n",
              "0     A   True\n",
              "1     B  False\n",
              "2     C  False\n",
              "3  Aaba   True\n",
              "4  Baca  False\n",
              "5        False\n",
              "6  <NA>   <NA>\n",
              "7  CABA  False\n",
              "8   dog  False\n",
              "9   cat  False"
            ],
            "text/html": [
              "\n",
              "  <div id=\"df-d25c0145-0971-432b-9809-f95a1c5cb301\">\n",
              "    <div class=\"colab-df-container\">\n",
              "      <div>\n",
              "<style scoped>\n",
              "    .dataframe tbody tr th:only-of-type {\n",
              "        vertical-align: middle;\n",
              "    }\n",
              "\n",
              "    .dataframe tbody tr th {\n",
              "        vertical-align: top;\n",
              "    }\n",
              "\n",
              "    .dataframe thead th {\n",
              "        text-align: right;\n",
              "    }\n",
              "</style>\n",
              "<table border=\"1\" class=\"dataframe\">\n",
              "  <thead>\n",
              "    <tr style=\"text-align: right;\">\n",
              "      <th></th>\n",
              "      <th>0</th>\n",
              "      <th>1</th>\n",
              "    </tr>\n",
              "  </thead>\n",
              "  <tbody>\n",
              "    <tr>\n",
              "      <th>0</th>\n",
              "      <td>A</td>\n",
              "      <td>True</td>\n",
              "    </tr>\n",
              "    <tr>\n",
              "      <th>1</th>\n",
              "      <td>B</td>\n",
              "      <td>False</td>\n",
              "    </tr>\n",
              "    <tr>\n",
              "      <th>2</th>\n",
              "      <td>C</td>\n",
              "      <td>False</td>\n",
              "    </tr>\n",
              "    <tr>\n",
              "      <th>3</th>\n",
              "      <td>Aaba</td>\n",
              "      <td>True</td>\n",
              "    </tr>\n",
              "    <tr>\n",
              "      <th>4</th>\n",
              "      <td>Baca</td>\n",
              "      <td>False</td>\n",
              "    </tr>\n",
              "    <tr>\n",
              "      <th>5</th>\n",
              "      <td></td>\n",
              "      <td>False</td>\n",
              "    </tr>\n",
              "    <tr>\n",
              "      <th>6</th>\n",
              "      <td>&lt;NA&gt;</td>\n",
              "      <td>&lt;NA&gt;</td>\n",
              "    </tr>\n",
              "    <tr>\n",
              "      <th>7</th>\n",
              "      <td>CABA</td>\n",
              "      <td>False</td>\n",
              "    </tr>\n",
              "    <tr>\n",
              "      <th>8</th>\n",
              "      <td>dog</td>\n",
              "      <td>False</td>\n",
              "    </tr>\n",
              "    <tr>\n",
              "      <th>9</th>\n",
              "      <td>cat</td>\n",
              "      <td>False</td>\n",
              "    </tr>\n",
              "  </tbody>\n",
              "</table>\n",
              "</div>\n",
              "      <button class=\"colab-df-convert\" onclick=\"convertToInteractive('df-d25c0145-0971-432b-9809-f95a1c5cb301')\"\n",
              "              title=\"Convert this dataframe to an interactive table.\"\n",
              "              style=\"display:none;\">\n",
              "        \n",
              "  <svg xmlns=\"http://www.w3.org/2000/svg\" height=\"24px\"viewBox=\"0 0 24 24\"\n",
              "       width=\"24px\">\n",
              "    <path d=\"M0 0h24v24H0V0z\" fill=\"none\"/>\n",
              "    <path d=\"M18.56 5.44l.94 2.06.94-2.06 2.06-.94-2.06-.94-.94-2.06-.94 2.06-2.06.94zm-11 1L8.5 8.5l.94-2.06 2.06-.94-2.06-.94L8.5 2.5l-.94 2.06-2.06.94zm10 10l.94 2.06.94-2.06 2.06-.94-2.06-.94-.94-2.06-.94 2.06-2.06.94z\"/><path d=\"M17.41 7.96l-1.37-1.37c-.4-.4-.92-.59-1.43-.59-.52 0-1.04.2-1.43.59L10.3 9.45l-7.72 7.72c-.78.78-.78 2.05 0 2.83L4 21.41c.39.39.9.59 1.41.59.51 0 1.02-.2 1.41-.59l7.78-7.78 2.81-2.81c.8-.78.8-2.07 0-2.86zM5.41 20L4 18.59l7.72-7.72 1.47 1.35L5.41 20z\"/>\n",
              "  </svg>\n",
              "      </button>\n",
              "      \n",
              "  <style>\n",
              "    .colab-df-container {\n",
              "      display:flex;\n",
              "      flex-wrap:wrap;\n",
              "      gap: 12px;\n",
              "    }\n",
              "\n",
              "    .colab-df-convert {\n",
              "      background-color: #E8F0FE;\n",
              "      border: none;\n",
              "      border-radius: 50%;\n",
              "      cursor: pointer;\n",
              "      display: none;\n",
              "      fill: #1967D2;\n",
              "      height: 32px;\n",
              "      padding: 0 0 0 0;\n",
              "      width: 32px;\n",
              "    }\n",
              "\n",
              "    .colab-df-convert:hover {\n",
              "      background-color: #E2EBFA;\n",
              "      box-shadow: 0px 1px 2px rgba(60, 64, 67, 0.3), 0px 1px 3px 1px rgba(60, 64, 67, 0.15);\n",
              "      fill: #174EA6;\n",
              "    }\n",
              "\n",
              "    [theme=dark] .colab-df-convert {\n",
              "      background-color: #3B4455;\n",
              "      fill: #D2E3FC;\n",
              "    }\n",
              "\n",
              "    [theme=dark] .colab-df-convert:hover {\n",
              "      background-color: #434B5C;\n",
              "      box-shadow: 0px 1px 3px 1px rgba(0, 0, 0, 0.15);\n",
              "      filter: drop-shadow(0px 1px 2px rgba(0, 0, 0, 0.3));\n",
              "      fill: #FFFFFF;\n",
              "    }\n",
              "  </style>\n",
              "\n",
              "      <script>\n",
              "        const buttonEl =\n",
              "          document.querySelector('#df-d25c0145-0971-432b-9809-f95a1c5cb301 button.colab-df-convert');\n",
              "        buttonEl.style.display =\n",
              "          google.colab.kernel.accessAllowed ? 'block' : 'none';\n",
              "\n",
              "        async function convertToInteractive(key) {\n",
              "          const element = document.querySelector('#df-d25c0145-0971-432b-9809-f95a1c5cb301');\n",
              "          const dataTable =\n",
              "            await google.colab.kernel.invokeFunction('convertToInteractive',\n",
              "                                                     [key], {});\n",
              "          if (!dataTable) return;\n",
              "\n",
              "          const docLinkHtml = 'Like what you see? Visit the ' +\n",
              "            '<a target=\"_blank\" href=https://colab.research.google.com/notebooks/data_table.ipynb>data table notebook</a>'\n",
              "            + ' to learn more about interactive tables.';\n",
              "          element.innerHTML = '';\n",
              "          dataTable['output_type'] = 'display_data';\n",
              "          await google.colab.output.renderOutput(dataTable, element);\n",
              "          const docLink = document.createElement('div');\n",
              "          docLink.innerHTML = docLinkHtml;\n",
              "          element.appendChild(docLink);\n",
              "        }\n",
              "      </script>\n",
              "    </div>\n",
              "  </div>\n",
              "  "
            ]
          },
          "metadata": {},
          "execution_count": 81
        }
      ],
      "source": [
        "pd.concat([s3, s3.str.startswith(\"A\")], axis=1) #comienza por patrón"
      ]
    },
    {
      "cell_type": "code",
      "execution_count": 82,
      "id": "following-heating",
      "metadata": {
        "colab": {
          "base_uri": "https://localhost:8080/",
          "height": 363
        },
        "id": "following-heating",
        "outputId": "4ff8114a-b00b-4839-bea8-c5694944e123"
      },
      "outputs": [
        {
          "output_type": "execute_result",
          "data": {
            "text/plain": [
              "      0      1\n",
              "0     A   True\n",
              "1     B  False\n",
              "2     C  False\n",
              "3  Aaba   True\n",
              "4  Baca  False\n",
              "5        False\n",
              "6  <NA>   <NA>\n",
              "7  CABA   True\n",
              "8   dog  False\n",
              "9   cat  False"
            ],
            "text/html": [
              "\n",
              "  <div id=\"df-e1e9003a-dcd6-46b6-ba5a-252fa046e67c\">\n",
              "    <div class=\"colab-df-container\">\n",
              "      <div>\n",
              "<style scoped>\n",
              "    .dataframe tbody tr th:only-of-type {\n",
              "        vertical-align: middle;\n",
              "    }\n",
              "\n",
              "    .dataframe tbody tr th {\n",
              "        vertical-align: top;\n",
              "    }\n",
              "\n",
              "    .dataframe thead th {\n",
              "        text-align: right;\n",
              "    }\n",
              "</style>\n",
              "<table border=\"1\" class=\"dataframe\">\n",
              "  <thead>\n",
              "    <tr style=\"text-align: right;\">\n",
              "      <th></th>\n",
              "      <th>0</th>\n",
              "      <th>1</th>\n",
              "    </tr>\n",
              "  </thead>\n",
              "  <tbody>\n",
              "    <tr>\n",
              "      <th>0</th>\n",
              "      <td>A</td>\n",
              "      <td>True</td>\n",
              "    </tr>\n",
              "    <tr>\n",
              "      <th>1</th>\n",
              "      <td>B</td>\n",
              "      <td>False</td>\n",
              "    </tr>\n",
              "    <tr>\n",
              "      <th>2</th>\n",
              "      <td>C</td>\n",
              "      <td>False</td>\n",
              "    </tr>\n",
              "    <tr>\n",
              "      <th>3</th>\n",
              "      <td>Aaba</td>\n",
              "      <td>True</td>\n",
              "    </tr>\n",
              "    <tr>\n",
              "      <th>4</th>\n",
              "      <td>Baca</td>\n",
              "      <td>False</td>\n",
              "    </tr>\n",
              "    <tr>\n",
              "      <th>5</th>\n",
              "      <td></td>\n",
              "      <td>False</td>\n",
              "    </tr>\n",
              "    <tr>\n",
              "      <th>6</th>\n",
              "      <td>&lt;NA&gt;</td>\n",
              "      <td>&lt;NA&gt;</td>\n",
              "    </tr>\n",
              "    <tr>\n",
              "      <th>7</th>\n",
              "      <td>CABA</td>\n",
              "      <td>True</td>\n",
              "    </tr>\n",
              "    <tr>\n",
              "      <th>8</th>\n",
              "      <td>dog</td>\n",
              "      <td>False</td>\n",
              "    </tr>\n",
              "    <tr>\n",
              "      <th>9</th>\n",
              "      <td>cat</td>\n",
              "      <td>False</td>\n",
              "    </tr>\n",
              "  </tbody>\n",
              "</table>\n",
              "</div>\n",
              "      <button class=\"colab-df-convert\" onclick=\"convertToInteractive('df-e1e9003a-dcd6-46b6-ba5a-252fa046e67c')\"\n",
              "              title=\"Convert this dataframe to an interactive table.\"\n",
              "              style=\"display:none;\">\n",
              "        \n",
              "  <svg xmlns=\"http://www.w3.org/2000/svg\" height=\"24px\"viewBox=\"0 0 24 24\"\n",
              "       width=\"24px\">\n",
              "    <path d=\"M0 0h24v24H0V0z\" fill=\"none\"/>\n",
              "    <path d=\"M18.56 5.44l.94 2.06.94-2.06 2.06-.94-2.06-.94-.94-2.06-.94 2.06-2.06.94zm-11 1L8.5 8.5l.94-2.06 2.06-.94-2.06-.94L8.5 2.5l-.94 2.06-2.06.94zm10 10l.94 2.06.94-2.06 2.06-.94-2.06-.94-.94-2.06-.94 2.06-2.06.94z\"/><path d=\"M17.41 7.96l-1.37-1.37c-.4-.4-.92-.59-1.43-.59-.52 0-1.04.2-1.43.59L10.3 9.45l-7.72 7.72c-.78.78-.78 2.05 0 2.83L4 21.41c.39.39.9.59 1.41.59.51 0 1.02-.2 1.41-.59l7.78-7.78 2.81-2.81c.8-.78.8-2.07 0-2.86zM5.41 20L4 18.59l7.72-7.72 1.47 1.35L5.41 20z\"/>\n",
              "  </svg>\n",
              "      </button>\n",
              "      \n",
              "  <style>\n",
              "    .colab-df-container {\n",
              "      display:flex;\n",
              "      flex-wrap:wrap;\n",
              "      gap: 12px;\n",
              "    }\n",
              "\n",
              "    .colab-df-convert {\n",
              "      background-color: #E8F0FE;\n",
              "      border: none;\n",
              "      border-radius: 50%;\n",
              "      cursor: pointer;\n",
              "      display: none;\n",
              "      fill: #1967D2;\n",
              "      height: 32px;\n",
              "      padding: 0 0 0 0;\n",
              "      width: 32px;\n",
              "    }\n",
              "\n",
              "    .colab-df-convert:hover {\n",
              "      background-color: #E2EBFA;\n",
              "      box-shadow: 0px 1px 2px rgba(60, 64, 67, 0.3), 0px 1px 3px 1px rgba(60, 64, 67, 0.15);\n",
              "      fill: #174EA6;\n",
              "    }\n",
              "\n",
              "    [theme=dark] .colab-df-convert {\n",
              "      background-color: #3B4455;\n",
              "      fill: #D2E3FC;\n",
              "    }\n",
              "\n",
              "    [theme=dark] .colab-df-convert:hover {\n",
              "      background-color: #434B5C;\n",
              "      box-shadow: 0px 1px 3px 1px rgba(0, 0, 0, 0.15);\n",
              "      filter: drop-shadow(0px 1px 2px rgba(0, 0, 0, 0.3));\n",
              "      fill: #FFFFFF;\n",
              "    }\n",
              "  </style>\n",
              "\n",
              "      <script>\n",
              "        const buttonEl =\n",
              "          document.querySelector('#df-e1e9003a-dcd6-46b6-ba5a-252fa046e67c button.colab-df-convert');\n",
              "        buttonEl.style.display =\n",
              "          google.colab.kernel.accessAllowed ? 'block' : 'none';\n",
              "\n",
              "        async function convertToInteractive(key) {\n",
              "          const element = document.querySelector('#df-e1e9003a-dcd6-46b6-ba5a-252fa046e67c');\n",
              "          const dataTable =\n",
              "            await google.colab.kernel.invokeFunction('convertToInteractive',\n",
              "                                                     [key], {});\n",
              "          if (!dataTable) return;\n",
              "\n",
              "          const docLinkHtml = 'Like what you see? Visit the ' +\n",
              "            '<a target=\"_blank\" href=https://colab.research.google.com/notebooks/data_table.ipynb>data table notebook</a>'\n",
              "            + ' to learn more about interactive tables.';\n",
              "          element.innerHTML = '';\n",
              "          dataTable['output_type'] = 'display_data';\n",
              "          await google.colab.output.renderOutput(dataTable, element);\n",
              "          const docLink = document.createElement('div');\n",
              "          docLink.innerHTML = docLinkHtml;\n",
              "          element.appendChild(docLink);\n",
              "        }\n",
              "      </script>\n",
              "    </div>\n",
              "  </div>\n",
              "  "
            ]
          },
          "metadata": {},
          "execution_count": 82
        }
      ],
      "source": [
        "pd.concat([s3, s3.str.contains(\"A\")], axis=1) #contiene el patrón"
      ]
    },
    {
      "cell_type": "code",
      "execution_count": 83,
      "id": "internal-invitation",
      "metadata": {
        "colab": {
          "base_uri": "https://localhost:8080/",
          "height": 363
        },
        "id": "internal-invitation",
        "outputId": "6dcb7656-821d-4cea-ffba-7f250934b611"
      },
      "outputs": [
        {
          "output_type": "execute_result",
          "data": {
            "text/plain": [
              "      0      1\n",
              "0     A   True\n",
              "1     B  False\n",
              "2     C  False\n",
              "3  Aaba  False\n",
              "4  Baca  False\n",
              "5        False\n",
              "6  <NA>   <NA>\n",
              "7  CABA  False\n",
              "8   dog  False\n",
              "9   cat  False"
            ],
            "text/html": [
              "\n",
              "  <div id=\"df-23228b1b-3f81-4820-96aa-9690ffff711b\">\n",
              "    <div class=\"colab-df-container\">\n",
              "      <div>\n",
              "<style scoped>\n",
              "    .dataframe tbody tr th:only-of-type {\n",
              "        vertical-align: middle;\n",
              "    }\n",
              "\n",
              "    .dataframe tbody tr th {\n",
              "        vertical-align: top;\n",
              "    }\n",
              "\n",
              "    .dataframe thead th {\n",
              "        text-align: right;\n",
              "    }\n",
              "</style>\n",
              "<table border=\"1\" class=\"dataframe\">\n",
              "  <thead>\n",
              "    <tr style=\"text-align: right;\">\n",
              "      <th></th>\n",
              "      <th>0</th>\n",
              "      <th>1</th>\n",
              "    </tr>\n",
              "  </thead>\n",
              "  <tbody>\n",
              "    <tr>\n",
              "      <th>0</th>\n",
              "      <td>A</td>\n",
              "      <td>True</td>\n",
              "    </tr>\n",
              "    <tr>\n",
              "      <th>1</th>\n",
              "      <td>B</td>\n",
              "      <td>False</td>\n",
              "    </tr>\n",
              "    <tr>\n",
              "      <th>2</th>\n",
              "      <td>C</td>\n",
              "      <td>False</td>\n",
              "    </tr>\n",
              "    <tr>\n",
              "      <th>3</th>\n",
              "      <td>Aaba</td>\n",
              "      <td>False</td>\n",
              "    </tr>\n",
              "    <tr>\n",
              "      <th>4</th>\n",
              "      <td>Baca</td>\n",
              "      <td>False</td>\n",
              "    </tr>\n",
              "    <tr>\n",
              "      <th>5</th>\n",
              "      <td></td>\n",
              "      <td>False</td>\n",
              "    </tr>\n",
              "    <tr>\n",
              "      <th>6</th>\n",
              "      <td>&lt;NA&gt;</td>\n",
              "      <td>&lt;NA&gt;</td>\n",
              "    </tr>\n",
              "    <tr>\n",
              "      <th>7</th>\n",
              "      <td>CABA</td>\n",
              "      <td>False</td>\n",
              "    </tr>\n",
              "    <tr>\n",
              "      <th>8</th>\n",
              "      <td>dog</td>\n",
              "      <td>False</td>\n",
              "    </tr>\n",
              "    <tr>\n",
              "      <th>9</th>\n",
              "      <td>cat</td>\n",
              "      <td>False</td>\n",
              "    </tr>\n",
              "  </tbody>\n",
              "</table>\n",
              "</div>\n",
              "      <button class=\"colab-df-convert\" onclick=\"convertToInteractive('df-23228b1b-3f81-4820-96aa-9690ffff711b')\"\n",
              "              title=\"Convert this dataframe to an interactive table.\"\n",
              "              style=\"display:none;\">\n",
              "        \n",
              "  <svg xmlns=\"http://www.w3.org/2000/svg\" height=\"24px\"viewBox=\"0 0 24 24\"\n",
              "       width=\"24px\">\n",
              "    <path d=\"M0 0h24v24H0V0z\" fill=\"none\"/>\n",
              "    <path d=\"M18.56 5.44l.94 2.06.94-2.06 2.06-.94-2.06-.94-.94-2.06-.94 2.06-2.06.94zm-11 1L8.5 8.5l.94-2.06 2.06-.94-2.06-.94L8.5 2.5l-.94 2.06-2.06.94zm10 10l.94 2.06.94-2.06 2.06-.94-2.06-.94-.94-2.06-.94 2.06-2.06.94z\"/><path d=\"M17.41 7.96l-1.37-1.37c-.4-.4-.92-.59-1.43-.59-.52 0-1.04.2-1.43.59L10.3 9.45l-7.72 7.72c-.78.78-.78 2.05 0 2.83L4 21.41c.39.39.9.59 1.41.59.51 0 1.02-.2 1.41-.59l7.78-7.78 2.81-2.81c.8-.78.8-2.07 0-2.86zM5.41 20L4 18.59l7.72-7.72 1.47 1.35L5.41 20z\"/>\n",
              "  </svg>\n",
              "      </button>\n",
              "      \n",
              "  <style>\n",
              "    .colab-df-container {\n",
              "      display:flex;\n",
              "      flex-wrap:wrap;\n",
              "      gap: 12px;\n",
              "    }\n",
              "\n",
              "    .colab-df-convert {\n",
              "      background-color: #E8F0FE;\n",
              "      border: none;\n",
              "      border-radius: 50%;\n",
              "      cursor: pointer;\n",
              "      display: none;\n",
              "      fill: #1967D2;\n",
              "      height: 32px;\n",
              "      padding: 0 0 0 0;\n",
              "      width: 32px;\n",
              "    }\n",
              "\n",
              "    .colab-df-convert:hover {\n",
              "      background-color: #E2EBFA;\n",
              "      box-shadow: 0px 1px 2px rgba(60, 64, 67, 0.3), 0px 1px 3px 1px rgba(60, 64, 67, 0.15);\n",
              "      fill: #174EA6;\n",
              "    }\n",
              "\n",
              "    [theme=dark] .colab-df-convert {\n",
              "      background-color: #3B4455;\n",
              "      fill: #D2E3FC;\n",
              "    }\n",
              "\n",
              "    [theme=dark] .colab-df-convert:hover {\n",
              "      background-color: #434B5C;\n",
              "      box-shadow: 0px 1px 3px 1px rgba(0, 0, 0, 0.15);\n",
              "      filter: drop-shadow(0px 1px 2px rgba(0, 0, 0, 0.3));\n",
              "      fill: #FFFFFF;\n",
              "    }\n",
              "  </style>\n",
              "\n",
              "      <script>\n",
              "        const buttonEl =\n",
              "          document.querySelector('#df-23228b1b-3f81-4820-96aa-9690ffff711b button.colab-df-convert');\n",
              "        buttonEl.style.display =\n",
              "          google.colab.kernel.accessAllowed ? 'block' : 'none';\n",
              "\n",
              "        async function convertToInteractive(key) {\n",
              "          const element = document.querySelector('#df-23228b1b-3f81-4820-96aa-9690ffff711b');\n",
              "          const dataTable =\n",
              "            await google.colab.kernel.invokeFunction('convertToInteractive',\n",
              "                                                     [key], {});\n",
              "          if (!dataTable) return;\n",
              "\n",
              "          const docLinkHtml = 'Like what you see? Visit the ' +\n",
              "            '<a target=\"_blank\" href=https://colab.research.google.com/notebooks/data_table.ipynb>data table notebook</a>'\n",
              "            + ' to learn more about interactive tables.';\n",
              "          element.innerHTML = '';\n",
              "          dataTable['output_type'] = 'display_data';\n",
              "          await google.colab.output.renderOutput(dataTable, element);\n",
              "          const docLink = document.createElement('div');\n",
              "          docLink.innerHTML = docLinkHtml;\n",
              "          element.appendChild(docLink);\n",
              "        }\n",
              "      </script>\n",
              "    </div>\n",
              "  </div>\n",
              "  "
            ]
          },
          "metadata": {},
          "execution_count": 83
        }
      ],
      "source": [
        "pd.concat([s3, s3.str.fullmatch(\"A\")], axis=1) #es igual al patrón"
      ]
    },
    {
      "cell_type": "markdown",
      "id": "selected-elder",
      "metadata": {
        "id": "selected-elder"
      },
      "source": [
        "El listado completo de métodos para *strings* está en https://pandas.pydata.org/pandas-docs/stable/user_guide/text.html#method-summary"
      ]
    },
    {
      "cell_type": "markdown",
      "id": "stylish-empty",
      "metadata": {
        "id": "stylish-empty"
      },
      "source": [
        "## Generator comprenhension y List comprenhension"
      ]
    },
    {
      "cell_type": "code",
      "source": [
        "#ITERADOR\n",
        "x = [0, 1, 2, 3, 4]\n",
        "for i in x:\n",
        "  print(i)"
      ],
      "metadata": {
        "colab": {
          "base_uri": "https://localhost:8080/"
        },
        "id": "aS7Np0BFD3DD",
        "outputId": "31d94d00-541a-40f3-dca7-68c0f8cbd9b2"
      },
      "id": "aS7Np0BFD3DD",
      "execution_count": 116,
      "outputs": [
        {
          "output_type": "stream",
          "name": "stdout",
          "text": [
            "0\n",
            "1\n",
            "2\n",
            "3\n",
            "4\n"
          ]
        }
      ]
    },
    {
      "cell_type": "code",
      "source": [
        "#GENERADOR - no ocupa memoria \"ram\"\n",
        "#internamente tiene un puntero que apunta al elemento historiable que tiene que devolver.\n",
        "#al llegar al ultimo ya no vuelve al principio\n",
        "def eleva_cuadrado(lista): \n",
        "  for i in lista:\n",
        "    yield i**2\n",
        "\n",
        "cuadrado = eleva_cuadrado(x)\n",
        "print(cuadrado)\n",
        "\n",
        "for i in cuadrado:\n",
        "  print(i)"
      ],
      "metadata": {
        "colab": {
          "base_uri": "https://localhost:8080/"
        },
        "id": "6rMwCGvND_bI",
        "outputId": "8f76d422-8d2c-4cba-a6b4-5eef269af57b"
      },
      "id": "6rMwCGvND_bI",
      "execution_count": 119,
      "outputs": [
        {
          "output_type": "stream",
          "name": "stdout",
          "text": [
            "<generator object eleva_cuadrado at 0x7f802d1b2f50>\n",
            "0\n",
            "1\n",
            "4\n",
            "9\n",
            "16\n"
          ]
        }
      ]
    },
    {
      "cell_type": "code",
      "execution_count": 84,
      "id": "noted-hurricane",
      "metadata": {
        "id": "noted-hurricane"
      },
      "outputs": [],
      "source": [
        "#la función range es un caso especial de generator\n",
        "x=range(10)"
      ]
    },
    {
      "cell_type": "code",
      "execution_count": 85,
      "id": "civil-conjunction",
      "metadata": {
        "colab": {
          "base_uri": "https://localhost:8080/"
        },
        "id": "civil-conjunction",
        "outputId": "5ba09a50-4c51-43c5-ae25-dc1ce93bba25"
      },
      "outputs": [
        {
          "output_type": "execute_result",
          "data": {
            "text/plain": [
              "range(0, 10)"
            ]
          },
          "metadata": {},
          "execution_count": 85
        }
      ],
      "source": [
        "x"
      ]
    },
    {
      "cell_type": "code",
      "execution_count": 86,
      "id": "previous-motel",
      "metadata": {
        "colab": {
          "base_uri": "https://localhost:8080/"
        },
        "id": "previous-motel",
        "outputId": "09622d02-42c5-4b75-cdd2-645398990bf9"
      },
      "outputs": [
        {
          "output_type": "stream",
          "name": "stdout",
          "text": [
            "0\n",
            "1\n",
            "2\n",
            "3\n",
            "4\n",
            "5\n",
            "6\n",
            "7\n",
            "8\n",
            "9\n"
          ]
        }
      ],
      "source": [
        "#los generadores son iterables\n",
        "for i in x:\n",
        "    print(i)"
      ]
    },
    {
      "cell_type": "code",
      "execution_count": 87,
      "id": "continued-blond",
      "metadata": {
        "colab": {
          "base_uri": "https://localhost:8080/"
        },
        "id": "continued-blond",
        "outputId": "e2f0c46d-76e4-4551-dea8-c24d6f63e361"
      },
      "outputs": [
        {
          "output_type": "execute_result",
          "data": {
            "text/plain": [
              "<generator object <genexpr> at 0x7f802d1ed550>"
            ]
          },
          "metadata": {},
          "execution_count": 87
        }
      ],
      "source": [
        "#generator comprenhension\n",
        "gen = (i**2 for i in range(10))\n",
        "gen"
      ]
    },
    {
      "cell_type": "markdown",
      "id": "functioning-chicago",
      "metadata": {
        "id": "functioning-chicago"
      },
      "source": [
        "Los `generator` se pueden recorrer con un bucle `for` pero también con la función `next()`.  "
      ]
    },
    {
      "cell_type": "code",
      "execution_count": 88,
      "id": "scientific-trash",
      "metadata": {
        "colab": {
          "base_uri": "https://localhost:8080/"
        },
        "id": "scientific-trash",
        "outputId": "7b27620e-0a69-4eb1-d236-f216e9935e6e"
      },
      "outputs": [
        {
          "output_type": "execute_result",
          "data": {
            "text/plain": [
              "0"
            ]
          },
          "metadata": {},
          "execution_count": 88
        }
      ],
      "source": [
        "next(gen)"
      ]
    },
    {
      "cell_type": "markdown",
      "id": "statutory-harvard",
      "metadata": {
        "id": "statutory-harvard"
      },
      "source": [
        "Los `generator` se consumen al iterar sobre ellos, por lo que no es posible volver a generar el mismo miembro. En el siguiente bucle se comienza por el 2º elemento"
      ]
    },
    {
      "cell_type": "code",
      "execution_count": 89,
      "id": "sustainable-mileage",
      "metadata": {
        "colab": {
          "base_uri": "https://localhost:8080/"
        },
        "id": "sustainable-mileage",
        "outputId": "27c0ab40-d197-486f-b993-b2246ddf95bd"
      },
      "outputs": [
        {
          "output_type": "stream",
          "name": "stdout",
          "text": [
            "1\n",
            "4\n",
            "9\n",
            "16\n",
            "25\n",
            "36\n",
            "49\n",
            "64\n",
            "81\n"
          ]
        }
      ],
      "source": [
        "for i in gen:\n",
        "    print(i)"
      ]
    },
    {
      "cell_type": "code",
      "execution_count": 90,
      "id": "worst-former",
      "metadata": {
        "colab": {
          "base_uri": "https://localhost:8080/"
        },
        "id": "worst-former",
        "outputId": "fc6492fb-5041-4412-cb87-3f9feeb16b71"
      },
      "outputs": [
        {
          "output_type": "execute_result",
          "data": {
            "text/plain": [
              "128"
            ]
          },
          "metadata": {},
          "execution_count": 90
        }
      ],
      "source": [
        "import sys\n",
        "sys.getsizeof(gen)"
      ]
    },
    {
      "cell_type": "markdown",
      "id": "warming-mandate",
      "metadata": {
        "id": "warming-mandate"
      },
      "source": [
        "Podemos volcar los contenidos de un iterador (o generador) a una lista, que sí ocupa memoria por cada uno de sus elementos."
      ]
    },
    {
      "cell_type": "code",
      "execution_count": 91,
      "id": "mounted-shame",
      "metadata": {
        "id": "mounted-shame"
      },
      "outputs": [],
      "source": [
        "gen = (i**2 for i in range(10))\n",
        "lista_gen = list(gen)"
      ]
    },
    {
      "cell_type": "code",
      "source": [
        "next(gen) \n",
        "# cada intro recore una posición, una vez recorrida una posición ya se ha comsumido"
      ],
      "metadata": {
        "colab": {
          "base_uri": "https://localhost:8080/"
        },
        "id": "jTGJ5zgeFdCL",
        "outputId": "19a2d91c-d817-4587-87b3-8405e73444be"
      },
      "id": "jTGJ5zgeFdCL",
      "execution_count": 123,
      "outputs": [
        {
          "output_type": "execute_result",
          "data": {
            "text/plain": [
              "1"
            ]
          },
          "metadata": {},
          "execution_count": 123
        }
      ]
    },
    {
      "cell_type": "code",
      "execution_count": 124,
      "id": "ignored-macintosh",
      "metadata": {
        "collapsed": true,
        "jupyter": {
          "outputs_hidden": true
        },
        "colab": {
          "base_uri": "https://localhost:8080/"
        },
        "id": "ignored-macintosh",
        "outputId": "5fb53532-acea-4f48-d33f-e88986061406"
      },
      "outputs": [
        {
          "output_type": "execute_result",
          "data": {
            "text/plain": [
              "[0, 1, 4, 9, 16, 25, 36, 49, 64, 81]"
            ]
          },
          "metadata": {},
          "execution_count": 124
        }
      ],
      "source": [
        "lista_gen"
      ]
    },
    {
      "cell_type": "code",
      "execution_count": 93,
      "id": "victorian-nebraska",
      "metadata": {
        "colab": {
          "base_uri": "https://localhost:8080/"
        },
        "id": "victorian-nebraska",
        "outputId": "8352b006-5c6f-4175-e2fc-578dc2af3e61"
      },
      "outputs": [
        {
          "output_type": "execute_result",
          "data": {
            "text/plain": [
              "128"
            ]
          },
          "metadata": {},
          "execution_count": 93
        }
      ],
      "source": [
        "sys.getsizeof(gen)"
      ]
    },
    {
      "cell_type": "code",
      "execution_count": 94,
      "id": "overall-precipitation",
      "metadata": {
        "colab": {
          "base_uri": "https://localhost:8080/"
        },
        "id": "overall-precipitation",
        "outputId": "b20ec550-d102-48fa-db41-189c3cbb3c0d"
      },
      "outputs": [
        {
          "output_type": "execute_result",
          "data": {
            "text/plain": [
              "168"
            ]
          },
          "metadata": {},
          "execution_count": 94
        }
      ],
      "source": [
        "sys.getsizeof(lista_gen)"
      ]
    },
    {
      "cell_type": "code",
      "execution_count": 95,
      "id": "august-interval",
      "metadata": {
        "id": "august-interval"
      },
      "outputs": [],
      "source": [
        "#lo anterior equivale a un list comprenhension de los mismos valores\n",
        "lista = [i**2 for i in range(10)]"
      ]
    },
    {
      "cell_type": "code",
      "execution_count": 96,
      "id": "black-compact",
      "metadata": {
        "colab": {
          "base_uri": "https://localhost:8080/"
        },
        "id": "black-compact",
        "outputId": "bd2bd643-75a7-4f65-a98b-bf494535ea96"
      },
      "outputs": [
        {
          "output_type": "execute_result",
          "data": {
            "text/plain": [
              "[0, 1, 4, 9, 16, 25, 36, 49, 64, 81]"
            ]
          },
          "metadata": {},
          "execution_count": 96
        }
      ],
      "source": [
        "lista"
      ]
    },
    {
      "cell_type": "code",
      "execution_count": 125,
      "id": "played-disney",
      "metadata": {
        "id": "played-disney"
      },
      "outputs": [],
      "source": [
        "#un iterator es un objeto iterable que implementa el método next()\n",
        "gen_lista = iter(lista)"
      ]
    },
    {
      "cell_type": "code",
      "execution_count": 127,
      "id": "available-costume",
      "metadata": {
        "colab": {
          "base_uri": "https://localhost:8080/"
        },
        "id": "available-costume",
        "outputId": "778bfba4-9bd6-46de-e3c6-2c2797ed28de"
      },
      "outputs": [
        {
          "output_type": "execute_result",
          "data": {
            "text/plain": [
              "<list_iterator at 0x7f802d1ef290>"
            ]
          },
          "metadata": {},
          "execution_count": 127
        }
      ],
      "source": [
        "gen_lista"
      ]
    },
    {
      "cell_type": "code",
      "execution_count": 129,
      "id": "established-reality",
      "metadata": {
        "colab": {
          "base_uri": "https://localhost:8080/"
        },
        "id": "established-reality",
        "outputId": "6343054a-7b5d-4d66-9be9-6d92aa95d836"
      },
      "outputs": [
        {
          "output_type": "execute_result",
          "data": {
            "text/plain": [
              "4"
            ]
          },
          "metadata": {},
          "execution_count": 129
        }
      ],
      "source": [
        "next(gen_lista) # de esta manera no recorro entero el \"bucle\""
      ]
    },
    {
      "cell_type": "code",
      "execution_count": 130,
      "id": "curious-outline",
      "metadata": {
        "colab": {
          "base_uri": "https://localhost:8080/"
        },
        "id": "curious-outline",
        "outputId": "32f461ee-0a10-4ec1-d661-da54fc579975"
      },
      "outputs": [
        {
          "output_type": "execute_result",
          "data": {
            "text/plain": [
              "9"
            ]
          },
          "metadata": {},
          "execution_count": 130
        }
      ],
      "source": [
        "next(gen_lista)"
      ]
    },
    {
      "cell_type": "code",
      "execution_count": 101,
      "id": "bizarre-darkness",
      "metadata": {
        "colab": {
          "base_uri": "https://localhost:8080/"
        },
        "id": "bizarre-darkness",
        "outputId": "0d299d26-1e19-4030-9ac0-4ad263a416ca"
      },
      "outputs": [
        {
          "output_type": "stream",
          "name": "stdout",
          "text": [
            "4\n",
            "9\n",
            "16\n",
            "25\n",
            "36\n",
            "49\n",
            "64\n",
            "81\n"
          ]
        }
      ],
      "source": [
        "for i in gen_lista:\n",
        "    print(i)"
      ]
    },
    {
      "cell_type": "code",
      "execution_count": 102,
      "id": "affiliated-privacy",
      "metadata": {
        "colab": {
          "base_uri": "https://localhost:8080/"
        },
        "id": "affiliated-privacy",
        "outputId": "32047bae-3f07-45a0-a2ee-80c80e3db544"
      },
      "outputs": [
        {
          "output_type": "execute_result",
          "data": {
            "text/plain": [
              "64"
            ]
          },
          "metadata": {},
          "execution_count": 102
        }
      ],
      "source": [
        "sys.getsizeof(gen_lista)"
      ]
    },
    {
      "cell_type": "code",
      "execution_count": 103,
      "id": "acting-ending",
      "metadata": {
        "id": "acting-ending"
      },
      "outputs": [],
      "source": [
        "#también podemos generar tuplas con los generadores\n",
        "gen = ((i, i**2) for i in range(10))"
      ]
    },
    {
      "cell_type": "code",
      "execution_count": 104,
      "id": "alpine-directory",
      "metadata": {
        "colab": {
          "base_uri": "https://localhost:8080/"
        },
        "id": "alpine-directory",
        "outputId": "d498469d-204e-45e1-cda5-3e7d5aedcdf3"
      },
      "outputs": [
        {
          "output_type": "execute_result",
          "data": {
            "text/plain": [
              "128"
            ]
          },
          "metadata": {},
          "execution_count": 104
        }
      ],
      "source": [
        "sys.getsizeof(gen)"
      ]
    },
    {
      "cell_type": "code",
      "execution_count": 105,
      "id": "duplicate-civilian",
      "metadata": {
        "colab": {
          "base_uri": "https://localhost:8080/"
        },
        "id": "duplicate-civilian",
        "outputId": "0dffcf3a-530c-4c6e-add3-e8513daab4c4"
      },
      "outputs": [
        {
          "output_type": "stream",
          "name": "stdout",
          "text": [
            "(0, 0)\n",
            "(1, 1)\n",
            "(2, 4)\n",
            "(3, 9)\n",
            "(4, 16)\n",
            "(5, 25)\n",
            "(6, 36)\n",
            "(7, 49)\n",
            "(8, 64)\n",
            "(9, 81)\n"
          ]
        }
      ],
      "source": [
        "for i in gen:\n",
        "    print(i)\n"
      ]
    },
    {
      "cell_type": "code",
      "execution_count": 106,
      "id": "impossible-cruise",
      "metadata": {
        "colab": {
          "base_uri": "https://localhost:8080/"
        },
        "id": "impossible-cruise",
        "outputId": "0d090627-f092-44b3-c48f-9d8bd4b647c5"
      },
      "outputs": [
        {
          "output_type": "stream",
          "name": "stdout",
          "text": [
            "El cuadrado de 0 es 0\n",
            "El cuadrado de 1 es 1\n",
            "El cuadrado de 2 es 4\n",
            "El cuadrado de 3 es 9\n",
            "El cuadrado de 4 es 16\n",
            "El cuadrado de 5 es 25\n",
            "El cuadrado de 6 es 36\n",
            "El cuadrado de 7 es 49\n",
            "El cuadrado de 8 es 64\n",
            "El cuadrado de 9 es 81\n"
          ]
        }
      ],
      "source": [
        "for i,j in ((i, i**2) for i in range(10)):\n",
        "    print(f\"El cuadrado de {i} es {j}\")"
      ]
    },
    {
      "cell_type": "markdown",
      "id": "nuclear-hawaii",
      "metadata": {
        "id": "nuclear-hawaii"
      },
      "source": [
        "### Enumerating iterables\n",
        "The built-in enumerate function allows us to iterate over an iterable, while keeping track of the iteration count"
      ]
    },
    {
      "cell_type": "code",
      "execution_count": 107,
      "id": "attached-piano",
      "metadata": {
        "colab": {
          "base_uri": "https://localhost:8080/"
        },
        "id": "attached-piano",
        "outputId": "bf6c537d-9dd1-4c23-f1f5-1d2e256681c2"
      },
      "outputs": [
        {
          "output_type": "execute_result",
          "data": {
            "text/plain": [
              "<enumerate at 0x7f802d199fa0>"
            ]
          },
          "metadata": {},
          "execution_count": 107
        }
      ],
      "source": [
        "enumerate(lista)"
      ]
    },
    {
      "cell_type": "code",
      "execution_count": 108,
      "id": "intimate-chicago",
      "metadata": {
        "colab": {
          "base_uri": "https://localhost:8080/"
        },
        "id": "intimate-chicago",
        "outputId": "c1731fa2-0e0f-43d3-fa93-1ba4cd2141f1"
      },
      "outputs": [
        {
          "output_type": "stream",
          "name": "stdout",
          "text": [
            "0 Texto\n",
            "1 'normal'\n",
            "2 en\n",
            "3 Python\n"
          ]
        }
      ],
      "source": [
        "for i,j in enumerate(lista2):\n",
        "    print(i,j)"
      ]
    },
    {
      "cell_type": "code",
      "execution_count": 109,
      "id": "molecular-medication",
      "metadata": {
        "colab": {
          "base_uri": "https://localhost:8080/"
        },
        "id": "molecular-medication",
        "outputId": "48d7df81-8bd3-464a-ff73-40fe5c17e421"
      },
      "outputs": [
        {
          "output_type": "stream",
          "name": "stdout",
          "text": [
            "Palabra 0: Esta\n",
            "Palabra 1: es\n",
            "Palabra 2: una\n",
            "Palabra 3: frase\n"
          ]
        }
      ],
      "source": [
        "for (i, p) in enumerate(\"Esta es una frase\".split(' ')):\n",
        "    print(f\"Palabra {i}: {p}\")"
      ]
    },
    {
      "cell_type": "markdown",
      "id": "psychological-coordination",
      "metadata": {
        "id": "psychological-coordination"
      },
      "source": [
        "Podemos usar una expresión `if-else` dentro de la *comprenhension*"
      ]
    },
    {
      "cell_type": "code",
      "execution_count": 110,
      "id": "nuclear-musical",
      "metadata": {
        "colab": {
          "base_uri": "https://localhost:8080/"
        },
        "id": "nuclear-musical",
        "outputId": "89a90f35-29f9-4f28-9ab7-530c2bc0078c"
      },
      "outputs": [
        {
          "output_type": "execute_result",
          "data": {
            "text/plain": [
              "['par',\n",
              " 'impar',\n",
              " 'par',\n",
              " 'impar',\n",
              " 'par',\n",
              " 'impar',\n",
              " 'par',\n",
              " 'impar',\n",
              " 'par',\n",
              " 'impar']"
            ]
          },
          "metadata": {},
          "execution_count": 110
        }
      ],
      "source": [
        "['impar' if i%2 else 'par' for i in range(10)] \n",
        "#recorro todos los elementos, pero que me devuelva si es par o impar"
      ]
    },
    {
      "cell_type": "code",
      "execution_count": 111,
      "id": "raising-schema",
      "metadata": {
        "colab": {
          "base_uri": "https://localhost:8080/"
        },
        "id": "raising-schema",
        "outputId": "a020e60d-8009-4cfd-807c-6e1c9e29000e"
      },
      "outputs": [
        {
          "output_type": "execute_result",
          "data": {
            "text/plain": [
              "[(0, 'par'),\n",
              " (1, 'impar'),\n",
              " (2, 'par'),\n",
              " (3, 'impar'),\n",
              " (4, 'par'),\n",
              " (5, 'impar'),\n",
              " (6, 'par'),\n",
              " (7, 'impar'),\n",
              " (8, 'par'),\n",
              " (9, 'impar')]"
            ]
          },
          "metadata": {},
          "execution_count": 111
        }
      ],
      "source": [
        "#devolviendo una tupla con (valor, par/impar)\n",
        "[(i,'impar' if i%2 else 'par') for i in range(10)]"
      ]
    },
    {
      "cell_type": "code",
      "execution_count": 112,
      "id": "resident-essex",
      "metadata": {
        "colab": {
          "base_uri": "https://localhost:8080/"
        },
        "id": "resident-essex",
        "outputId": "c8a1de20-7d14-432e-cd5e-6d3e79b902cf"
      },
      "outputs": [
        {
          "output_type": "execute_result",
          "data": {
            "text/plain": [
              "['en', 'PYTHON']"
            ]
          },
          "metadata": {},
          "execution_count": 112
        }
      ],
      "source": [
        "#podemos combinar con funciones sobre str\n",
        "[c.upper() if len(c)>3 else c for c in lista2 if c.endswith('n')]"
      ]
    },
    {
      "cell_type": "code",
      "execution_count": 113,
      "id": "local-deviation",
      "metadata": {
        "id": "local-deviation"
      },
      "outputs": [],
      "source": [
        "#también lo podemos hacer sobre un generador\n",
        "gen = (c.upper() if len(c)>3 else c for c in lista2 if c.endswith('n'))"
      ]
    },
    {
      "cell_type": "code",
      "execution_count": 114,
      "id": "standing-organizer",
      "metadata": {
        "colab": {
          "base_uri": "https://localhost:8080/"
        },
        "id": "standing-organizer",
        "outputId": "f060aedb-e27b-4b60-d611-682393ffae9e"
      },
      "outputs": [
        {
          "output_type": "execute_result",
          "data": {
            "text/plain": [
              "<generator object <genexpr> at 0x7f802d1eded0>"
            ]
          },
          "metadata": {},
          "execution_count": 114
        }
      ],
      "source": [
        "gen"
      ]
    },
    {
      "cell_type": "code",
      "execution_count": 115,
      "id": "ancient-spray",
      "metadata": {
        "colab": {
          "base_uri": "https://localhost:8080/"
        },
        "id": "ancient-spray",
        "outputId": "006e6c89-c605-4f81-b9ac-e948042b4ac5"
      },
      "outputs": [
        {
          "output_type": "stream",
          "name": "stdout",
          "text": [
            "en\n",
            "PYTHON\n"
          ]
        }
      ],
      "source": [
        "for i in gen:\n",
        "    print(i)"
      ]
    },
    {
      "cell_type": "code",
      "execution_count": 115,
      "id": "devoted-delhi",
      "metadata": {
        "id": "devoted-delhi"
      },
      "outputs": [],
      "source": [
        ""
      ]
    }
  ],
  "metadata": {
    "kernelspec": {
      "display_name": "Python 3",
      "language": "python",
      "name": "python3"
    },
    "language_info": {
      "codemirror_mode": {
        "name": "ipython",
        "version": 3
      },
      "file_extension": ".py",
      "mimetype": "text/x-python",
      "name": "python",
      "nbconvert_exporter": "python",
      "pygments_lexer": "ipython3",
      "version": "3.8.8"
    },
    "colab": {
      "name": "NLP_01-Uso de texto en Python.ipynb",
      "provenance": [],
      "include_colab_link": true
    }
  },
  "nbformat": 4,
  "nbformat_minor": 5
}