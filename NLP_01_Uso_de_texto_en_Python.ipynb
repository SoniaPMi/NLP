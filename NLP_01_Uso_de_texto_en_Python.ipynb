{
  "cells": [
    {
      "cell_type": "markdown",
      "metadata": {
        "id": "view-in-github",
        "colab_type": "text"
      },
      "source": [
        "<a href=\"https://colab.research.google.com/github/SoniaPMi/NLP/blob/main/NLP_01_Uso_de_texto_en_Python.ipynb\" target=\"_parent\"><img src=\"https://colab.research.google.com/assets/colab-badge.svg\" alt=\"Open In Colab\"/></a>"
      ]
    },
    {
      "cell_type": "markdown",
      "id": "german-basic",
      "metadata": {
        "id": "german-basic"
      },
      "source": [
        "## Uso de texto en Python\n",
        "Declaración de variables de tipo `string`"
      ]
    },
    {
      "cell_type": "code",
      "execution_count": 1,
      "id": "sized-membership",
      "metadata": {
        "id": "sized-membership"
      },
      "outputs": [],
      "source": [
        "texto = \"Texto 'normal' en Python\""
      ]
    },
    {
      "cell_type": "code",
      "execution_count": 2,
      "id": "quiet-eleven",
      "metadata": {
        "colab": {
          "base_uri": "https://localhost:8080/"
        },
        "id": "quiet-eleven",
        "outputId": "f4df0b79-8ed7-4654-c1c9-170fdf2d675c"
      },
      "outputs": [
        {
          "output_type": "execute_result",
          "data": {
            "text/plain": [
              "str"
            ]
          },
          "metadata": {},
          "execution_count": 2
        }
      ],
      "source": [
        "type(texto)"
      ]
    },
    {
      "cell_type": "code",
      "execution_count": 3,
      "id": "lightweight-assist",
      "metadata": {
        "colab": {
          "base_uri": "https://localhost:8080/"
        },
        "id": "lightweight-assist",
        "outputId": "fb963214-d0e7-43dc-fa59-dd0ad16eee5c"
      },
      "outputs": [
        {
          "output_type": "execute_result",
          "data": {
            "text/plain": [
              "24"
            ]
          },
          "metadata": {},
          "execution_count": 3
        }
      ],
      "source": [
        "len(texto) #iterable, puede recorerse elemento a elemento con un bucle"
      ]
    },
    {
      "cell_type": "markdown",
      "id": "previous-corruption",
      "metadata": {
        "id": "previous-corruption"
      },
      "source": [
        "Los objetos de tipo `string` son elementos iterables compuestos por sus caracteres:"
      ]
    },
    {
      "cell_type": "code",
      "execution_count": 4,
      "id": "appreciated-testimony",
      "metadata": {
        "colab": {
          "base_uri": "https://localhost:8080/"
        },
        "id": "appreciated-testimony",
        "outputId": "300eefcf-0ed1-4425-baec-4e057456982e"
      },
      "outputs": [
        {
          "output_type": "stream",
          "name": "stdout",
          "text": [
            "T\n",
            "e\n",
            "x\n",
            "t\n",
            "o\n",
            " \n",
            "'\n",
            "n\n",
            "o\n",
            "r\n",
            "m\n",
            "a\n",
            "l\n",
            "'\n",
            " \n",
            "e\n",
            "n\n",
            " \n",
            "P\n",
            "y\n",
            "t\n",
            "h\n",
            "o\n",
            "n\n"
          ]
        }
      ],
      "source": [
        "for t in texto:\n",
        "    print(t)"
      ]
    },
    {
      "cell_type": "code",
      "execution_count": 5,
      "id": "handed-offset",
      "metadata": {
        "colab": {
          "base_uri": "https://localhost:8080/",
          "height": 35
        },
        "id": "handed-offset",
        "outputId": "2f8667ad-d9e2-447e-ee00-1953f1ff1672"
      },
      "outputs": [
        {
          "output_type": "execute_result",
          "data": {
            "text/plain": [
              "'Texto'"
            ],
            "application/vnd.google.colaboratory.intrinsic+json": {
              "type": "string"
            }
          },
          "metadata": {},
          "execution_count": 5
        }
      ],
      "source": [
        "#podemos indexar cada elemento (caracter) del texto\n",
        "texto[0:5]"
      ]
    },
    {
      "cell_type": "code",
      "execution_count": 6,
      "id": "later-witch",
      "metadata": {
        "colab": {
          "base_uri": "https://localhost:8080/"
        },
        "id": "later-witch",
        "outputId": "1e2c5a83-e2bf-4e88-c11e-1743e59645c5"
      },
      "outputs": [
        {
          "output_type": "stream",
          "name": "stdout",
          "text": [
            "['T', 'e', 'x', 't', 'o', ' ', \"'\", 'n', 'o', 'r', 'm', 'a', 'l', \"'\", ' ', 'e', 'n', ' ', 'P', 'y', 't', 'h', 'o', 'n']\n"
          ]
        }
      ],
      "source": [
        "#los iterables también se recorren como list comprehension:\n",
        "lista = [t for t in texto]\n",
        "print(lista)"
      ]
    },
    {
      "cell_type": "markdown",
      "id": "aerial-fleece",
      "metadata": {
        "id": "aerial-fleece"
      },
      "source": [
        "*Nota:* Las list comprenhension se ven en detalle al final del notebook."
      ]
    },
    {
      "cell_type": "code",
      "execution_count": null,
      "id": "compact-process",
      "metadata": {
        "colab": {
          "base_uri": "https://localhost:8080/"
        },
        "id": "compact-process",
        "outputId": "4ce886d3-ad9c-4952-9e6e-36f6dc0bbffe"
      },
      "outputs": [
        {
          "output_type": "execute_result",
          "data": {
            "text/plain": [
              "list"
            ]
          },
          "metadata": {},
          "execution_count": 12
        }
      ],
      "source": [
        "type(lista)"
      ]
    },
    {
      "cell_type": "code",
      "source": [
        "texto2 = texto"
      ],
      "metadata": {
        "id": "p3kwhi9fQwEh"
      },
      "id": "p3kwhi9fQwEh",
      "execution_count": 7,
      "outputs": []
    },
    {
      "cell_type": "code",
      "source": [
        "print(texto2.lower()) #todo a minusculas\n",
        "print(texto2.upper()) #todo a mayusculas\n",
        "print(texto2.title()) #primeras letras en mayusculas"
      ],
      "metadata": {
        "id": "yDKwjvC5Q0a1",
        "outputId": "a91d58d1-ace6-47ca-cc74-1f9a0ed3bf18",
        "colab": {
          "base_uri": "https://localhost:8080/"
        }
      },
      "id": "yDKwjvC5Q0a1",
      "execution_count": 8,
      "outputs": [
        {
          "output_type": "stream",
          "name": "stdout",
          "text": [
            "texto 'normal' en python\n",
            "TEXTO 'NORMAL' EN PYTHON\n",
            "Texto 'Normal' En Python\n"
          ]
        }
      ]
    },
    {
      "cell_type": "code",
      "source": [
        "print(texto2.split()) #separo en palabras"
      ],
      "metadata": {
        "id": "PVYDEmDzRGhz",
        "outputId": "0703526f-89a8-491b-d16e-7fd99bcc3c20",
        "colab": {
          "base_uri": "https://localhost:8080/"
        }
      },
      "id": "PVYDEmDzRGhz",
      "execution_count": 10,
      "outputs": [
        {
          "output_type": "stream",
          "name": "stdout",
          "text": [
            "['Texto', \"'normal'\", 'en', 'Python']\n"
          ]
        }
      ]
    },
    {
      "cell_type": "code",
      "source": [
        "c = \"texto 'normal' \\n en python\"\n",
        "print(c.splitlines())"
      ],
      "metadata": {
        "id": "og8a0QLxQ_gj",
        "outputId": "bb189c18-eb62-4865-f4d5-ed9f5dd1b908",
        "colab": {
          "base_uri": "https://localhost:8080/"
        }
      },
      "id": "og8a0QLxQ_gj",
      "execution_count": 14,
      "outputs": [
        {
          "output_type": "stream",
          "name": "stdout",
          "text": [
            "[\"texto 'normal' \", ' en python']\n"
          ]
        }
      ]
    },
    {
      "cell_type": "code",
      "source": [
        "print(c.splitlines(1))"
      ],
      "metadata": {
        "id": "q2eMf7lyR810",
        "outputId": "30c2fd49-7b64-4474-e125-fd02f160d7dd",
        "colab": {
          "base_uri": "https://localhost:8080/"
        }
      },
      "id": "q2eMf7lyR810",
      "execution_count": 15,
      "outputs": [
        {
          "output_type": "stream",
          "name": "stdout",
          "text": [
            "[\"texto 'normal' \\n\", ' en python']\n"
          ]
        }
      ]
    },
    {
      "cell_type": "code",
      "source": [
        "texto2.join(c)"
      ],
      "metadata": {
        "id": "6Cc2ixLFSKer",
        "outputId": "6e996804-1196-4a17-987f-a97330fb3b35",
        "colab": {
          "base_uri": "https://localhost:8080/",
          "height": 157
        }
      },
      "id": "6Cc2ixLFSKer",
      "execution_count": 16,
      "outputs": [
        {
          "output_type": "execute_result",
          "data": {
            "text/plain": [
              "\"tTexto 'normal' en PythoneTexto 'normal' en PythonxTexto 'normal' en PythontTexto 'normal' en PythonoTexto 'normal' en Python Texto 'normal' en Python'Texto 'normal' en PythonnTexto 'normal' en PythonoTexto 'normal' en PythonrTexto 'normal' en PythonmTexto 'normal' en PythonaTexto 'normal' en PythonlTexto 'normal' en Python'Texto 'normal' en Python Texto 'normal' en Python\\nTexto 'normal' en Python Texto 'normal' en PythoneTexto 'normal' en PythonnTexto 'normal' en Python Texto 'normal' en PythonpTexto 'normal' en PythonyTexto 'normal' en PythontTexto 'normal' en PythonhTexto 'normal' en PythonoTexto 'normal' en Pythonn\""
            ],
            "application/vnd.google.colaboratory.intrinsic+json": {
              "type": "string"
            }
          },
          "metadata": {},
          "execution_count": 16
        }
      ]
    },
    {
      "cell_type": "markdown",
      "id": "stuffed-serbia",
      "metadata": {
        "id": "stuffed-serbia"
      },
      "source": [
        "### Ejercicio\n",
        "¿De qué tipo es cada elemento de la lista anterior?"
      ]
    },
    {
      "cell_type": "code",
      "execution_count": null,
      "id": "breathing-grammar",
      "metadata": {
        "colab": {
          "base_uri": "https://localhost:8080/"
        },
        "id": "breathing-grammar",
        "outputId": "c800247f-808c-45b7-c293-6a3e82da983a"
      },
      "outputs": [
        {
          "output_type": "execute_result",
          "data": {
            "text/plain": [
              "str"
            ]
          },
          "metadata": {},
          "execution_count": 13
        }
      ],
      "source": [
        "type(lista[0])"
      ]
    },
    {
      "cell_type": "markdown",
      "id": "ultimate-oxygen",
      "metadata": {
        "id": "ultimate-oxygen"
      },
      "source": [
        "### Caracteres unicode en Python\n",
        "Todos los objetos `string` aceptan caracteres unicode."
      ]
    },
    {
      "cell_type": "code",
      "execution_count": 18,
      "id": "horizontal-foster",
      "metadata": {
        "id": "horizontal-foster"
      },
      "outputs": [],
      "source": [
        "#caracteres unicode\n",
        "texto2 = \"áèï😀🛵\""
      ]
    },
    {
      "cell_type": "code",
      "execution_count": 19,
      "id": "alone-logan",
      "metadata": {
        "colab": {
          "base_uri": "https://localhost:8080/"
        },
        "id": "alone-logan",
        "outputId": "6763b403-b7fc-4e39-af1e-d3e04243be00"
      },
      "outputs": [
        {
          "output_type": "execute_result",
          "data": {
            "text/plain": [
              "['á', 'è', 'ï', '😀', '🛵']"
            ]
          },
          "metadata": {},
          "execution_count": 19
        }
      ],
      "source": [
        "[t for t in texto2]"
      ]
    },
    {
      "cell_type": "markdown",
      "id": "needed-folks",
      "metadata": {
        "id": "needed-folks"
      },
      "source": [
        "Texto en otros alfabetos (http://xahlee.info/comp/unicode_index.html)"
      ]
    },
    {
      "cell_type": "code",
      "execution_count": 20,
      "id": "guided-medline",
      "metadata": {
        "colab": {
          "base_uri": "https://localhost:8080/"
        },
        "id": "guided-medline",
        "outputId": "2b2d6f09-6328-408e-d790-3e37a832b825"
      },
      "outputs": [
        {
          "output_type": "execute_result",
          "data": {
            "text/plain": [
              "['林', '花', '謝', '了', '春', '紅', ' ', '太', '匆', '匆']"
            ]
          },
          "metadata": {},
          "execution_count": 20
        }
      ],
      "source": [
        "#chino\n",
        "texto3 = \"林花謝了春紅 太匆匆\"\n",
        "[t for t in texto3]"
      ]
    },
    {
      "cell_type": "code",
      "execution_count": 21,
      "id": "medieval-netscape",
      "metadata": {
        "colab": {
          "base_uri": "https://localhost:8080/"
        },
        "id": "medieval-netscape",
        "outputId": "75be4ff1-4520-46d2-dcb3-1bc9b1ccf2c1"
      },
      "outputs": [
        {
          "output_type": "execute_result",
          "data": {
            "text/plain": [
              "['Б', 'б', 'в', 'Г', 'г', 'Д', 'д', 'ѭ']"
            ]
          },
          "metadata": {},
          "execution_count": 21
        }
      ],
      "source": [
        "#cirílico:\n",
        "texto4 = \"БбвГгДдѭ\"\n",
        "[t for t in texto4]"
      ]
    },
    {
      "cell_type": "code",
      "execution_count": 22,
      "id": "simple-audio",
      "metadata": {
        "colab": {
          "base_uri": "https://localhost:8080/"
        },
        "id": "simple-audio",
        "outputId": "23984c8b-af04-4276-b9e2-8126ae35b971"
      },
      "outputs": [
        {
          "output_type": "execute_result",
          "data": {
            "text/plain": [
              "['α', 'β', 'γ', 'δ', 'ε']"
            ]
          },
          "metadata": {},
          "execution_count": 22
        }
      ],
      "source": [
        "#griego:\n",
        "texto5 = \"αβγδε\"\n",
        "[t for t in texto5]"
      ]
    },
    {
      "cell_type": "code",
      "source": [
        "import sys \n",
        "sys.getsizeof(texto4) #tamaño memoria"
      ],
      "metadata": {
        "colab": {
          "base_uri": "https://localhost:8080/"
        },
        "id": "oYujrWoS1OQf",
        "outputId": "495260d0-5dc4-48c9-bf25-e25972360ad8"
      },
      "id": "oYujrWoS1OQf",
      "execution_count": 23,
      "outputs": [
        {
          "output_type": "execute_result",
          "data": {
            "text/plain": [
              "90"
            ]
          },
          "metadata": {},
          "execution_count": 23
        }
      ]
    },
    {
      "cell_type": "code",
      "source": [
        "len(texto4) #longitud texto"
      ],
      "metadata": {
        "colab": {
          "base_uri": "https://localhost:8080/"
        },
        "id": "GiVHIe7w1UJq",
        "outputId": "d4e41543-64b6-408e-997d-e6572b7dac5f"
      },
      "id": "GiVHIe7w1UJq",
      "execution_count": 24,
      "outputs": [
        {
          "output_type": "execute_result",
          "data": {
            "text/plain": [
              "8"
            ]
          },
          "metadata": {},
          "execution_count": 24
        }
      ]
    },
    {
      "cell_type": "markdown",
      "id": "rising-nudist",
      "metadata": {
        "id": "rising-nudist"
      },
      "source": [
        "## Métodos sobre strings\n",
        "Métodos que devuelven `string`/lista de `string`:\n",
        "- `lower`\n",
        "- `upper`\n",
        "- `tittle`\n",
        "- `len`"
      ]
    },
    {
      "cell_type": "code",
      "execution_count": null,
      "id": "endangered-antibody",
      "metadata": {
        "colab": {
          "base_uri": "https://localhost:8080/",
          "height": 35
        },
        "id": "endangered-antibody",
        "outputId": "b9d96ea3-b951-4884-9d8e-88923dd8ab9e"
      },
      "outputs": [
        {
          "output_type": "execute_result",
          "data": {
            "text/plain": [
              "'TEXTO'"
            ],
            "application/vnd.google.colaboratory.intrinsic+json": {
              "type": "string"
            }
          },
          "metadata": {},
          "execution_count": 22
        }
      ],
      "source": [
        "\"texto\".upper()"
      ]
    },
    {
      "cell_type": "code",
      "execution_count": null,
      "id": "rental-fortune",
      "metadata": {
        "colab": {
          "base_uri": "https://localhost:8080/",
          "height": 35
        },
        "id": "rental-fortune",
        "outputId": "dca73efc-deff-4683-a167-d96a8074bbdb"
      },
      "outputs": [
        {
          "output_type": "execute_result",
          "data": {
            "text/plain": [
              "\"Texto 'Normal' En Python\""
            ],
            "application/vnd.google.colaboratory.intrinsic+json": {
              "type": "string"
            }
          },
          "metadata": {},
          "execution_count": 23
        }
      ],
      "source": [
        "texto.title()"
      ]
    },
    {
      "cell_type": "code",
      "execution_count": null,
      "id": "expected-prize",
      "metadata": {
        "colab": {
          "base_uri": "https://localhost:8080/",
          "height": 35
        },
        "id": "expected-prize",
        "outputId": "4ff3fc65-6081-415d-fc52-3998410e8786"
      },
      "outputs": [
        {
          "output_type": "execute_result",
          "data": {
            "text/plain": [
              "'La Casa Azul'"
            ],
            "application/vnd.google.colaboratory.intrinsic+json": {
              "type": "string"
            }
          },
          "metadata": {},
          "execution_count": 24
        }
      ],
      "source": [
        "\"la casa azul\".title()"
      ]
    },
    {
      "cell_type": "markdown",
      "id": "fixed-christianity",
      "metadata": {
        "id": "fixed-christianity"
      },
      "source": [
        "Lo podemos aplicar a los elementos *string* de una lista mediante una *list comprenhension*"
      ]
    },
    {
      "cell_type": "code",
      "execution_count": null,
      "id": "dental-arcade",
      "metadata": {
        "colab": {
          "base_uri": "https://localhost:8080/"
        },
        "id": "dental-arcade",
        "outputId": "f80286c1-d293-4966-a00f-2b1e3cfd3ff0"
      },
      "outputs": [
        {
          "output_type": "execute_result",
          "data": {
            "text/plain": [
              "['Texto', \"'normal'\", 'en', 'Python']"
            ]
          },
          "metadata": {},
          "execution_count": 25
        }
      ],
      "source": [
        "#creamos una lista de las palabras de nuestro texto\n",
        "lista2 = texto.split(\" \")\n",
        "lista2"
      ]
    },
    {
      "cell_type": "code",
      "execution_count": null,
      "id": "digital-mention",
      "metadata": {
        "colab": {
          "base_uri": "https://localhost:8080/",
          "height": 35
        },
        "id": "digital-mention",
        "outputId": "91446f14-52f3-417c-c01b-cc9cdbe8a4c5"
      },
      "outputs": [
        {
          "output_type": "execute_result",
          "data": {
            "text/plain": [
              "\"Texto,'normal',en,Python\""
            ],
            "application/vnd.google.colaboratory.intrinsic+json": {
              "type": "string"
            }
          },
          "metadata": {},
          "execution_count": 26
        }
      ],
      "source": [
        "#también podemos convertir una lista en string\n",
        "','.join(lista2)"
      ]
    },
    {
      "cell_type": "code",
      "execution_count": null,
      "id": "matched-thumbnail",
      "metadata": {
        "colab": {
          "base_uri": "https://localhost:8080/"
        },
        "id": "matched-thumbnail",
        "outputId": "b0679d16-774f-4bc0-a4d6-318d355f1b02"
      },
      "outputs": [
        {
          "output_type": "execute_result",
          "data": {
            "text/plain": [
              "['TEXTO', \"'NORMAL'\", 'EN', 'PYTHON']"
            ]
          },
          "metadata": {},
          "execution_count": 27
        }
      ],
      "source": [
        "#aplicamos método a cada elemento de la lista\n",
        "[c.upper() for c in lista2]"
      ]
    },
    {
      "cell_type": "markdown",
      "id": "large-radar",
      "metadata": {
        "id": "large-radar"
      },
      "source": [
        "Métodos de comparación:  \n",
        "`s.startswith(t)\n",
        "s.endswith(t)\n",
        "t in s\n",
        "s.isupper(); s.islower(); s.istitle()\n",
        "s.isalpha(); s.isdigit(); s.isalnum()`"
      ]
    },
    {
      "cell_type": "code",
      "execution_count": 25,
      "id": "three-briefing",
      "metadata": {
        "colab": {
          "base_uri": "https://localhost:8080/"
        },
        "id": "three-briefing",
        "outputId": "61915ea0-3a86-4f9d-881c-2d70b92660e7"
      },
      "outputs": [
        {
          "output_type": "execute_result",
          "data": {
            "text/plain": [
              "False"
            ]
          },
          "metadata": {},
          "execution_count": 25
        }
      ],
      "source": [
        "'Texto'.startswith('t')"
      ]
    },
    {
      "cell_type": "code",
      "execution_count": 26,
      "id": "beneficial-makeup",
      "metadata": {
        "colab": {
          "base_uri": "https://localhost:8080/"
        },
        "id": "beneficial-makeup",
        "outputId": "8cc56be6-c5b8-437a-c6aa-702fd0f25d38"
      },
      "outputs": [
        {
          "output_type": "execute_result",
          "data": {
            "text/plain": [
              "True"
            ]
          },
          "metadata": {},
          "execution_count": 26
        }
      ],
      "source": [
        "'Texto'.startswith('T')"
      ]
    },
    {
      "cell_type": "code",
      "execution_count": 27,
      "id": "uniform-banana",
      "metadata": {
        "colab": {
          "base_uri": "https://localhost:8080/"
        },
        "id": "uniform-banana",
        "outputId": "997a6118-08ea-4b02-f6ff-036dd203534c"
      },
      "outputs": [
        {
          "output_type": "execute_result",
          "data": {
            "text/plain": [
              "True"
            ]
          },
          "metadata": {},
          "execution_count": 27
        }
      ],
      "source": [
        "'ex' in texto"
      ]
    },
    {
      "cell_type": "code",
      "execution_count": 28,
      "id": "concerned-battlefield",
      "metadata": {
        "colab": {
          "base_uri": "https://localhost:8080/"
        },
        "id": "concerned-battlefield",
        "outputId": "2deb8777-6968-4946-a40c-8927eb5ab823"
      },
      "outputs": [
        {
          "output_type": "execute_result",
          "data": {
            "text/plain": [
              "True"
            ]
          },
          "metadata": {},
          "execution_count": 28
        }
      ],
      "source": [
        "'Texto'.istitle()"
      ]
    },
    {
      "cell_type": "code",
      "execution_count": 29,
      "id": "hired-deposit",
      "metadata": {
        "colab": {
          "base_uri": "https://localhost:8080/"
        },
        "id": "hired-deposit",
        "outputId": "7703d4b8-c6ef-44bb-ac07-cb41c2d02fb5"
      },
      "outputs": [
        {
          "output_type": "execute_result",
          "data": {
            "text/plain": [
              "False"
            ]
          },
          "metadata": {},
          "execution_count": 29
        }
      ],
      "source": [
        "'TexTo'.istitle()"
      ]
    },
    {
      "cell_type": "code",
      "execution_count": 30,
      "id": "similar-nursing",
      "metadata": {
        "colab": {
          "base_uri": "https://localhost:8080/"
        },
        "id": "similar-nursing",
        "outputId": "f33d7723-e580-40b4-b889-f72af1cc958c"
      },
      "outputs": [
        {
          "output_type": "execute_result",
          "data": {
            "text/plain": [
              "False"
            ]
          },
          "metadata": {},
          "execution_count": 30
        }
      ],
      "source": [
        "'Texto largo'.istitle()"
      ]
    },
    {
      "cell_type": "code",
      "source": [
        "'Hola' == 'hola'"
      ],
      "metadata": {
        "colab": {
          "base_uri": "https://localhost:8080/"
        },
        "id": "0mr6n0yD1vAY",
        "outputId": "e8501d7c-9225-4801-d06d-aeeb53e9a2fb"
      },
      "id": "0mr6n0yD1vAY",
      "execution_count": 31,
      "outputs": [
        {
          "output_type": "execute_result",
          "data": {
            "text/plain": [
              "False"
            ]
          },
          "metadata": {},
          "execution_count": 31
        }
      ]
    },
    {
      "cell_type": "code",
      "source": [
        "'Hola'.lower() == 'hola'"
      ],
      "metadata": {
        "colab": {
          "base_uri": "https://localhost:8080/"
        },
        "id": "7gqiuHnq1xiy",
        "outputId": "345d8a0a-1110-4612-9305-b190503cee74"
      },
      "id": "7gqiuHnq1xiy",
      "execution_count": 32,
      "outputs": [
        {
          "output_type": "execute_result",
          "data": {
            "text/plain": [
              "True"
            ]
          },
          "metadata": {},
          "execution_count": 32
        }
      ]
    },
    {
      "cell_type": "code",
      "source": [
        "texto"
      ],
      "metadata": {
        "id": "mS54EpgjS9AX",
        "outputId": "d4631220-1728-41d8-98dd-23901dc3c816",
        "colab": {
          "base_uri": "https://localhost:8080/",
          "height": 35
        }
      },
      "id": "mS54EpgjS9AX",
      "execution_count": 35,
      "outputs": [
        {
          "output_type": "execute_result",
          "data": {
            "text/plain": [
              "\"Texto 'normal' en Python\""
            ],
            "application/vnd.google.colaboratory.intrinsic+json": {
              "type": "string"
            }
          },
          "metadata": {},
          "execution_count": 35
        }
      ]
    },
    {
      "cell_type": "code",
      "execution_count": 33,
      "id": "indoor-duncan",
      "metadata": {
        "colab": {
          "base_uri": "https://localhost:8080/"
        },
        "id": "indoor-duncan",
        "outputId": "62c79c8a-5384-4e4f-e4c7-273465bf91dc"
      },
      "outputs": [
        {
          "output_type": "execute_result",
          "data": {
            "text/plain": [
              "['Texto', \"'normal'\", 'en', 'Python']"
            ]
          },
          "metadata": {},
          "execution_count": 33
        }
      ],
      "source": [
        "lista2 = texto.split(\" \")\n",
        "lista2"
      ]
    },
    {
      "cell_type": "code",
      "source": [
        "'texto' in texto"
      ],
      "metadata": {
        "colab": {
          "base_uri": "https://localhost:8080/"
        },
        "id": "HcnzRSzo3EJp",
        "outputId": "18bef2a6-87e4-44ef-8e3b-be3f862f6254"
      },
      "id": "HcnzRSzo3EJp",
      "execution_count": 36,
      "outputs": [
        {
          "output_type": "execute_result",
          "data": {
            "text/plain": [
              "False"
            ]
          },
          "metadata": {},
          "execution_count": 36
        }
      ]
    },
    {
      "cell_type": "code",
      "source": [
        "','.join(lista2)"
      ],
      "metadata": {
        "colab": {
          "base_uri": "https://localhost:8080/",
          "height": 35
        },
        "id": "kO83V1SX1_Lk",
        "outputId": "03a2506f-4de4-420e-f675-45b536e681a5"
      },
      "id": "kO83V1SX1_Lk",
      "execution_count": 37,
      "outputs": [
        {
          "output_type": "execute_result",
          "data": {
            "text/plain": [
              "\"Texto,'normal',en,Python\""
            ],
            "application/vnd.google.colaboratory.intrinsic+json": {
              "type": "string"
            }
          },
          "metadata": {},
          "execution_count": 37
        }
      ]
    },
    {
      "cell_type": "code",
      "source": [
        "[c.upper() for c in lista2] \n",
        "# el elemento lista no tiene lista, lo aplico elemento a elemento, porq asi lo aplico a un str"
      ],
      "metadata": {
        "colab": {
          "base_uri": "https://localhost:8080/"
        },
        "id": "-u-A9a0K2DtG",
        "outputId": "4818bda3-ae09-48e3-9293-bb09c9d4ddd4"
      },
      "id": "-u-A9a0K2DtG",
      "execution_count": 38,
      "outputs": [
        {
          "output_type": "execute_result",
          "data": {
            "text/plain": [
              "['TEXTO', \"'NORMAL'\", 'EN', 'PYTHON']"
            ]
          },
          "metadata": {},
          "execution_count": 38
        }
      ]
    },
    {
      "cell_type": "code",
      "source": [
        "list(map(lambda x: x.upper(), lista2))"
      ],
      "metadata": {
        "colab": {
          "base_uri": "https://localhost:8080/"
        },
        "id": "O-zzjHdY2mpF",
        "outputId": "5e118c56-3d98-44f4-935d-5561774f3efa"
      },
      "id": "O-zzjHdY2mpF",
      "execution_count": 39,
      "outputs": [
        {
          "output_type": "execute_result",
          "data": {
            "text/plain": [
              "['TEXTO', \"'NORMAL'\", 'EN', 'PYTHON']"
            ]
          },
          "metadata": {},
          "execution_count": 39
        }
      ]
    },
    {
      "cell_type": "code",
      "source": [
        "print('ó' in 'acción')\n",
        "print('o' in 'acción')"
      ],
      "metadata": {
        "colab": {
          "base_uri": "https://localhost:8080/"
        },
        "id": "UE8m9SQN3MAK",
        "outputId": "a0cdf56d-4332-4367-b6e6-639bb8283599"
      },
      "id": "UE8m9SQN3MAK",
      "execution_count": 40,
      "outputs": [
        {
          "output_type": "stream",
          "name": "stdout",
          "text": [
            "True\n",
            "False\n"
          ]
        }
      ]
    },
    {
      "cell_type": "markdown",
      "id": "liquid-location",
      "metadata": {
        "id": "liquid-location"
      },
      "source": [
        "Podemos combinar las funciones de comparación con las list comprehension"
      ]
    },
    {
      "cell_type": "code",
      "execution_count": 41,
      "id": "furnished-investigator",
      "metadata": {
        "colab": {
          "base_uri": "https://localhost:8080/"
        },
        "id": "furnished-investigator",
        "outputId": "60167138-ba16-4203-b1a3-31055025f697"
      },
      "outputs": [
        {
          "output_type": "execute_result",
          "data": {
            "text/plain": [
              "['Texto', \"'normal'\", 'en', 'Python']"
            ]
          },
          "metadata": {},
          "execution_count": 41
        }
      ],
      "source": [
        "lista2"
      ]
    },
    {
      "cell_type": "code",
      "source": [
        "print([w for w in lista2]) #recorrer todos los elementos de la lista\n",
        "print([w for w in range(10)]) #recorrer todos los elementos de 0 a 9"
      ],
      "metadata": {
        "colab": {
          "base_uri": "https://localhost:8080/"
        },
        "id": "hQa_LQpc36Z_",
        "outputId": "02aa24cc-2110-4655-901a-528335a4017e"
      },
      "id": "hQa_LQpc36Z_",
      "execution_count": 42,
      "outputs": [
        {
          "output_type": "stream",
          "name": "stdout",
          "text": [
            "['Texto', \"'normal'\", 'en', 'Python']\n",
            "[0, 1, 2, 3, 4, 5, 6, 7, 8, 9]\n"
          ]
        }
      ]
    },
    {
      "cell_type": "code",
      "execution_count": 43,
      "id": "eligible-corpus",
      "metadata": {
        "colab": {
          "base_uri": "https://localhost:8080/"
        },
        "id": "eligible-corpus",
        "outputId": "b88d4a26-7927-48e1-eb44-20d60c5c50fb"
      },
      "outputs": [
        {
          "output_type": "execute_result",
          "data": {
            "text/plain": [
              "['Texto', 'Python']"
            ]
          },
          "metadata": {},
          "execution_count": 43
        }
      ],
      "source": [
        "#palabras que empiezan en mayúscula\n",
        "[w for w in lista2 if w.istitle()] \n",
        "#devuelve de la lista los elementos que cumplen esa condición"
      ]
    },
    {
      "cell_type": "markdown",
      "id": "noble-accordance",
      "metadata": {
        "id": "noble-accordance"
      },
      "source": [
        "### Ejercicio\n",
        "Filtra las palabras terminadas en `n` de `lista2`"
      ]
    },
    {
      "cell_type": "code",
      "source": [
        "[w for w in lista2 if w.endswith('n')]"
      ],
      "metadata": {
        "colab": {
          "base_uri": "https://localhost:8080/"
        },
        "id": "IBLHEZFm4giF",
        "outputId": "2592ab90-d0d8-4fdf-b464-db2c222989a2"
      },
      "id": "IBLHEZFm4giF",
      "execution_count": 44,
      "outputs": [
        {
          "output_type": "execute_result",
          "data": {
            "text/plain": [
              "['en', 'Python']"
            ]
          },
          "metadata": {},
          "execution_count": 44
        }
      ]
    },
    {
      "cell_type": "code",
      "source": [
        "texto = 'hola\\nmundo'"
      ],
      "metadata": {
        "id": "R1spWfxK52Lz"
      },
      "id": "R1spWfxK52Lz",
      "execution_count": 45,
      "outputs": []
    },
    {
      "cell_type": "code",
      "source": [
        "print(texto)\n"
      ],
      "metadata": {
        "colab": {
          "base_uri": "https://localhost:8080/"
        },
        "id": "Wb-jSYR156Xe",
        "outputId": "c062000e-cad7-45e2-8ec4-ad7a3c1fca76"
      },
      "id": "Wb-jSYR156Xe",
      "execution_count": 46,
      "outputs": [
        {
          "output_type": "stream",
          "name": "stdout",
          "text": [
            "hola\n",
            "mundo\n"
          ]
        }
      ]
    },
    {
      "cell_type": "code",
      "source": [
        "len('r\\n') #raw"
      ],
      "metadata": {
        "colab": {
          "base_uri": "https://localhost:8080/"
        },
        "id": "jLW6t-3j5_cc",
        "outputId": "49519c62-af0f-4da1-cf1b-b3cd79d4b45a"
      },
      "id": "jLW6t-3j5_cc",
      "execution_count": 47,
      "outputs": [
        {
          "output_type": "execute_result",
          "data": {
            "text/plain": [
              "2"
            ]
          },
          "metadata": {},
          "execution_count": 47
        }
      ]
    },
    {
      "cell_type": "code",
      "source": [
        "len('\\n')"
      ],
      "metadata": {
        "colab": {
          "base_uri": "https://localhost:8080/"
        },
        "id": "esCXC4X66HBo",
        "outputId": "ef8a3002-dd19-4993-abcb-85a20d278dcc"
      },
      "id": "esCXC4X66HBo",
      "execution_count": 48,
      "outputs": [
        {
          "output_type": "execute_result",
          "data": {
            "text/plain": [
              "1"
            ]
          },
          "metadata": {},
          "execution_count": 48
        }
      ]
    },
    {
      "cell_type": "code",
      "source": [
        "[c for c in r'\\n']"
      ],
      "metadata": {
        "colab": {
          "base_uri": "https://localhost:8080/"
        },
        "id": "fYVL_Fl66c6y",
        "outputId": "99643b37-7432-41a4-af09-c0a079bd0d5e"
      },
      "id": "fYVL_Fl66c6y",
      "execution_count": 49,
      "outputs": [
        {
          "output_type": "execute_result",
          "data": {
            "text/plain": [
              "['\\\\', 'n']"
            ]
          },
          "metadata": {},
          "execution_count": 49
        }
      ]
    },
    {
      "cell_type": "markdown",
      "id": "hungry-gallery",
      "metadata": {
        "id": "hungry-gallery"
      },
      "source": [
        "## Uso de texto en Pandas\n",
        "https://pandas.pydata.org/pandas-docs/stable/user_guide/text.html"
      ]
    },
    {
      "cell_type": "code",
      "execution_count": 51,
      "id": "coordinated-russia",
      "metadata": {
        "colab": {
          "base_uri": "https://localhost:8080/",
          "height": 35
        },
        "id": "coordinated-russia",
        "outputId": "b6896b44-d92f-41da-fddf-b4e8107b5016"
      },
      "outputs": [
        {
          "output_type": "execute_result",
          "data": {
            "text/plain": [
              "'1.3.5'"
            ],
            "application/vnd.google.colaboratory.intrinsic+json": {
              "type": "string"
            }
          },
          "metadata": {},
          "execution_count": 51
        }
      ],
      "source": [
        "import pandas as pd\n",
        "import numpy as np\n",
        "pd.__version__"
      ]
    },
    {
      "cell_type": "code",
      "execution_count": 52,
      "id": "plastic-roommate",
      "metadata": {
        "colab": {
          "base_uri": "https://localhost:8080/"
        },
        "id": "plastic-roommate",
        "outputId": "75f0d903-3c5e-4051-833e-9b786e9bf3c0"
      },
      "outputs": [
        {
          "output_type": "execute_result",
          "data": {
            "text/plain": [
              "0       Texto\n",
              "1    'normal'\n",
              "2          en\n",
              "3      Python\n",
              "dtype: object"
            ]
          },
          "metadata": {},
          "execution_count": 52
        }
      ],
      "source": [
        "pd.Series(lista2)"
      ]
    },
    {
      "cell_type": "code",
      "execution_count": 53,
      "id": "exotic-explosion",
      "metadata": {
        "colab": {
          "base_uri": "https://localhost:8080/"
        },
        "id": "exotic-explosion",
        "outputId": "6a665563-2e5a-4be7-d034-ad68aa62dbe5"
      },
      "outputs": [
        {
          "output_type": "execute_result",
          "data": {
            "text/plain": [
              "0       Texto\n",
              "1    'normal'\n",
              "2          en\n",
              "3      Python\n",
              "dtype: string"
            ]
          },
          "metadata": {},
          "execution_count": 53
        }
      ],
      "source": [
        "pd.Series(lista2, dtype=\"string\") #string es un nuevo dtype de Pandas 1.0"
      ]
    },
    {
      "cell_type": "code",
      "execution_count": 54,
      "id": "dirty-invasion",
      "metadata": {
        "colab": {
          "base_uri": "https://localhost:8080/"
        },
        "id": "dirty-invasion",
        "outputId": "624ea2a2-44d8-4d3d-fd9b-e8cb96b76088"
      },
      "outputs": [
        {
          "output_type": "execute_result",
          "data": {
            "text/plain": [
              "0       A\n",
              "1       B\n",
              "2       C\n",
              "3    Aaba\n",
              "4    Baca\n",
              "5    <NA>\n",
              "6    CABA\n",
              "7     dog\n",
              "8     cat\n",
              "dtype: string"
            ]
          },
          "metadata": {},
          "execution_count": 54
        }
      ],
      "source": [
        "#podemos usar los métodos de str sobre los elementos del array\n",
        "s = pd.Series(\n",
        "     [\"A\", \"B\", \"C\", \"Aaba\", \"Baca\", np.nan, \"CABA\", \"dog\", \"cat\"],\n",
        "     dtype=\"string\"\n",
        " )\n",
        "s"
      ]
    },
    {
      "cell_type": "code",
      "execution_count": 55,
      "id": "universal-findings",
      "metadata": {
        "colab": {
          "base_uri": "https://localhost:8080/"
        },
        "id": "universal-findings",
        "outputId": "4de84916-ff7f-495c-cf4e-c93b7e660d7f"
      },
      "outputs": [
        {
          "output_type": "execute_result",
          "data": {
            "text/plain": [
              "0       1\n",
              "1       1\n",
              "2       1\n",
              "3       4\n",
              "4       4\n",
              "5    <NA>\n",
              "6       4\n",
              "7       3\n",
              "8       3\n",
              "dtype: Int64"
            ]
          },
          "metadata": {},
          "execution_count": 55
        }
      ],
      "source": [
        "#contar caracteres\n",
        "s.str.len()"
      ]
    },
    {
      "cell_type": "code",
      "execution_count": 56,
      "id": "changing-prerequisite",
      "metadata": {
        "colab": {
          "base_uri": "https://localhost:8080/"
        },
        "id": "changing-prerequisite",
        "outputId": "88c0297e-2d4d-44c0-e4f1-cf12a1aee47c"
      },
      "outputs": [
        {
          "output_type": "execute_result",
          "data": {
            "text/plain": [
              "0       A\n",
              "1       B\n",
              "2       C\n",
              "3    AABA\n",
              "4    BACA\n",
              "5    <NA>\n",
              "6    CABA\n",
              "7     DOG\n",
              "8     CAT\n",
              "dtype: string"
            ]
          },
          "metadata": {},
          "execution_count": 56
        }
      ],
      "source": [
        "#convertir serie s en mayúsculas\n",
        "s.str.upper()"
      ]
    },
    {
      "cell_type": "markdown",
      "id": "precious-ensemble",
      "metadata": {
        "id": "precious-ensemble"
      },
      "source": [
        "Dividir, expandir, reemplazar, o concatenar texto (extraer lo veremos con RegEx)"
      ]
    },
    {
      "cell_type": "code",
      "execution_count": 57,
      "id": "becoming-saint",
      "metadata": {
        "colab": {
          "base_uri": "https://localhost:8080/"
        },
        "id": "becoming-saint",
        "outputId": "f9bbf4ef-c0ad-4eb2-9703-88de658862d0"
      },
      "outputs": [
        {
          "output_type": "execute_result",
          "data": {
            "text/plain": [
              "0       [a, b, c]\n",
              "1       [c, d, e]\n",
              "2            <NA>\n",
              "3    [f, g, h, k]\n",
              "dtype: object"
            ]
          },
          "metadata": {},
          "execution_count": 57
        }
      ],
      "source": [
        "#split devuelve una Serie de elementos de tipo lista\n",
        "s2 = pd.Series([\"a_b_c\", \"c_d_e\", np.nan, \"f_g_h_k\"], dtype=\"string\")\n",
        "s2.str.split(\"_\") #split elimina el elemento entre paréntesis"
      ]
    },
    {
      "cell_type": "code",
      "execution_count": 58,
      "id": "seasonal-russia",
      "metadata": {
        "colab": {
          "base_uri": "https://localhost:8080/"
        },
        "id": "seasonal-russia",
        "outputId": "7b7037d9-5140-4155-9e72-3fe34e39b0ef"
      },
      "outputs": [
        {
          "output_type": "execute_result",
          "data": {
            "text/plain": [
              "0       b\n",
              "1       d\n",
              "2    <NA>\n",
              "3       g\n",
              "dtype: object"
            ]
          },
          "metadata": {},
          "execution_count": 58
        }
      ],
      "source": [
        "#podemos acceder a los elementos de la lista con str.get o str[]\n",
        "s2.str.split(\"_\").str.get(1) \n",
        "#elimino el \"_\" y luego cojo el elemento 1, que es el segundo"
      ]
    },
    {
      "cell_type": "code",
      "execution_count": 59,
      "id": "corporate-strap",
      "metadata": {
        "colab": {
          "base_uri": "https://localhost:8080/"
        },
        "id": "corporate-strap",
        "outputId": "6a638d74-f77e-4544-9581-ae3319800e68"
      },
      "outputs": [
        {
          "output_type": "execute_result",
          "data": {
            "text/plain": [
              "0       c\n",
              "1       e\n",
              "2    <NA>\n",
              "3       h\n",
              "dtype: object"
            ]
          },
          "metadata": {},
          "execution_count": 59
        }
      ],
      "source": [
        "s2.str.split(\"_\").str[2] #"
      ]
    },
    {
      "cell_type": "code",
      "execution_count": 60,
      "id": "contrary-worry",
      "metadata": {
        "colab": {
          "base_uri": "https://localhost:8080/",
          "height": 174
        },
        "id": "contrary-worry",
        "outputId": "f7b95dd5-b13b-4a8f-d88a-778be81faf37"
      },
      "outputs": [
        {
          "output_type": "execute_result",
          "data": {
            "text/plain": [
              "      0     1     2     3\n",
              "0     a     b     c  <NA>\n",
              "1     c     d     e  <NA>\n",
              "2  <NA>  <NA>  <NA>  <NA>\n",
              "3     f     g     h     k"
            ],
            "text/html": [
              "\n",
              "  <div id=\"df-b1a1ff2c-4499-4546-8229-7a69ca0e81f2\">\n",
              "    <div class=\"colab-df-container\">\n",
              "      <div>\n",
              "<style scoped>\n",
              "    .dataframe tbody tr th:only-of-type {\n",
              "        vertical-align: middle;\n",
              "    }\n",
              "\n",
              "    .dataframe tbody tr th {\n",
              "        vertical-align: top;\n",
              "    }\n",
              "\n",
              "    .dataframe thead th {\n",
              "        text-align: right;\n",
              "    }\n",
              "</style>\n",
              "<table border=\"1\" class=\"dataframe\">\n",
              "  <thead>\n",
              "    <tr style=\"text-align: right;\">\n",
              "      <th></th>\n",
              "      <th>0</th>\n",
              "      <th>1</th>\n",
              "      <th>2</th>\n",
              "      <th>3</th>\n",
              "    </tr>\n",
              "  </thead>\n",
              "  <tbody>\n",
              "    <tr>\n",
              "      <th>0</th>\n",
              "      <td>a</td>\n",
              "      <td>b</td>\n",
              "      <td>c</td>\n",
              "      <td>&lt;NA&gt;</td>\n",
              "    </tr>\n",
              "    <tr>\n",
              "      <th>1</th>\n",
              "      <td>c</td>\n",
              "      <td>d</td>\n",
              "      <td>e</td>\n",
              "      <td>&lt;NA&gt;</td>\n",
              "    </tr>\n",
              "    <tr>\n",
              "      <th>2</th>\n",
              "      <td>&lt;NA&gt;</td>\n",
              "      <td>&lt;NA&gt;</td>\n",
              "      <td>&lt;NA&gt;</td>\n",
              "      <td>&lt;NA&gt;</td>\n",
              "    </tr>\n",
              "    <tr>\n",
              "      <th>3</th>\n",
              "      <td>f</td>\n",
              "      <td>g</td>\n",
              "      <td>h</td>\n",
              "      <td>k</td>\n",
              "    </tr>\n",
              "  </tbody>\n",
              "</table>\n",
              "</div>\n",
              "      <button class=\"colab-df-convert\" onclick=\"convertToInteractive('df-b1a1ff2c-4499-4546-8229-7a69ca0e81f2')\"\n",
              "              title=\"Convert this dataframe to an interactive table.\"\n",
              "              style=\"display:none;\">\n",
              "        \n",
              "  <svg xmlns=\"http://www.w3.org/2000/svg\" height=\"24px\"viewBox=\"0 0 24 24\"\n",
              "       width=\"24px\">\n",
              "    <path d=\"M0 0h24v24H0V0z\" fill=\"none\"/>\n",
              "    <path d=\"M18.56 5.44l.94 2.06.94-2.06 2.06-.94-2.06-.94-.94-2.06-.94 2.06-2.06.94zm-11 1L8.5 8.5l.94-2.06 2.06-.94-2.06-.94L8.5 2.5l-.94 2.06-2.06.94zm10 10l.94 2.06.94-2.06 2.06-.94-2.06-.94-.94-2.06-.94 2.06-2.06.94z\"/><path d=\"M17.41 7.96l-1.37-1.37c-.4-.4-.92-.59-1.43-.59-.52 0-1.04.2-1.43.59L10.3 9.45l-7.72 7.72c-.78.78-.78 2.05 0 2.83L4 21.41c.39.39.9.59 1.41.59.51 0 1.02-.2 1.41-.59l7.78-7.78 2.81-2.81c.8-.78.8-2.07 0-2.86zM5.41 20L4 18.59l7.72-7.72 1.47 1.35L5.41 20z\"/>\n",
              "  </svg>\n",
              "      </button>\n",
              "      \n",
              "  <style>\n",
              "    .colab-df-container {\n",
              "      display:flex;\n",
              "      flex-wrap:wrap;\n",
              "      gap: 12px;\n",
              "    }\n",
              "\n",
              "    .colab-df-convert {\n",
              "      background-color: #E8F0FE;\n",
              "      border: none;\n",
              "      border-radius: 50%;\n",
              "      cursor: pointer;\n",
              "      display: none;\n",
              "      fill: #1967D2;\n",
              "      height: 32px;\n",
              "      padding: 0 0 0 0;\n",
              "      width: 32px;\n",
              "    }\n",
              "\n",
              "    .colab-df-convert:hover {\n",
              "      background-color: #E2EBFA;\n",
              "      box-shadow: 0px 1px 2px rgba(60, 64, 67, 0.3), 0px 1px 3px 1px rgba(60, 64, 67, 0.15);\n",
              "      fill: #174EA6;\n",
              "    }\n",
              "\n",
              "    [theme=dark] .colab-df-convert {\n",
              "      background-color: #3B4455;\n",
              "      fill: #D2E3FC;\n",
              "    }\n",
              "\n",
              "    [theme=dark] .colab-df-convert:hover {\n",
              "      background-color: #434B5C;\n",
              "      box-shadow: 0px 1px 3px 1px rgba(0, 0, 0, 0.15);\n",
              "      filter: drop-shadow(0px 1px 2px rgba(0, 0, 0, 0.3));\n",
              "      fill: #FFFFFF;\n",
              "    }\n",
              "  </style>\n",
              "\n",
              "      <script>\n",
              "        const buttonEl =\n",
              "          document.querySelector('#df-b1a1ff2c-4499-4546-8229-7a69ca0e81f2 button.colab-df-convert');\n",
              "        buttonEl.style.display =\n",
              "          google.colab.kernel.accessAllowed ? 'block' : 'none';\n",
              "\n",
              "        async function convertToInteractive(key) {\n",
              "          const element = document.querySelector('#df-b1a1ff2c-4499-4546-8229-7a69ca0e81f2');\n",
              "          const dataTable =\n",
              "            await google.colab.kernel.invokeFunction('convertToInteractive',\n",
              "                                                     [key], {});\n",
              "          if (!dataTable) return;\n",
              "\n",
              "          const docLinkHtml = 'Like what you see? Visit the ' +\n",
              "            '<a target=\"_blank\" href=https://colab.research.google.com/notebooks/data_table.ipynb>data table notebook</a>'\n",
              "            + ' to learn more about interactive tables.';\n",
              "          element.innerHTML = '';\n",
              "          dataTable['output_type'] = 'display_data';\n",
              "          await google.colab.output.renderOutput(dataTable, element);\n",
              "          const docLink = document.createElement('div');\n",
              "          docLink.innerHTML = docLinkHtml;\n",
              "          element.appendChild(docLink);\n",
              "        }\n",
              "      </script>\n",
              "    </div>\n",
              "  </div>\n",
              "  "
            ]
          },
          "metadata": {},
          "execution_count": 60
        }
      ],
      "source": [
        "#podemos expandir la lista a un dataframe\n",
        "s2.str.split(\"_\", expand=True) "
      ]
    },
    {
      "cell_type": "code",
      "execution_count": null,
      "id": "official-consultation",
      "metadata": {
        "colab": {
          "base_uri": "https://localhost:8080/"
        },
        "id": "official-consultation",
        "outputId": "a25a0548-5588-407f-ef4a-0bcf3e274a49"
      },
      "outputs": [
        {
          "output_type": "execute_result",
          "data": {
            "text/plain": [
              "0       A\n",
              "1       B\n",
              "2       C\n",
              "3    Aaba\n",
              "4    Baca\n",
              "5        \n",
              "6    <NA>\n",
              "7    CABA\n",
              "8     dog\n",
              "9     cat\n",
              "dtype: string"
            ]
          },
          "metadata": {},
          "execution_count": 72
        }
      ],
      "source": [
        "s3 = pd.Series(\n",
        "     [\"A\", \"B\", \"C\", \"Aaba\", \"Baca\", \"\", np.nan, \"CABA\", \"dog\", \"cat\"],\n",
        "     dtype=\"string\",\n",
        " )\n",
        "s3"
      ]
    },
    {
      "cell_type": "code",
      "execution_count": null,
      "id": "german-yesterday",
      "metadata": {
        "colab": {
          "base_uri": "https://localhost:8080/"
        },
        "id": "german-yesterday",
        "outputId": "d6fcef93-21d5-4d73-c76b-0552ab3dcbb3"
      },
      "outputs": [
        {
          "output_type": "execute_result",
          "data": {
            "text/plain": [
              "0       A\n",
              "1       B\n",
              "2       C\n",
              "3    AXbX\n",
              "4    BXcX\n",
              "5        \n",
              "6    <NA>\n",
              "7    CABA\n",
              "8     dog\n",
              "9     cXt\n",
              "dtype: string"
            ]
          },
          "metadata": {},
          "execution_count": 73
        }
      ],
      "source": [
        "#reemplazar texto\n",
        "s3.str.replace(\"a\", \"X\", case=True)"
      ]
    },
    {
      "cell_type": "code",
      "execution_count": 65,
      "id": "monthly-awareness",
      "metadata": {
        "colab": {
          "base_uri": "https://localhost:8080/"
        },
        "id": "monthly-awareness",
        "outputId": "e40f92e4-9aac-4f06-86d6-65baa13ae87b"
      },
      "outputs": [
        {
          "output_type": "execute_result",
          "data": {
            "text/plain": [
              "0    a\n",
              "1    b\n",
              "2    c\n",
              "3    d\n",
              "dtype: string"
            ]
          },
          "metadata": {},
          "execution_count": 65
        }
      ],
      "source": [
        "s = pd.Series([\"a\", \"b\", \"c\", \"d\"], dtype=\"string\")\n",
        "s"
      ]
    },
    {
      "cell_type": "code",
      "execution_count": 66,
      "id": "involved-service",
      "metadata": {
        "colab": {
          "base_uri": "https://localhost:8080/",
          "height": 35
        },
        "id": "involved-service",
        "outputId": "237087be-d26f-42db-b505-f4a0ecb1dd4b"
      },
      "outputs": [
        {
          "output_type": "execute_result",
          "data": {
            "text/plain": [
              "'a,b,c,d'"
            ],
            "application/vnd.google.colaboratory.intrinsic+json": {
              "type": "string"
            }
          },
          "metadata": {},
          "execution_count": 66
        }
      ],
      "source": [
        "#concatenar texto (elementos de una Serie)\n",
        "s.str.cat(sep=\",\") "
      ]
    },
    {
      "cell_type": "code",
      "execution_count": 61,
      "id": "sapphire-perth",
      "metadata": {
        "colab": {
          "base_uri": "https://localhost:8080/"
        },
        "id": "sapphire-perth",
        "outputId": "9ecf43d0-1975-4c44-98a4-08aed4c2a2a7"
      },
      "outputs": [
        {
          "output_type": "execute_result",
          "data": {
            "text/plain": [
              "str"
            ]
          },
          "metadata": {},
          "execution_count": 61
        }
      ],
      "source": [
        "type(s.str.cat(sep=\",\"))"
      ]
    },
    {
      "cell_type": "code",
      "execution_count": 67,
      "id": "tutorial-quarter",
      "metadata": {
        "colab": {
          "base_uri": "https://localhost:8080/"
        },
        "id": "tutorial-quarter",
        "outputId": "ad6d9571-c5cb-4b36-f0e0-d669fe1a32ab"
      },
      "outputs": [
        {
          "output_type": "execute_result",
          "data": {
            "text/plain": [
              "0    aA\n",
              "1    bB\n",
              "2    cC\n",
              "3    dD\n",
              "dtype: string"
            ]
          },
          "metadata": {},
          "execution_count": 67
        }
      ],
      "source": [
        "#podemos concatenar los elementos de una Serie con otra de igual longitud\n",
        "s.str.cat([\"A\", \"B\", \"C\", \"D\"])"
      ]
    },
    {
      "cell_type": "markdown",
      "id": "million-terry",
      "metadata": {
        "id": "million-terry"
      },
      "source": [
        "Funciones de comparación: comprobar si un elemento contiene o empieza por un patrón"
      ]
    },
    {
      "cell_type": "code",
      "execution_count": 68,
      "id": "empty-substitute",
      "metadata": {
        "colab": {
          "base_uri": "https://localhost:8080/",
          "height": 165
        },
        "id": "empty-substitute",
        "outputId": "d407316e-ea0c-4d49-d224-b1929fd9d938"
      },
      "outputs": [
        {
          "output_type": "error",
          "ename": "NameError",
          "evalue": "ignored",
          "traceback": [
            "\u001b[0;31m---------------------------------------------------------------------------\u001b[0m",
            "\u001b[0;31mNameError\u001b[0m                                 Traceback (most recent call last)",
            "\u001b[0;32m<ipython-input-68-99e5fac9ea42>\u001b[0m in \u001b[0;36m<module>\u001b[0;34m()\u001b[0m\n\u001b[0;32m----> 1\u001b[0;31m \u001b[0ms3\u001b[0m\u001b[0;34m\u001b[0m\u001b[0;34m\u001b[0m\u001b[0m\n\u001b[0m",
            "\u001b[0;31mNameError\u001b[0m: name 's3' is not defined"
          ]
        }
      ],
      "source": [
        "s3"
      ]
    },
    {
      "cell_type": "code",
      "execution_count": null,
      "id": "illegal-inventory",
      "metadata": {
        "colab": {
          "base_uri": "https://localhost:8080/"
        },
        "id": "illegal-inventory",
        "outputId": "31a83208-8f36-462f-ab4a-207fef969d94"
      },
      "outputs": [
        {
          "output_type": "execute_result",
          "data": {
            "text/plain": [
              "0     True\n",
              "1    False\n",
              "2    False\n",
              "3     True\n",
              "4    False\n",
              "5    False\n",
              "6     <NA>\n",
              "7    False\n",
              "8    False\n",
              "9    False\n",
              "dtype: boolean"
            ]
          },
          "metadata": {},
          "execution_count": 80
        }
      ],
      "source": [
        "s3.str.match(\"A\") #comienza por el patrón"
      ]
    },
    {
      "cell_type": "code",
      "execution_count": null,
      "id": "attractive-cisco",
      "metadata": {
        "colab": {
          "base_uri": "https://localhost:8080/",
          "height": 363
        },
        "id": "attractive-cisco",
        "outputId": "9aa76e62-0749-47e5-92ab-7c02c5d5cca9"
      },
      "outputs": [
        {
          "output_type": "execute_result",
          "data": {
            "text/plain": [
              "      0      1\n",
              "0     A   True\n",
              "1     B  False\n",
              "2     C  False\n",
              "3  Aaba   True\n",
              "4  Baca  False\n",
              "5        False\n",
              "6  <NA>   <NA>\n",
              "7  CABA  False\n",
              "8   dog  False\n",
              "9   cat  False"
            ],
            "text/html": [
              "\n",
              "  <div id=\"df-d25c0145-0971-432b-9809-f95a1c5cb301\">\n",
              "    <div class=\"colab-df-container\">\n",
              "      <div>\n",
              "<style scoped>\n",
              "    .dataframe tbody tr th:only-of-type {\n",
              "        vertical-align: middle;\n",
              "    }\n",
              "\n",
              "    .dataframe tbody tr th {\n",
              "        vertical-align: top;\n",
              "    }\n",
              "\n",
              "    .dataframe thead th {\n",
              "        text-align: right;\n",
              "    }\n",
              "</style>\n",
              "<table border=\"1\" class=\"dataframe\">\n",
              "  <thead>\n",
              "    <tr style=\"text-align: right;\">\n",
              "      <th></th>\n",
              "      <th>0</th>\n",
              "      <th>1</th>\n",
              "    </tr>\n",
              "  </thead>\n",
              "  <tbody>\n",
              "    <tr>\n",
              "      <th>0</th>\n",
              "      <td>A</td>\n",
              "      <td>True</td>\n",
              "    </tr>\n",
              "    <tr>\n",
              "      <th>1</th>\n",
              "      <td>B</td>\n",
              "      <td>False</td>\n",
              "    </tr>\n",
              "    <tr>\n",
              "      <th>2</th>\n",
              "      <td>C</td>\n",
              "      <td>False</td>\n",
              "    </tr>\n",
              "    <tr>\n",
              "      <th>3</th>\n",
              "      <td>Aaba</td>\n",
              "      <td>True</td>\n",
              "    </tr>\n",
              "    <tr>\n",
              "      <th>4</th>\n",
              "      <td>Baca</td>\n",
              "      <td>False</td>\n",
              "    </tr>\n",
              "    <tr>\n",
              "      <th>5</th>\n",
              "      <td></td>\n",
              "      <td>False</td>\n",
              "    </tr>\n",
              "    <tr>\n",
              "      <th>6</th>\n",
              "      <td>&lt;NA&gt;</td>\n",
              "      <td>&lt;NA&gt;</td>\n",
              "    </tr>\n",
              "    <tr>\n",
              "      <th>7</th>\n",
              "      <td>CABA</td>\n",
              "      <td>False</td>\n",
              "    </tr>\n",
              "    <tr>\n",
              "      <th>8</th>\n",
              "      <td>dog</td>\n",
              "      <td>False</td>\n",
              "    </tr>\n",
              "    <tr>\n",
              "      <th>9</th>\n",
              "      <td>cat</td>\n",
              "      <td>False</td>\n",
              "    </tr>\n",
              "  </tbody>\n",
              "</table>\n",
              "</div>\n",
              "      <button class=\"colab-df-convert\" onclick=\"convertToInteractive('df-d25c0145-0971-432b-9809-f95a1c5cb301')\"\n",
              "              title=\"Convert this dataframe to an interactive table.\"\n",
              "              style=\"display:none;\">\n",
              "        \n",
              "  <svg xmlns=\"http://www.w3.org/2000/svg\" height=\"24px\"viewBox=\"0 0 24 24\"\n",
              "       width=\"24px\">\n",
              "    <path d=\"M0 0h24v24H0V0z\" fill=\"none\"/>\n",
              "    <path d=\"M18.56 5.44l.94 2.06.94-2.06 2.06-.94-2.06-.94-.94-2.06-.94 2.06-2.06.94zm-11 1L8.5 8.5l.94-2.06 2.06-.94-2.06-.94L8.5 2.5l-.94 2.06-2.06.94zm10 10l.94 2.06.94-2.06 2.06-.94-2.06-.94-.94-2.06-.94 2.06-2.06.94z\"/><path d=\"M17.41 7.96l-1.37-1.37c-.4-.4-.92-.59-1.43-.59-.52 0-1.04.2-1.43.59L10.3 9.45l-7.72 7.72c-.78.78-.78 2.05 0 2.83L4 21.41c.39.39.9.59 1.41.59.51 0 1.02-.2 1.41-.59l7.78-7.78 2.81-2.81c.8-.78.8-2.07 0-2.86zM5.41 20L4 18.59l7.72-7.72 1.47 1.35L5.41 20z\"/>\n",
              "  </svg>\n",
              "      </button>\n",
              "      \n",
              "  <style>\n",
              "    .colab-df-container {\n",
              "      display:flex;\n",
              "      flex-wrap:wrap;\n",
              "      gap: 12px;\n",
              "    }\n",
              "\n",
              "    .colab-df-convert {\n",
              "      background-color: #E8F0FE;\n",
              "      border: none;\n",
              "      border-radius: 50%;\n",
              "      cursor: pointer;\n",
              "      display: none;\n",
              "      fill: #1967D2;\n",
              "      height: 32px;\n",
              "      padding: 0 0 0 0;\n",
              "      width: 32px;\n",
              "    }\n",
              "\n",
              "    .colab-df-convert:hover {\n",
              "      background-color: #E2EBFA;\n",
              "      box-shadow: 0px 1px 2px rgba(60, 64, 67, 0.3), 0px 1px 3px 1px rgba(60, 64, 67, 0.15);\n",
              "      fill: #174EA6;\n",
              "    }\n",
              "\n",
              "    [theme=dark] .colab-df-convert {\n",
              "      background-color: #3B4455;\n",
              "      fill: #D2E3FC;\n",
              "    }\n",
              "\n",
              "    [theme=dark] .colab-df-convert:hover {\n",
              "      background-color: #434B5C;\n",
              "      box-shadow: 0px 1px 3px 1px rgba(0, 0, 0, 0.15);\n",
              "      filter: drop-shadow(0px 1px 2px rgba(0, 0, 0, 0.3));\n",
              "      fill: #FFFFFF;\n",
              "    }\n",
              "  </style>\n",
              "\n",
              "      <script>\n",
              "        const buttonEl =\n",
              "          document.querySelector('#df-d25c0145-0971-432b-9809-f95a1c5cb301 button.colab-df-convert');\n",
              "        buttonEl.style.display =\n",
              "          google.colab.kernel.accessAllowed ? 'block' : 'none';\n",
              "\n",
              "        async function convertToInteractive(key) {\n",
              "          const element = document.querySelector('#df-d25c0145-0971-432b-9809-f95a1c5cb301');\n",
              "          const dataTable =\n",
              "            await google.colab.kernel.invokeFunction('convertToInteractive',\n",
              "                                                     [key], {});\n",
              "          if (!dataTable) return;\n",
              "\n",
              "          const docLinkHtml = 'Like what you see? Visit the ' +\n",
              "            '<a target=\"_blank\" href=https://colab.research.google.com/notebooks/data_table.ipynb>data table notebook</a>'\n",
              "            + ' to learn more about interactive tables.';\n",
              "          element.innerHTML = '';\n",
              "          dataTable['output_type'] = 'display_data';\n",
              "          await google.colab.output.renderOutput(dataTable, element);\n",
              "          const docLink = document.createElement('div');\n",
              "          docLink.innerHTML = docLinkHtml;\n",
              "          element.appendChild(docLink);\n",
              "        }\n",
              "      </script>\n",
              "    </div>\n",
              "  </div>\n",
              "  "
            ]
          },
          "metadata": {},
          "execution_count": 81
        }
      ],
      "source": [
        "pd.concat([s3, s3.str.startswith(\"A\")], axis=1) #comienza por patrón"
      ]
    },
    {
      "cell_type": "code",
      "execution_count": null,
      "id": "following-heating",
      "metadata": {
        "colab": {
          "base_uri": "https://localhost:8080/",
          "height": 363
        },
        "id": "following-heating",
        "outputId": "4ff8114a-b00b-4839-bea8-c5694944e123"
      },
      "outputs": [
        {
          "output_type": "execute_result",
          "data": {
            "text/plain": [
              "      0      1\n",
              "0     A   True\n",
              "1     B  False\n",
              "2     C  False\n",
              "3  Aaba   True\n",
              "4  Baca  False\n",
              "5        False\n",
              "6  <NA>   <NA>\n",
              "7  CABA   True\n",
              "8   dog  False\n",
              "9   cat  False"
            ],
            "text/html": [
              "\n",
              "  <div id=\"df-e1e9003a-dcd6-46b6-ba5a-252fa046e67c\">\n",
              "    <div class=\"colab-df-container\">\n",
              "      <div>\n",
              "<style scoped>\n",
              "    .dataframe tbody tr th:only-of-type {\n",
              "        vertical-align: middle;\n",
              "    }\n",
              "\n",
              "    .dataframe tbody tr th {\n",
              "        vertical-align: top;\n",
              "    }\n",
              "\n",
              "    .dataframe thead th {\n",
              "        text-align: right;\n",
              "    }\n",
              "</style>\n",
              "<table border=\"1\" class=\"dataframe\">\n",
              "  <thead>\n",
              "    <tr style=\"text-align: right;\">\n",
              "      <th></th>\n",
              "      <th>0</th>\n",
              "      <th>1</th>\n",
              "    </tr>\n",
              "  </thead>\n",
              "  <tbody>\n",
              "    <tr>\n",
              "      <th>0</th>\n",
              "      <td>A</td>\n",
              "      <td>True</td>\n",
              "    </tr>\n",
              "    <tr>\n",
              "      <th>1</th>\n",
              "      <td>B</td>\n",
              "      <td>False</td>\n",
              "    </tr>\n",
              "    <tr>\n",
              "      <th>2</th>\n",
              "      <td>C</td>\n",
              "      <td>False</td>\n",
              "    </tr>\n",
              "    <tr>\n",
              "      <th>3</th>\n",
              "      <td>Aaba</td>\n",
              "      <td>True</td>\n",
              "    </tr>\n",
              "    <tr>\n",
              "      <th>4</th>\n",
              "      <td>Baca</td>\n",
              "      <td>False</td>\n",
              "    </tr>\n",
              "    <tr>\n",
              "      <th>5</th>\n",
              "      <td></td>\n",
              "      <td>False</td>\n",
              "    </tr>\n",
              "    <tr>\n",
              "      <th>6</th>\n",
              "      <td>&lt;NA&gt;</td>\n",
              "      <td>&lt;NA&gt;</td>\n",
              "    </tr>\n",
              "    <tr>\n",
              "      <th>7</th>\n",
              "      <td>CABA</td>\n",
              "      <td>True</td>\n",
              "    </tr>\n",
              "    <tr>\n",
              "      <th>8</th>\n",
              "      <td>dog</td>\n",
              "      <td>False</td>\n",
              "    </tr>\n",
              "    <tr>\n",
              "      <th>9</th>\n",
              "      <td>cat</td>\n",
              "      <td>False</td>\n",
              "    </tr>\n",
              "  </tbody>\n",
              "</table>\n",
              "</div>\n",
              "      <button class=\"colab-df-convert\" onclick=\"convertToInteractive('df-e1e9003a-dcd6-46b6-ba5a-252fa046e67c')\"\n",
              "              title=\"Convert this dataframe to an interactive table.\"\n",
              "              style=\"display:none;\">\n",
              "        \n",
              "  <svg xmlns=\"http://www.w3.org/2000/svg\" height=\"24px\"viewBox=\"0 0 24 24\"\n",
              "       width=\"24px\">\n",
              "    <path d=\"M0 0h24v24H0V0z\" fill=\"none\"/>\n",
              "    <path d=\"M18.56 5.44l.94 2.06.94-2.06 2.06-.94-2.06-.94-.94-2.06-.94 2.06-2.06.94zm-11 1L8.5 8.5l.94-2.06 2.06-.94-2.06-.94L8.5 2.5l-.94 2.06-2.06.94zm10 10l.94 2.06.94-2.06 2.06-.94-2.06-.94-.94-2.06-.94 2.06-2.06.94z\"/><path d=\"M17.41 7.96l-1.37-1.37c-.4-.4-.92-.59-1.43-.59-.52 0-1.04.2-1.43.59L10.3 9.45l-7.72 7.72c-.78.78-.78 2.05 0 2.83L4 21.41c.39.39.9.59 1.41.59.51 0 1.02-.2 1.41-.59l7.78-7.78 2.81-2.81c.8-.78.8-2.07 0-2.86zM5.41 20L4 18.59l7.72-7.72 1.47 1.35L5.41 20z\"/>\n",
              "  </svg>\n",
              "      </button>\n",
              "      \n",
              "  <style>\n",
              "    .colab-df-container {\n",
              "      display:flex;\n",
              "      flex-wrap:wrap;\n",
              "      gap: 12px;\n",
              "    }\n",
              "\n",
              "    .colab-df-convert {\n",
              "      background-color: #E8F0FE;\n",
              "      border: none;\n",
              "      border-radius: 50%;\n",
              "      cursor: pointer;\n",
              "      display: none;\n",
              "      fill: #1967D2;\n",
              "      height: 32px;\n",
              "      padding: 0 0 0 0;\n",
              "      width: 32px;\n",
              "    }\n",
              "\n",
              "    .colab-df-convert:hover {\n",
              "      background-color: #E2EBFA;\n",
              "      box-shadow: 0px 1px 2px rgba(60, 64, 67, 0.3), 0px 1px 3px 1px rgba(60, 64, 67, 0.15);\n",
              "      fill: #174EA6;\n",
              "    }\n",
              "\n",
              "    [theme=dark] .colab-df-convert {\n",
              "      background-color: #3B4455;\n",
              "      fill: #D2E3FC;\n",
              "    }\n",
              "\n",
              "    [theme=dark] .colab-df-convert:hover {\n",
              "      background-color: #434B5C;\n",
              "      box-shadow: 0px 1px 3px 1px rgba(0, 0, 0, 0.15);\n",
              "      filter: drop-shadow(0px 1px 2px rgba(0, 0, 0, 0.3));\n",
              "      fill: #FFFFFF;\n",
              "    }\n",
              "  </style>\n",
              "\n",
              "      <script>\n",
              "        const buttonEl =\n",
              "          document.querySelector('#df-e1e9003a-dcd6-46b6-ba5a-252fa046e67c button.colab-df-convert');\n",
              "        buttonEl.style.display =\n",
              "          google.colab.kernel.accessAllowed ? 'block' : 'none';\n",
              "\n",
              "        async function convertToInteractive(key) {\n",
              "          const element = document.querySelector('#df-e1e9003a-dcd6-46b6-ba5a-252fa046e67c');\n",
              "          const dataTable =\n",
              "            await google.colab.kernel.invokeFunction('convertToInteractive',\n",
              "                                                     [key], {});\n",
              "          if (!dataTable) return;\n",
              "\n",
              "          const docLinkHtml = 'Like what you see? Visit the ' +\n",
              "            '<a target=\"_blank\" href=https://colab.research.google.com/notebooks/data_table.ipynb>data table notebook</a>'\n",
              "            + ' to learn more about interactive tables.';\n",
              "          element.innerHTML = '';\n",
              "          dataTable['output_type'] = 'display_data';\n",
              "          await google.colab.output.renderOutput(dataTable, element);\n",
              "          const docLink = document.createElement('div');\n",
              "          docLink.innerHTML = docLinkHtml;\n",
              "          element.appendChild(docLink);\n",
              "        }\n",
              "      </script>\n",
              "    </div>\n",
              "  </div>\n",
              "  "
            ]
          },
          "metadata": {},
          "execution_count": 82
        }
      ],
      "source": [
        "pd.concat([s3, s3.str.contains(\"A\")], axis=1) #contiene el patrón"
      ]
    },
    {
      "cell_type": "code",
      "execution_count": null,
      "id": "internal-invitation",
      "metadata": {
        "colab": {
          "base_uri": "https://localhost:8080/",
          "height": 363
        },
        "id": "internal-invitation",
        "outputId": "6dcb7656-821d-4cea-ffba-7f250934b611"
      },
      "outputs": [
        {
          "output_type": "execute_result",
          "data": {
            "text/plain": [
              "      0      1\n",
              "0     A   True\n",
              "1     B  False\n",
              "2     C  False\n",
              "3  Aaba  False\n",
              "4  Baca  False\n",
              "5        False\n",
              "6  <NA>   <NA>\n",
              "7  CABA  False\n",
              "8   dog  False\n",
              "9   cat  False"
            ],
            "text/html": [
              "\n",
              "  <div id=\"df-23228b1b-3f81-4820-96aa-9690ffff711b\">\n",
              "    <div class=\"colab-df-container\">\n",
              "      <div>\n",
              "<style scoped>\n",
              "    .dataframe tbody tr th:only-of-type {\n",
              "        vertical-align: middle;\n",
              "    }\n",
              "\n",
              "    .dataframe tbody tr th {\n",
              "        vertical-align: top;\n",
              "    }\n",
              "\n",
              "    .dataframe thead th {\n",
              "        text-align: right;\n",
              "    }\n",
              "</style>\n",
              "<table border=\"1\" class=\"dataframe\">\n",
              "  <thead>\n",
              "    <tr style=\"text-align: right;\">\n",
              "      <th></th>\n",
              "      <th>0</th>\n",
              "      <th>1</th>\n",
              "    </tr>\n",
              "  </thead>\n",
              "  <tbody>\n",
              "    <tr>\n",
              "      <th>0</th>\n",
              "      <td>A</td>\n",
              "      <td>True</td>\n",
              "    </tr>\n",
              "    <tr>\n",
              "      <th>1</th>\n",
              "      <td>B</td>\n",
              "      <td>False</td>\n",
              "    </tr>\n",
              "    <tr>\n",
              "      <th>2</th>\n",
              "      <td>C</td>\n",
              "      <td>False</td>\n",
              "    </tr>\n",
              "    <tr>\n",
              "      <th>3</th>\n",
              "      <td>Aaba</td>\n",
              "      <td>False</td>\n",
              "    </tr>\n",
              "    <tr>\n",
              "      <th>4</th>\n",
              "      <td>Baca</td>\n",
              "      <td>False</td>\n",
              "    </tr>\n",
              "    <tr>\n",
              "      <th>5</th>\n",
              "      <td></td>\n",
              "      <td>False</td>\n",
              "    </tr>\n",
              "    <tr>\n",
              "      <th>6</th>\n",
              "      <td>&lt;NA&gt;</td>\n",
              "      <td>&lt;NA&gt;</td>\n",
              "    </tr>\n",
              "    <tr>\n",
              "      <th>7</th>\n",
              "      <td>CABA</td>\n",
              "      <td>False</td>\n",
              "    </tr>\n",
              "    <tr>\n",
              "      <th>8</th>\n",
              "      <td>dog</td>\n",
              "      <td>False</td>\n",
              "    </tr>\n",
              "    <tr>\n",
              "      <th>9</th>\n",
              "      <td>cat</td>\n",
              "      <td>False</td>\n",
              "    </tr>\n",
              "  </tbody>\n",
              "</table>\n",
              "</div>\n",
              "      <button class=\"colab-df-convert\" onclick=\"convertToInteractive('df-23228b1b-3f81-4820-96aa-9690ffff711b')\"\n",
              "              title=\"Convert this dataframe to an interactive table.\"\n",
              "              style=\"display:none;\">\n",
              "        \n",
              "  <svg xmlns=\"http://www.w3.org/2000/svg\" height=\"24px\"viewBox=\"0 0 24 24\"\n",
              "       width=\"24px\">\n",
              "    <path d=\"M0 0h24v24H0V0z\" fill=\"none\"/>\n",
              "    <path d=\"M18.56 5.44l.94 2.06.94-2.06 2.06-.94-2.06-.94-.94-2.06-.94 2.06-2.06.94zm-11 1L8.5 8.5l.94-2.06 2.06-.94-2.06-.94L8.5 2.5l-.94 2.06-2.06.94zm10 10l.94 2.06.94-2.06 2.06-.94-2.06-.94-.94-2.06-.94 2.06-2.06.94z\"/><path d=\"M17.41 7.96l-1.37-1.37c-.4-.4-.92-.59-1.43-.59-.52 0-1.04.2-1.43.59L10.3 9.45l-7.72 7.72c-.78.78-.78 2.05 0 2.83L4 21.41c.39.39.9.59 1.41.59.51 0 1.02-.2 1.41-.59l7.78-7.78 2.81-2.81c.8-.78.8-2.07 0-2.86zM5.41 20L4 18.59l7.72-7.72 1.47 1.35L5.41 20z\"/>\n",
              "  </svg>\n",
              "      </button>\n",
              "      \n",
              "  <style>\n",
              "    .colab-df-container {\n",
              "      display:flex;\n",
              "      flex-wrap:wrap;\n",
              "      gap: 12px;\n",
              "    }\n",
              "\n",
              "    .colab-df-convert {\n",
              "      background-color: #E8F0FE;\n",
              "      border: none;\n",
              "      border-radius: 50%;\n",
              "      cursor: pointer;\n",
              "      display: none;\n",
              "      fill: #1967D2;\n",
              "      height: 32px;\n",
              "      padding: 0 0 0 0;\n",
              "      width: 32px;\n",
              "    }\n",
              "\n",
              "    .colab-df-convert:hover {\n",
              "      background-color: #E2EBFA;\n",
              "      box-shadow: 0px 1px 2px rgba(60, 64, 67, 0.3), 0px 1px 3px 1px rgba(60, 64, 67, 0.15);\n",
              "      fill: #174EA6;\n",
              "    }\n",
              "\n",
              "    [theme=dark] .colab-df-convert {\n",
              "      background-color: #3B4455;\n",
              "      fill: #D2E3FC;\n",
              "    }\n",
              "\n",
              "    [theme=dark] .colab-df-convert:hover {\n",
              "      background-color: #434B5C;\n",
              "      box-shadow: 0px 1px 3px 1px rgba(0, 0, 0, 0.15);\n",
              "      filter: drop-shadow(0px 1px 2px rgba(0, 0, 0, 0.3));\n",
              "      fill: #FFFFFF;\n",
              "    }\n",
              "  </style>\n",
              "\n",
              "      <script>\n",
              "        const buttonEl =\n",
              "          document.querySelector('#df-23228b1b-3f81-4820-96aa-9690ffff711b button.colab-df-convert');\n",
              "        buttonEl.style.display =\n",
              "          google.colab.kernel.accessAllowed ? 'block' : 'none';\n",
              "\n",
              "        async function convertToInteractive(key) {\n",
              "          const element = document.querySelector('#df-23228b1b-3f81-4820-96aa-9690ffff711b');\n",
              "          const dataTable =\n",
              "            await google.colab.kernel.invokeFunction('convertToInteractive',\n",
              "                                                     [key], {});\n",
              "          if (!dataTable) return;\n",
              "\n",
              "          const docLinkHtml = 'Like what you see? Visit the ' +\n",
              "            '<a target=\"_blank\" href=https://colab.research.google.com/notebooks/data_table.ipynb>data table notebook</a>'\n",
              "            + ' to learn more about interactive tables.';\n",
              "          element.innerHTML = '';\n",
              "          dataTable['output_type'] = 'display_data';\n",
              "          await google.colab.output.renderOutput(dataTable, element);\n",
              "          const docLink = document.createElement('div');\n",
              "          docLink.innerHTML = docLinkHtml;\n",
              "          element.appendChild(docLink);\n",
              "        }\n",
              "      </script>\n",
              "    </div>\n",
              "  </div>\n",
              "  "
            ]
          },
          "metadata": {},
          "execution_count": 83
        }
      ],
      "source": [
        "pd.concat([s3, s3.str.fullmatch(\"A\")], axis=1) #es igual al patrón"
      ]
    },
    {
      "cell_type": "markdown",
      "id": "selected-elder",
      "metadata": {
        "id": "selected-elder"
      },
      "source": [
        "El listado completo de métodos para *strings* está en https://pandas.pydata.org/pandas-docs/stable/user_guide/text.html#method-summary"
      ]
    },
    {
      "cell_type": "markdown",
      "id": "stylish-empty",
      "metadata": {
        "id": "stylish-empty"
      },
      "source": [
        "## Generator comprenhension y List comprenhension"
      ]
    },
    {
      "cell_type": "code",
      "source": [
        "#ITERADOR\n",
        "x = [0, 1, 2, 3, 4]\n",
        "for i in x:\n",
        "  print(i)"
      ],
      "metadata": {
        "colab": {
          "base_uri": "https://localhost:8080/"
        },
        "id": "aS7Np0BFD3DD",
        "outputId": "6819fea5-1c9d-4095-c58d-ba5ac0950af1"
      },
      "id": "aS7Np0BFD3DD",
      "execution_count": 69,
      "outputs": [
        {
          "output_type": "stream",
          "name": "stdout",
          "text": [
            "0\n",
            "1\n",
            "2\n",
            "3\n",
            "4\n"
          ]
        }
      ]
    },
    {
      "cell_type": "code",
      "source": [
        "#GENERADOR - no ocupa memoria \"ram\"\n",
        "#internamente tiene un puntero que apunta al elemento historiable que tiene que devolver.\n",
        "#al llegar al ultimo ya no vuelve al principio\n",
        "def eleva_cuadrado(lista): \n",
        "  for i in lista:\n",
        "    yield i**2\n",
        "\n",
        "cuadrado = eleva_cuadrado(x)\n",
        "print(cuadrado)\n",
        "\n",
        "for i in cuadrado:\n",
        "  print(i)"
      ],
      "metadata": {
        "colab": {
          "base_uri": "https://localhost:8080/"
        },
        "id": "6rMwCGvND_bI",
        "outputId": "9ce9efd1-3a28-42ff-830b-6ea9fe6688dd"
      },
      "id": "6rMwCGvND_bI",
      "execution_count": 70,
      "outputs": [
        {
          "output_type": "stream",
          "name": "stdout",
          "text": [
            "<generator object eleva_cuadrado at 0x7f52ceae3150>\n",
            "0\n",
            "1\n",
            "4\n",
            "9\n",
            "16\n"
          ]
        }
      ]
    },
    {
      "cell_type": "code",
      "execution_count": null,
      "id": "noted-hurricane",
      "metadata": {
        "id": "noted-hurricane"
      },
      "outputs": [],
      "source": [
        "#la función range es un caso especial de generator\n",
        "x=range(10)"
      ]
    },
    {
      "cell_type": "code",
      "execution_count": null,
      "id": "civil-conjunction",
      "metadata": {
        "colab": {
          "base_uri": "https://localhost:8080/"
        },
        "id": "civil-conjunction",
        "outputId": "5ba09a50-4c51-43c5-ae25-dc1ce93bba25"
      },
      "outputs": [
        {
          "output_type": "execute_result",
          "data": {
            "text/plain": [
              "range(0, 10)"
            ]
          },
          "metadata": {},
          "execution_count": 85
        }
      ],
      "source": [
        "x"
      ]
    },
    {
      "cell_type": "code",
      "execution_count": null,
      "id": "previous-motel",
      "metadata": {
        "colab": {
          "base_uri": "https://localhost:8080/"
        },
        "id": "previous-motel",
        "outputId": "09622d02-42c5-4b75-cdd2-645398990bf9"
      },
      "outputs": [
        {
          "output_type": "stream",
          "name": "stdout",
          "text": [
            "0\n",
            "1\n",
            "2\n",
            "3\n",
            "4\n",
            "5\n",
            "6\n",
            "7\n",
            "8\n",
            "9\n"
          ]
        }
      ],
      "source": [
        "#los generadores son iterables\n",
        "for i in x:\n",
        "    print(i)"
      ]
    },
    {
      "cell_type": "code",
      "execution_count": null,
      "id": "continued-blond",
      "metadata": {
        "colab": {
          "base_uri": "https://localhost:8080/"
        },
        "id": "continued-blond",
        "outputId": "e2f0c46d-76e4-4551-dea8-c24d6f63e361"
      },
      "outputs": [
        {
          "output_type": "execute_result",
          "data": {
            "text/plain": [
              "<generator object <genexpr> at 0x7f802d1ed550>"
            ]
          },
          "metadata": {},
          "execution_count": 87
        }
      ],
      "source": [
        "#generator comprenhension\n",
        "gen = (i**2 for i in range(10))\n",
        "gen"
      ]
    },
    {
      "cell_type": "markdown",
      "id": "functioning-chicago",
      "metadata": {
        "id": "functioning-chicago"
      },
      "source": [
        "Los `generator` se pueden recorrer con un bucle `for` pero también con la función `next()`.  "
      ]
    },
    {
      "cell_type": "code",
      "execution_count": null,
      "id": "scientific-trash",
      "metadata": {
        "colab": {
          "base_uri": "https://localhost:8080/"
        },
        "id": "scientific-trash",
        "outputId": "7b27620e-0a69-4eb1-d236-f216e9935e6e"
      },
      "outputs": [
        {
          "output_type": "execute_result",
          "data": {
            "text/plain": [
              "0"
            ]
          },
          "metadata": {},
          "execution_count": 88
        }
      ],
      "source": [
        "next(gen)"
      ]
    },
    {
      "cell_type": "markdown",
      "id": "statutory-harvard",
      "metadata": {
        "id": "statutory-harvard"
      },
      "source": [
        "Los `generator` se consumen al iterar sobre ellos, por lo que no es posible volver a generar el mismo miembro. En el siguiente bucle se comienza por el 2º elemento"
      ]
    },
    {
      "cell_type": "code",
      "execution_count": null,
      "id": "sustainable-mileage",
      "metadata": {
        "colab": {
          "base_uri": "https://localhost:8080/"
        },
        "id": "sustainable-mileage",
        "outputId": "27c0ab40-d197-486f-b993-b2246ddf95bd"
      },
      "outputs": [
        {
          "output_type": "stream",
          "name": "stdout",
          "text": [
            "1\n",
            "4\n",
            "9\n",
            "16\n",
            "25\n",
            "36\n",
            "49\n",
            "64\n",
            "81\n"
          ]
        }
      ],
      "source": [
        "for i in gen:\n",
        "    print(i)"
      ]
    },
    {
      "cell_type": "code",
      "execution_count": null,
      "id": "worst-former",
      "metadata": {
        "colab": {
          "base_uri": "https://localhost:8080/"
        },
        "id": "worst-former",
        "outputId": "fc6492fb-5041-4412-cb87-3f9feeb16b71"
      },
      "outputs": [
        {
          "output_type": "execute_result",
          "data": {
            "text/plain": [
              "128"
            ]
          },
          "metadata": {},
          "execution_count": 90
        }
      ],
      "source": [
        "import sys\n",
        "sys.getsizeof(gen)"
      ]
    },
    {
      "cell_type": "markdown",
      "id": "warming-mandate",
      "metadata": {
        "id": "warming-mandate"
      },
      "source": [
        "Podemos volcar los contenidos de un iterador (o generador) a una lista, que sí ocupa memoria por cada uno de sus elementos."
      ]
    },
    {
      "cell_type": "code",
      "execution_count": null,
      "id": "mounted-shame",
      "metadata": {
        "id": "mounted-shame"
      },
      "outputs": [],
      "source": [
        "gen = (i**2 for i in range(10))\n",
        "lista_gen = list(gen)"
      ]
    },
    {
      "cell_type": "code",
      "source": [
        "next(gen) \n",
        "# cada intro recore una posición, una vez recorrida una posición ya se ha comsumido"
      ],
      "metadata": {
        "colab": {
          "base_uri": "https://localhost:8080/"
        },
        "id": "jTGJ5zgeFdCL",
        "outputId": "19a2d91c-d817-4587-87b3-8405e73444be"
      },
      "id": "jTGJ5zgeFdCL",
      "execution_count": null,
      "outputs": [
        {
          "output_type": "execute_result",
          "data": {
            "text/plain": [
              "1"
            ]
          },
          "metadata": {},
          "execution_count": 123
        }
      ]
    },
    {
      "cell_type": "code",
      "execution_count": null,
      "id": "ignored-macintosh",
      "metadata": {
        "collapsed": true,
        "jupyter": {
          "outputs_hidden": true
        },
        "colab": {
          "base_uri": "https://localhost:8080/"
        },
        "id": "ignored-macintosh",
        "outputId": "5fb53532-acea-4f48-d33f-e88986061406"
      },
      "outputs": [
        {
          "output_type": "execute_result",
          "data": {
            "text/plain": [
              "[0, 1, 4, 9, 16, 25, 36, 49, 64, 81]"
            ]
          },
          "metadata": {},
          "execution_count": 124
        }
      ],
      "source": [
        "lista_gen"
      ]
    },
    {
      "cell_type": "code",
      "execution_count": null,
      "id": "victorian-nebraska",
      "metadata": {
        "colab": {
          "base_uri": "https://localhost:8080/"
        },
        "id": "victorian-nebraska",
        "outputId": "8352b006-5c6f-4175-e2fc-578dc2af3e61"
      },
      "outputs": [
        {
          "output_type": "execute_result",
          "data": {
            "text/plain": [
              "128"
            ]
          },
          "metadata": {},
          "execution_count": 93
        }
      ],
      "source": [
        "sys.getsizeof(gen)"
      ]
    },
    {
      "cell_type": "code",
      "execution_count": null,
      "id": "overall-precipitation",
      "metadata": {
        "colab": {
          "base_uri": "https://localhost:8080/"
        },
        "id": "overall-precipitation",
        "outputId": "b20ec550-d102-48fa-db41-189c3cbb3c0d"
      },
      "outputs": [
        {
          "output_type": "execute_result",
          "data": {
            "text/plain": [
              "168"
            ]
          },
          "metadata": {},
          "execution_count": 94
        }
      ],
      "source": [
        "sys.getsizeof(lista_gen)"
      ]
    },
    {
      "cell_type": "code",
      "execution_count": null,
      "id": "august-interval",
      "metadata": {
        "id": "august-interval"
      },
      "outputs": [],
      "source": [
        "#lo anterior equivale a un list comprenhension de los mismos valores\n",
        "lista = [i**2 for i in range(10)]"
      ]
    },
    {
      "cell_type": "code",
      "execution_count": null,
      "id": "black-compact",
      "metadata": {
        "colab": {
          "base_uri": "https://localhost:8080/"
        },
        "id": "black-compact",
        "outputId": "bd2bd643-75a7-4f65-a98b-bf494535ea96"
      },
      "outputs": [
        {
          "output_type": "execute_result",
          "data": {
            "text/plain": [
              "[0, 1, 4, 9, 16, 25, 36, 49, 64, 81]"
            ]
          },
          "metadata": {},
          "execution_count": 96
        }
      ],
      "source": [
        "lista"
      ]
    },
    {
      "cell_type": "code",
      "execution_count": null,
      "id": "played-disney",
      "metadata": {
        "id": "played-disney"
      },
      "outputs": [],
      "source": [
        "#un iterator es un objeto iterable que implementa el método next()\n",
        "gen_lista = iter(lista)"
      ]
    },
    {
      "cell_type": "code",
      "execution_count": null,
      "id": "available-costume",
      "metadata": {
        "colab": {
          "base_uri": "https://localhost:8080/"
        },
        "id": "available-costume",
        "outputId": "778bfba4-9bd6-46de-e3c6-2c2797ed28de"
      },
      "outputs": [
        {
          "output_type": "execute_result",
          "data": {
            "text/plain": [
              "<list_iterator at 0x7f802d1ef290>"
            ]
          },
          "metadata": {},
          "execution_count": 127
        }
      ],
      "source": [
        "gen_lista"
      ]
    },
    {
      "cell_type": "code",
      "execution_count": null,
      "id": "established-reality",
      "metadata": {
        "colab": {
          "base_uri": "https://localhost:8080/"
        },
        "id": "established-reality",
        "outputId": "6343054a-7b5d-4d66-9be9-6d92aa95d836"
      },
      "outputs": [
        {
          "output_type": "execute_result",
          "data": {
            "text/plain": [
              "4"
            ]
          },
          "metadata": {},
          "execution_count": 129
        }
      ],
      "source": [
        "next(gen_lista) # de esta manera no recorro entero el \"bucle\""
      ]
    },
    {
      "cell_type": "code",
      "execution_count": null,
      "id": "curious-outline",
      "metadata": {
        "colab": {
          "base_uri": "https://localhost:8080/"
        },
        "id": "curious-outline",
        "outputId": "32f461ee-0a10-4ec1-d661-da54fc579975"
      },
      "outputs": [
        {
          "output_type": "execute_result",
          "data": {
            "text/plain": [
              "9"
            ]
          },
          "metadata": {},
          "execution_count": 130
        }
      ],
      "source": [
        "next(gen_lista)"
      ]
    },
    {
      "cell_type": "code",
      "execution_count": null,
      "id": "bizarre-darkness",
      "metadata": {
        "colab": {
          "base_uri": "https://localhost:8080/"
        },
        "id": "bizarre-darkness",
        "outputId": "0d299d26-1e19-4030-9ac0-4ad263a416ca"
      },
      "outputs": [
        {
          "output_type": "stream",
          "name": "stdout",
          "text": [
            "4\n",
            "9\n",
            "16\n",
            "25\n",
            "36\n",
            "49\n",
            "64\n",
            "81\n"
          ]
        }
      ],
      "source": [
        "for i in gen_lista:\n",
        "    print(i)"
      ]
    },
    {
      "cell_type": "code",
      "execution_count": null,
      "id": "affiliated-privacy",
      "metadata": {
        "colab": {
          "base_uri": "https://localhost:8080/"
        },
        "id": "affiliated-privacy",
        "outputId": "32047bae-3f07-45a0-a2ee-80c80e3db544"
      },
      "outputs": [
        {
          "output_type": "execute_result",
          "data": {
            "text/plain": [
              "64"
            ]
          },
          "metadata": {},
          "execution_count": 102
        }
      ],
      "source": [
        "sys.getsizeof(gen_lista)"
      ]
    },
    {
      "cell_type": "code",
      "execution_count": null,
      "id": "acting-ending",
      "metadata": {
        "id": "acting-ending"
      },
      "outputs": [],
      "source": [
        "#también podemos generar tuplas con los generadores\n",
        "gen = ((i, i**2) for i in range(10))"
      ]
    },
    {
      "cell_type": "code",
      "execution_count": null,
      "id": "alpine-directory",
      "metadata": {
        "colab": {
          "base_uri": "https://localhost:8080/"
        },
        "id": "alpine-directory",
        "outputId": "d498469d-204e-45e1-cda5-3e7d5aedcdf3"
      },
      "outputs": [
        {
          "output_type": "execute_result",
          "data": {
            "text/plain": [
              "128"
            ]
          },
          "metadata": {},
          "execution_count": 104
        }
      ],
      "source": [
        "sys.getsizeof(gen)"
      ]
    },
    {
      "cell_type": "code",
      "execution_count": null,
      "id": "duplicate-civilian",
      "metadata": {
        "colab": {
          "base_uri": "https://localhost:8080/"
        },
        "id": "duplicate-civilian",
        "outputId": "0dffcf3a-530c-4c6e-add3-e8513daab4c4"
      },
      "outputs": [
        {
          "output_type": "stream",
          "name": "stdout",
          "text": [
            "(0, 0)\n",
            "(1, 1)\n",
            "(2, 4)\n",
            "(3, 9)\n",
            "(4, 16)\n",
            "(5, 25)\n",
            "(6, 36)\n",
            "(7, 49)\n",
            "(8, 64)\n",
            "(9, 81)\n"
          ]
        }
      ],
      "source": [
        "for i in gen:\n",
        "    print(i)\n"
      ]
    },
    {
      "cell_type": "code",
      "execution_count": null,
      "id": "impossible-cruise",
      "metadata": {
        "colab": {
          "base_uri": "https://localhost:8080/"
        },
        "id": "impossible-cruise",
        "outputId": "0d090627-f092-44b3-c48f-9d8bd4b647c5"
      },
      "outputs": [
        {
          "output_type": "stream",
          "name": "stdout",
          "text": [
            "El cuadrado de 0 es 0\n",
            "El cuadrado de 1 es 1\n",
            "El cuadrado de 2 es 4\n",
            "El cuadrado de 3 es 9\n",
            "El cuadrado de 4 es 16\n",
            "El cuadrado de 5 es 25\n",
            "El cuadrado de 6 es 36\n",
            "El cuadrado de 7 es 49\n",
            "El cuadrado de 8 es 64\n",
            "El cuadrado de 9 es 81\n"
          ]
        }
      ],
      "source": [
        "for i,j in ((i, i**2) for i in range(10)):\n",
        "    print(f\"El cuadrado de {i} es {j}\")"
      ]
    },
    {
      "cell_type": "markdown",
      "id": "nuclear-hawaii",
      "metadata": {
        "id": "nuclear-hawaii"
      },
      "source": [
        "### Enumerating iterables\n",
        "The built-in enumerate function allows us to iterate over an iterable, while keeping track of the iteration count"
      ]
    },
    {
      "cell_type": "code",
      "execution_count": null,
      "id": "attached-piano",
      "metadata": {
        "colab": {
          "base_uri": "https://localhost:8080/"
        },
        "id": "attached-piano",
        "outputId": "bf6c537d-9dd1-4c23-f1f5-1d2e256681c2"
      },
      "outputs": [
        {
          "output_type": "execute_result",
          "data": {
            "text/plain": [
              "<enumerate at 0x7f802d199fa0>"
            ]
          },
          "metadata": {},
          "execution_count": 107
        }
      ],
      "source": [
        "enumerate(lista)"
      ]
    },
    {
      "cell_type": "code",
      "execution_count": null,
      "id": "intimate-chicago",
      "metadata": {
        "colab": {
          "base_uri": "https://localhost:8080/"
        },
        "id": "intimate-chicago",
        "outputId": "c1731fa2-0e0f-43d3-fa93-1ba4cd2141f1"
      },
      "outputs": [
        {
          "output_type": "stream",
          "name": "stdout",
          "text": [
            "0 Texto\n",
            "1 'normal'\n",
            "2 en\n",
            "3 Python\n"
          ]
        }
      ],
      "source": [
        "for i,j in enumerate(lista2):\n",
        "    print(i,j)"
      ]
    },
    {
      "cell_type": "code",
      "execution_count": null,
      "id": "molecular-medication",
      "metadata": {
        "colab": {
          "base_uri": "https://localhost:8080/"
        },
        "id": "molecular-medication",
        "outputId": "48d7df81-8bd3-464a-ff73-40fe5c17e421"
      },
      "outputs": [
        {
          "output_type": "stream",
          "name": "stdout",
          "text": [
            "Palabra 0: Esta\n",
            "Palabra 1: es\n",
            "Palabra 2: una\n",
            "Palabra 3: frase\n"
          ]
        }
      ],
      "source": [
        "for (i, p) in enumerate(\"Esta es una frase\".split(' ')):\n",
        "    print(f\"Palabra {i}: {p}\")"
      ]
    },
    {
      "cell_type": "markdown",
      "id": "psychological-coordination",
      "metadata": {
        "id": "psychological-coordination"
      },
      "source": [
        "Podemos usar una expresión `if-else` dentro de la *comprenhension*"
      ]
    },
    {
      "cell_type": "code",
      "execution_count": null,
      "id": "nuclear-musical",
      "metadata": {
        "colab": {
          "base_uri": "https://localhost:8080/"
        },
        "id": "nuclear-musical",
        "outputId": "89a90f35-29f9-4f28-9ab7-530c2bc0078c"
      },
      "outputs": [
        {
          "output_type": "execute_result",
          "data": {
            "text/plain": [
              "['par',\n",
              " 'impar',\n",
              " 'par',\n",
              " 'impar',\n",
              " 'par',\n",
              " 'impar',\n",
              " 'par',\n",
              " 'impar',\n",
              " 'par',\n",
              " 'impar']"
            ]
          },
          "metadata": {},
          "execution_count": 110
        }
      ],
      "source": [
        "['impar' if i%2 else 'par' for i in range(10)] \n",
        "#recorro todos los elementos, pero que me devuelva si es par o impar"
      ]
    },
    {
      "cell_type": "code",
      "execution_count": null,
      "id": "raising-schema",
      "metadata": {
        "colab": {
          "base_uri": "https://localhost:8080/"
        },
        "id": "raising-schema",
        "outputId": "a020e60d-8009-4cfd-807c-6e1c9e29000e"
      },
      "outputs": [
        {
          "output_type": "execute_result",
          "data": {
            "text/plain": [
              "[(0, 'par'),\n",
              " (1, 'impar'),\n",
              " (2, 'par'),\n",
              " (3, 'impar'),\n",
              " (4, 'par'),\n",
              " (5, 'impar'),\n",
              " (6, 'par'),\n",
              " (7, 'impar'),\n",
              " (8, 'par'),\n",
              " (9, 'impar')]"
            ]
          },
          "metadata": {},
          "execution_count": 111
        }
      ],
      "source": [
        "#devolviendo una tupla con (valor, par/impar)\n",
        "[(i,'impar' if i%2 else 'par') for i in range(10)]"
      ]
    },
    {
      "cell_type": "code",
      "execution_count": null,
      "id": "resident-essex",
      "metadata": {
        "colab": {
          "base_uri": "https://localhost:8080/"
        },
        "id": "resident-essex",
        "outputId": "c8a1de20-7d14-432e-cd5e-6d3e79b902cf"
      },
      "outputs": [
        {
          "output_type": "execute_result",
          "data": {
            "text/plain": [
              "['en', 'PYTHON']"
            ]
          },
          "metadata": {},
          "execution_count": 112
        }
      ],
      "source": [
        "#podemos combinar con funciones sobre str\n",
        "[c.upper() if len(c)>3 else c for c in lista2 if c.endswith('n')]"
      ]
    },
    {
      "cell_type": "code",
      "execution_count": null,
      "id": "local-deviation",
      "metadata": {
        "id": "local-deviation"
      },
      "outputs": [],
      "source": [
        "#también lo podemos hacer sobre un generador\n",
        "gen = (c.upper() if len(c)>3 else c for c in lista2 if c.endswith('n'))"
      ]
    },
    {
      "cell_type": "code",
      "execution_count": null,
      "id": "standing-organizer",
      "metadata": {
        "colab": {
          "base_uri": "https://localhost:8080/"
        },
        "id": "standing-organizer",
        "outputId": "f060aedb-e27b-4b60-d611-682393ffae9e"
      },
      "outputs": [
        {
          "output_type": "execute_result",
          "data": {
            "text/plain": [
              "<generator object <genexpr> at 0x7f802d1eded0>"
            ]
          },
          "metadata": {},
          "execution_count": 114
        }
      ],
      "source": [
        "gen"
      ]
    },
    {
      "cell_type": "code",
      "execution_count": null,
      "id": "ancient-spray",
      "metadata": {
        "colab": {
          "base_uri": "https://localhost:8080/"
        },
        "id": "ancient-spray",
        "outputId": "006e6c89-c605-4f81-b9ac-e948042b4ac5"
      },
      "outputs": [
        {
          "output_type": "stream",
          "name": "stdout",
          "text": [
            "en\n",
            "PYTHON\n"
          ]
        }
      ],
      "source": [
        "for i in gen:\n",
        "    print(i)"
      ]
    },
    {
      "cell_type": "code",
      "execution_count": null,
      "id": "devoted-delhi",
      "metadata": {
        "id": "devoted-delhi"
      },
      "outputs": [],
      "source": [
        ""
      ]
    }
  ],
  "metadata": {
    "kernelspec": {
      "display_name": "Python 3",
      "language": "python",
      "name": "python3"
    },
    "language_info": {
      "codemirror_mode": {
        "name": "ipython",
        "version": 3
      },
      "file_extension": ".py",
      "mimetype": "text/x-python",
      "name": "python",
      "nbconvert_exporter": "python",
      "pygments_lexer": "ipython3",
      "version": "3.8.8"
    },
    "colab": {
      "name": "NLP_01-Uso de texto en Python.ipynb",
      "provenance": [],
      "include_colab_link": true
    }
  },
  "nbformat": 4,
  "nbformat_minor": 5
}