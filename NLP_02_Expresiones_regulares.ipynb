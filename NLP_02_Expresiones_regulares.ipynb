{
  "cells": [
    {
      "cell_type": "markdown",
      "metadata": {
        "id": "view-in-github",
        "colab_type": "text"
      },
      "source": [
        "<a href=\"https://colab.research.google.com/github/SoniaPMi/NLP/blob/main/NLP_02_Expresiones_regulares.ipynb\" target=\"_parent\"><img src=\"https://colab.research.google.com/assets/colab-badge.svg\" alt=\"Open In Colab\"/></a>"
      ]
    },
    {
      "cell_type": "markdown",
      "id": "seeing-kelly",
      "metadata": {
        "id": "seeing-kelly"
      },
      "source": [
        "# Expresiones regulares en Python\n",
        "El módulo `re` tiene las siguientes funciones de Regex:\n",
        "- `findall`: Returns a list containing all matches  \n",
        "- `search`: Returns a Match object if there is a match anywhere in the string  \n",
        "- `match`: Returns a Match object if there is a match at the start of the string  \n",
        "- `split`: Returns a list where the string has been split at each match  \n",
        "- `sub`: Replaces one or many matches with a string  "
      ]
    },
    {
      "cell_type": "code",
      "execution_count": 1,
      "id": "wound-preliminary",
      "metadata": {
        "id": "wound-preliminary"
      },
      "outputs": [],
      "source": [
        "import re"
      ]
    },
    {
      "cell_type": "markdown",
      "id": "thousand-chapel",
      "metadata": {
        "id": "thousand-chapel"
      },
      "source": [
        "Las expresiones regulares son patrones formados por:  \n",
        "- texto  \n",
        "- Metacaracteres  \n",
        "- Secuencias especiales  \n",
        "- Sets  "
      ]
    },
    {
      "cell_type": "code",
      "execution_count": 2,
      "id": "minor-prophet",
      "metadata": {
        "id": "minor-prophet"
      },
      "outputs": [],
      "source": [
        "texto = 'El Sol aparece por la mañana entre las montañas y los ríos'"
      ]
    },
    {
      "cell_type": "markdown",
      "id": "imposed-keyboard",
      "metadata": {
        "id": "imposed-keyboard"
      },
      "source": [
        "### Texto"
      ]
    },
    {
      "cell_type": "code",
      "execution_count": 3,
      "id": "legitimate-boutique",
      "metadata": {
        "colab": {
          "base_uri": "https://localhost:8080/"
        },
        "id": "legitimate-boutique",
        "outputId": "a6d8091f-ed0a-4096-ca5d-35c637629d45"
      },
      "outputs": [
        {
          "output_type": "execute_result",
          "data": {
            "text/plain": [
              "<re.Match object; span=(23, 26), match='aña'>"
            ]
          },
          "metadata": {},
          "execution_count": 3
        }
      ],
      "source": [
        "re.search(\"aña\", texto)"
      ]
    },
    {
      "cell_type": "code",
      "execution_count": 4,
      "id": "dressed-tourism",
      "metadata": {
        "colab": {
          "base_uri": "https://localhost:8080/",
          "height": 35
        },
        "id": "dressed-tourism",
        "outputId": "852e81d1-ff82-4886-d1ef-3fbce662a5a5"
      },
      "outputs": [
        {
          "output_type": "execute_result",
          "data": {
            "text/plain": [
              "'aña'"
            ],
            "application/vnd.google.colaboratory.intrinsic+json": {
              "type": "string"
            }
          },
          "metadata": {},
          "execution_count": 4
        }
      ],
      "source": [
        "#indexamos del inicio al final del span\n",
        "texto[23:26]"
      ]
    },
    {
      "cell_type": "markdown",
      "id": "explicit-channels",
      "metadata": {
        "id": "explicit-channels"
      },
      "source": [
        "Los objetos de tipo `re.Match` tienen distintos atributos, pero el texto encontrado por el patrón está en el atributo `group(0)` o elemento [0]"
      ]
    },
    {
      "cell_type": "code",
      "execution_count": 5,
      "id": "angry-church",
      "metadata": {
        "colab": {
          "base_uri": "https://localhost:8080/",
          "height": 35
        },
        "id": "angry-church",
        "outputId": "d3ed07aa-23bc-4e3b-c837-9f10063b12ba"
      },
      "outputs": [
        {
          "output_type": "execute_result",
          "data": {
            "text/plain": [
              "'AÑA'"
            ],
            "application/vnd.google.colaboratory.intrinsic+json": {
              "type": "string"
            }
          },
          "metadata": {},
          "execution_count": 5
        }
      ],
      "source": [
        "m = re.search(\"aña\", texto)\n",
        "m[0].upper() #m[0] equivale a  re.search(\"aña\", texto).group(0)"
      ]
    },
    {
      "cell_type": "code",
      "source": [
        "m"
      ],
      "metadata": {
        "colab": {
          "base_uri": "https://localhost:8080/"
        },
        "id": "-9bClvnePKQr",
        "outputId": "152689cc-6851-49f0-ecf0-14cd90b17ca2"
      },
      "id": "-9bClvnePKQr",
      "execution_count": 6,
      "outputs": [
        {
          "output_type": "execute_result",
          "data": {
            "text/plain": [
              "<re.Match object; span=(23, 26), match='aña'>"
            ]
          },
          "metadata": {},
          "execution_count": 6
        }
      ]
    },
    {
      "cell_type": "code",
      "execution_count": 7,
      "id": "30055162",
      "metadata": {
        "colab": {
          "base_uri": "https://localhost:8080/"
        },
        "id": "30055162",
        "outputId": "3e4dec95-4fb0-452f-bf87-b90a54b197e6"
      },
      "outputs": [
        {
          "output_type": "execute_result",
          "data": {
            "text/plain": [
              "['end',\n",
              " 'endpos',\n",
              " 'expand',\n",
              " 'group',\n",
              " 'groupdict',\n",
              " 'groups',\n",
              " 'lastgroup',\n",
              " 'lastindex',\n",
              " 'pos',\n",
              " 're',\n",
              " 'regs',\n",
              " 'span',\n",
              " 'start',\n",
              " 'string']"
            ]
          },
          "metadata": {},
          "execution_count": 7
        }
      ],
      "source": [
        "[a for a in dir(m) if not a.startswith('__')]"
      ]
    },
    {
      "cell_type": "code",
      "execution_count": 8,
      "id": "surprised-letter",
      "metadata": {
        "colab": {
          "base_uri": "https://localhost:8080/",
          "height": 35
        },
        "id": "surprised-letter",
        "outputId": "7d13e9c9-16ab-4b48-c9c4-15e387ade1ba"
      },
      "outputs": [
        {
          "output_type": "execute_result",
          "data": {
            "text/plain": [
              "'aña'"
            ],
            "application/vnd.google.colaboratory.intrinsic+json": {
              "type": "string"
            }
          },
          "metadata": {},
          "execution_count": 8
        }
      ],
      "source": [
        "texto[m.start():m.end()]"
      ]
    },
    {
      "cell_type": "markdown",
      "id": "acknowledged-tours",
      "metadata": {
        "id": "acknowledged-tours"
      },
      "source": [
        "Los objetos `re.match` también se pueden usar como valor booleano (`True` si el patrón regular existe en la cadena de texto)."
      ]
    },
    {
      "cell_type": "code",
      "execution_count": 9,
      "id": "painted-powell",
      "metadata": {
        "colab": {
          "base_uri": "https://localhost:8080/"
        },
        "id": "painted-powell",
        "outputId": "756259e4-4413-4849-8ad3-49b16e94d38f"
      },
      "outputs": [
        {
          "output_type": "stream",
          "name": "stdout",
          "text": [
            "False\n"
          ]
        }
      ],
      "source": [
        "if re.search(\"caña\", texto):\n",
        "    print(\"True\")\n",
        "else:\n",
        "    print(\"False\")"
      ]
    },
    {
      "cell_type": "markdown",
      "id": "strategic-isaac",
      "metadata": {
        "id": "strategic-isaac"
      },
      "source": [
        "Para buscar todas las apariciones del patrón en el texto (sólo el texto) usamos `re.findall()`"
      ]
    },
    {
      "cell_type": "code",
      "execution_count": 10,
      "id": "geological-retrieval",
      "metadata": {
        "colab": {
          "base_uri": "https://localhost:8080/"
        },
        "id": "geological-retrieval",
        "outputId": "e6493977-a9b1-441a-be0d-798f632b1693"
      },
      "outputs": [
        {
          "output_type": "execute_result",
          "data": {
            "text/plain": [
              "['aña', 'aña']"
            ]
          },
          "metadata": {},
          "execution_count": 10
        }
      ],
      "source": [
        "re.findall(\"aña\", texto)"
      ]
    },
    {
      "cell_type": "markdown",
      "id": "bridal-warrant",
      "metadata": {
        "id": "bridal-warrant"
      },
      "source": [
        "Para obtener un objeto `Match` por cada patrón encontrado hay que usar la función `re.finditer()`"
      ]
    },
    {
      "cell_type": "code",
      "execution_count": 11,
      "id": "productive-motivation",
      "metadata": {
        "colab": {
          "base_uri": "https://localhost:8080/"
        },
        "id": "productive-motivation",
        "outputId": "8b4dbe55-24fe-41c6-fa9b-feec697c06c5"
      },
      "outputs": [
        {
          "output_type": "execute_result",
          "data": {
            "text/plain": [
              "<callable_iterator at 0x7f5aa5310b90>"
            ]
          },
          "metadata": {},
          "execution_count": 11
        }
      ],
      "source": [
        "patrones = re.finditer(\"aña\", texto)\n",
        "patrones"
      ]
    },
    {
      "cell_type": "code",
      "execution_count": 12,
      "id": "german-ranch",
      "metadata": {
        "colab": {
          "base_uri": "https://localhost:8080/"
        },
        "id": "german-ranch",
        "outputId": "e383553b-b9b2-48dd-882a-2d9ef450d6f7"
      },
      "outputs": [
        {
          "output_type": "stream",
          "name": "stdout",
          "text": [
            "<re.Match object; span=(23, 26), match='aña'>\n",
            "<re.Match object; span=(43, 46), match='aña'>\n"
          ]
        }
      ],
      "source": [
        "for p in patrones:\n",
        "    print(p)"
      ]
    },
    {
      "cell_type": "markdown",
      "id": "treated-resort",
      "metadata": {
        "id": "treated-resort"
      },
      "source": [
        "#### Metacaracteres"
      ]
    },
    {
      "cell_type": "code",
      "execution_count": 13,
      "id": "friendly-wheat",
      "metadata": {
        "colab": {
          "base_uri": "https://localhost:8080/",
          "height": 35
        },
        "id": "friendly-wheat",
        "outputId": "90f276d8-d391-4948-b3ac-bbe1c94e8acb"
      },
      "outputs": [
        {
          "output_type": "execute_result",
          "data": {
            "text/plain": [
              "'El Sol aparece por la mañana entre las montañas y los ríos'"
            ],
            "application/vnd.google.colaboratory.intrinsic+json": {
              "type": "string"
            }
          },
          "metadata": {},
          "execution_count": 13
        }
      ],
      "source": [
        "texto"
      ]
    },
    {
      "cell_type": "code",
      "execution_count": 14,
      "id": "technical-variance",
      "metadata": {
        "colab": {
          "base_uri": "https://localhost:8080/"
        },
        "id": "technical-variance",
        "outputId": "f9d668cc-f7d2-4a42-be38-256977a8ca38"
      },
      "outputs": [
        {
          "output_type": "execute_result",
          "data": {
            "text/plain": [
              "['las', 'los']"
            ]
          },
          "metadata": {},
          "execution_count": 14
        }
      ],
      "source": [
        "re.findall(\"l.s\", texto)"
      ]
    },
    {
      "cell_type": "code",
      "execution_count": 15,
      "id": "helpful-qualification",
      "metadata": {
        "colab": {
          "base_uri": "https://localhost:8080/"
        },
        "id": "helpful-qualification",
        "outputId": "98f32e6c-39c8-417c-df34-4229beef405a"
      },
      "outputs": [
        {
          "output_type": "execute_result",
          "data": {
            "text/plain": [
              "['la', 'las']"
            ]
          },
          "metadata": {},
          "execution_count": 15
        }
      ],
      "source": [
        "re.findall(\"las?\", texto) #busca tanto la como las, pq tiene ?. \n",
        "#limite de aparecer 0 o 1 vez l"
      ]
    },
    {
      "cell_type": "code",
      "source": [
        "re.findall(\"lol?\", \"Lol lo lolo\")"
      ],
      "metadata": {
        "id": "U9J7r-OcXLTL",
        "outputId": "c0b99adb-77b1-4405-8d7a-cee0b6985d07",
        "colab": {
          "base_uri": "https://localhost:8080/"
        }
      },
      "id": "U9J7r-OcXLTL",
      "execution_count": 18,
      "outputs": [
        {
          "output_type": "execute_result",
          "data": {
            "text/plain": [
              "['lo', 'lol']"
            ]
          },
          "metadata": {},
          "execution_count": 18
        }
      ]
    },
    {
      "cell_type": "code",
      "execution_count": 16,
      "id": "basic-mechanics",
      "metadata": {
        "colab": {
          "base_uri": "https://localhost:8080/"
        },
        "id": "basic-mechanics",
        "outputId": "c33277f1-9cd1-4052-8e48-ccfd1d160bf1"
      },
      "outputs": [
        {
          "output_type": "execute_result",
          "data": {
            "text/plain": [
              "['la', 'las', 'lass']"
            ]
          },
          "metadata": {},
          "execution_count": 16
        }
      ],
      "source": [
        "re.findall(\"las*\", 'la las lass') #la búsqueda es de tipo \"greedy\" (avariciosa)\n",
        "#el asteríco es coger todas las \"s\" que pueda"
      ]
    },
    {
      "cell_type": "markdown",
      "id": "worldwide-limit",
      "metadata": {
        "id": "worldwide-limit"
      },
      "source": [
        "### Secuencias especiales"
      ]
    },
    {
      "cell_type": "code",
      "execution_count": 19,
      "id": "rational-tomorrow",
      "metadata": {
        "id": "rational-tomorrow"
      },
      "outputs": [],
      "source": [
        "texto2 = \"La caña es débil\""
      ]
    },
    {
      "cell_type": "markdown",
      "id": "divided-admission",
      "metadata": {
        "id": "divided-admission"
      },
      "source": [
        "`\\w`: caracteres alfanuméricos (unicode)"
      ]
    },
    {
      "cell_type": "code",
      "execution_count": 20,
      "id": "detailed-identity",
      "metadata": {
        "colab": {
          "base_uri": "https://localhost:8080/"
        },
        "id": "detailed-identity",
        "outputId": "1451f7a6-7426-49f4-c3e1-0375d6dcee68"
      },
      "outputs": [
        {
          "output_type": "execute_result",
          "data": {
            "text/plain": [
              "['L', 'a', 'c', 'a', 'ñ', 'a', 'e', 's', 'd', 'é', 'b', 'i', 'l']"
            ]
          },
          "metadata": {},
          "execution_count": 20
        }
      ],
      "source": [
        "re.findall(\"\\w\", texto2)"
      ]
    },
    {
      "cell_type": "code",
      "execution_count": 21,
      "id": "interpreted-fluid",
      "metadata": {
        "colab": {
          "base_uri": "https://localhost:8080/"
        },
        "id": "interpreted-fluid",
        "outputId": "56b26660-5f9a-4cd1-c7c4-9783040b88c6"
      },
      "outputs": [
        {
          "output_type": "execute_result",
          "data": {
            "text/plain": [
              "['La', 'caña', 'es', 'débil']"
            ]
          },
          "metadata": {},
          "execution_count": 21
        }
      ],
      "source": [
        "re.findall(\"\\w+\", texto2)"
      ]
    },
    {
      "cell_type": "code",
      "execution_count": 22,
      "id": "transsexual-digest",
      "metadata": {
        "colab": {
          "base_uri": "https://localhost:8080/"
        },
        "id": "transsexual-digest",
        "outputId": "f8c2ead3-820c-429b-d1e6-cce5b6c1a0b5"
      },
      "outputs": [
        {
          "output_type": "execute_result",
          "data": {
            "text/plain": [
              "['La', 'ca', 'a', 'es', 'd', 'bil']"
            ]
          },
          "metadata": {},
          "execution_count": 22
        }
      ],
      "source": [
        "#cuidado porque el rango de caracteres A-Z no incluye caracteres unicode\n",
        "re.findall(\"[A-Za-z0-9_]+\", texto2)"
      ]
    },
    {
      "cell_type": "code",
      "execution_count": 23,
      "id": "first-major",
      "metadata": {
        "colab": {
          "base_uri": "https://localhost:8080/"
        },
        "id": "first-major",
        "outputId": "9f207e62-1aeb-4d37-d315-ebca0280d6d7"
      },
      "outputs": [
        {
          "output_type": "execute_result",
          "data": {
            "text/plain": [
              "['mañana', 'adiøs18']"
            ]
          },
          "metadata": {},
          "execution_count": 23
        }
      ],
      "source": [
        "re.findall(\"\\w+\", \"mañana, adiøs18\")"
      ]
    },
    {
      "cell_type": "markdown",
      "id": "supreme-alexander",
      "metadata": {
        "id": "supreme-alexander"
      },
      "source": [
        "`\\d`: dígitos"
      ]
    },
    {
      "cell_type": "code",
      "execution_count": 24,
      "id": "purple-affect",
      "metadata": {
        "id": "purple-affect"
      },
      "outputs": [],
      "source": [
        "texto2 = \"Hay 35 alumnos en 1º, pero sólo 7 en 4º\""
      ]
    },
    {
      "cell_type": "code",
      "execution_count": null,
      "id": "upset-thanks",
      "metadata": {
        "colab": {
          "base_uri": "https://localhost:8080/"
        },
        "id": "upset-thanks",
        "outputId": "eee6819d-971c-461c-a506-3fd094c2f6c9"
      },
      "outputs": [
        {
          "output_type": "execute_result",
          "data": {
            "text/plain": [
              "['35', '1', '7', '4']"
            ]
          },
          "metadata": {},
          "execution_count": 26
        }
      ],
      "source": [
        "re.findall(\"\\d+\", texto2)"
      ]
    },
    {
      "cell_type": "code",
      "execution_count": 25,
      "id": "painted-powder",
      "metadata": {
        "colab": {
          "base_uri": "https://localhost:8080/"
        },
        "id": "painted-powder",
        "outputId": "1c7a8993-084f-4c37-970b-d35c07d0f2fb"
      },
      "outputs": [
        {
          "output_type": "execute_result",
          "data": {
            "text/plain": [
              "['Hay', '35', 'alumnos', 'en', '1º', 'pero', 'sólo', '7', 'en', '4º']"
            ]
          },
          "metadata": {},
          "execution_count": 25
        }
      ],
      "source": [
        "re.findall(\"\\w+\", texto2)"
      ]
    },
    {
      "cell_type": "markdown",
      "id": "straight-synthesis",
      "metadata": {
        "id": "straight-synthesis"
      },
      "source": [
        "`\\b`: inicio o fin de palabra"
      ]
    },
    {
      "cell_type": "code",
      "execution_count": 26,
      "id": "renewable-volume",
      "metadata": {
        "id": "renewable-volume"
      },
      "outputs": [],
      "source": [
        "texto = \"la blanca lavandería\""
      ]
    },
    {
      "cell_type": "code",
      "execution_count": 27,
      "id": "consecutive-highway",
      "metadata": {
        "colab": {
          "base_uri": "https://localhost:8080/"
        },
        "id": "consecutive-highway",
        "outputId": "38c25b1c-2165-443e-a2c0-a1a6d99cdee8"
      },
      "outputs": [
        {
          "output_type": "execute_result",
          "data": {
            "text/plain": [
              "['la', 'lavandería']"
            ]
          },
          "metadata": {},
          "execution_count": 27
        }
      ],
      "source": [
        "re.findall(r\"\\bla\\w*\", texto) #palabras que comienzan por 'la'"
      ]
    },
    {
      "cell_type": "code",
      "execution_count": 28,
      "id": "laden-helen",
      "metadata": {
        "colab": {
          "base_uri": "https://localhost:8080/"
        },
        "id": "laden-helen",
        "outputId": "f5dddb94-0f24-4e1d-e164-c471a8b9c5d7"
      },
      "outputs": [
        {
          "output_type": "execute_result",
          "data": {
            "text/plain": [
              "['la', 'lanca', 'lavandería']"
            ]
          },
          "metadata": {},
          "execution_count": 28
        }
      ],
      "source": [
        "#por contra\n",
        "re.findall(r\"la\\w*\", texto) #palabras que contienen 'la'"
      ]
    },
    {
      "cell_type": "code",
      "execution_count": 29,
      "id": "ultimate-banks",
      "metadata": {
        "colab": {
          "base_uri": "https://localhost:8080/"
        },
        "id": "ultimate-banks",
        "outputId": "cb131fc0-d96a-4a38-fab3-681017995366"
      },
      "outputs": [
        {
          "output_type": "execute_result",
          "data": {
            "text/plain": [
              "['los', 'ríos']"
            ]
          },
          "metadata": {},
          "execution_count": 29
        }
      ],
      "source": [
        "re.findall(r\"\\w*os\\b\", \"los ríos y otras oscuras formaciones geológicas\") #palabras que terminan en 'os'"
      ]
    },
    {
      "cell_type": "code",
      "execution_count": null,
      "id": "passive-perfume",
      "metadata": {
        "colab": {
          "base_uri": "https://localhost:8080/"
        },
        "id": "passive-perfume",
        "outputId": "c9fdba24-08ad-400d-9f27-cb19ce1e6f4d"
      },
      "outputs": [
        {
          "output_type": "execute_result",
          "data": {
            "text/plain": [
              "['los', 'ríos', 'os']"
            ]
          },
          "metadata": {},
          "execution_count": 32
        }
      ],
      "source": [
        "#por contra\n",
        "re.findall(r\"\\w*os\", \"los ríos y otras oscuras formaciones geológicas\")"
      ]
    },
    {
      "cell_type": "markdown",
      "id": "exposed-deputy",
      "metadata": {
        "id": "exposed-deputy"
      },
      "source": [
        "### Sets"
      ]
    },
    {
      "cell_type": "code",
      "execution_count": 30,
      "id": "placed-premiere",
      "metadata": {
        "id": "placed-premiere"
      },
      "outputs": [],
      "source": [
        "texto = 'los soles y las lisas'"
      ]
    },
    {
      "cell_type": "code",
      "execution_count": 31,
      "id": "bored-springfield",
      "metadata": {
        "colab": {
          "base_uri": "https://localhost:8080/"
        },
        "id": "bored-springfield",
        "outputId": "7842d3cc-3dcf-4aa5-ccaf-0e1c0935069d"
      },
      "outputs": [
        {
          "output_type": "execute_result",
          "data": {
            "text/plain": [
              "['los', 'les', 'las', 'lis']"
            ]
          },
          "metadata": {},
          "execution_count": 31
        }
      ],
      "source": [
        "re.findall(\"l\\ws\", texto)"
      ]
    },
    {
      "cell_type": "code",
      "execution_count": 32,
      "id": "friendly-patient",
      "metadata": {
        "colab": {
          "base_uri": "https://localhost:8080/"
        },
        "id": "friendly-patient",
        "outputId": "0abe91de-6bd3-46ac-ee73-8ddbd2a2686f"
      },
      "outputs": [
        {
          "output_type": "execute_result",
          "data": {
            "text/plain": [
              "['los', 'las']"
            ]
          },
          "metadata": {},
          "execution_count": 32
        }
      ],
      "source": [
        "re.findall(\"l[oa]s\", texto)"
      ]
    },
    {
      "cell_type": "code",
      "execution_count": 33,
      "id": "italic-camera",
      "metadata": {
        "colab": {
          "base_uri": "https://localhost:8080/"
        },
        "id": "italic-camera",
        "outputId": "e0a8f6ce-2858-45d2-96a1-a05363363a25"
      },
      "outputs": [
        {
          "output_type": "execute_result",
          "data": {
            "text/plain": [
              "['los', 'soles', 'y', 'las', 'lisas']"
            ]
          },
          "metadata": {},
          "execution_count": 33
        }
      ],
      "source": [
        "re.findall(\"[a-zA-Z]+\", texto) #cuidado: la `ñ` no está en el alfabeto a-z"
      ]
    },
    {
      "cell_type": "markdown",
      "id": "seven-ensemble",
      "metadata": {
        "id": "seven-ensemble"
      },
      "source": [
        "### cuantificadores"
      ]
    },
    {
      "cell_type": "code",
      "execution_count": 34,
      "id": "occasional-purple",
      "metadata": {
        "id": "occasional-purple"
      },
      "outputs": [],
      "source": [
        "texto = 'El Sol aparece por la mañana entre las montañas y los ríos'"
      ]
    },
    {
      "cell_type": "code",
      "execution_count": null,
      "id": "processed-house",
      "metadata": {
        "colab": {
          "base_uri": "https://localhost:8080/"
        },
        "id": "processed-house",
        "outputId": "ec0d85a8-fbc3-484f-875b-fa6c60b0409a"
      },
      "outputs": [
        {
          "output_type": "execute_result",
          "data": {
            "text/plain": [
              "['apare', 'mañan', 'entre', 'monta', 'ríos']"
            ]
          },
          "metadata": {},
          "execution_count": 38
        }
      ],
      "source": [
        "re.findall(\"\\w{4,5}\", texto) \n",
        "#palabras de 4 o más caracteres / cuando corta palabra vuelve a empezar"
      ]
    },
    {
      "cell_type": "code",
      "execution_count": null,
      "id": "transsexual-incident",
      "metadata": {
        "colab": {
          "base_uri": "https://localhost:8080/"
        },
        "id": "transsexual-incident",
        "outputId": "795b5f0c-9f7d-48b0-ad6b-c4084b2613c9"
      },
      "outputs": [
        {
          "output_type": "execute_result",
          "data": {
            "text/plain": [
              "['El', 'Sol', 'por', 'la', 'las', 'los', 'ríos']"
            ]
          },
          "metadata": {},
          "execution_count": 39
        }
      ],
      "source": [
        "re.findall(r\"\\b\\w{2,4}\\b\", texto) #palabras dentre 2 y 4 caracteres"
      ]
    },
    {
      "cell_type": "markdown",
      "id": "bearing-speaking",
      "metadata": {
        "id": "bearing-speaking"
      },
      "source": [
        "### Ejercicio\n",
        "Detecta palabras que empiezan por `m` con una longitud entre 3 y 5 caracteres en el siguiente texto"
      ]
    },
    {
      "cell_type": "code",
      "execution_count": 35,
      "id": "classical-range",
      "metadata": {
        "id": "classical-range"
      },
      "outputs": [],
      "source": [
        "texto = 'más o menos me da igual, de manera que tú mismo'\n"
      ]
    },
    {
      "cell_type": "code",
      "source": [
        "re.findall(r\"\\bm\\w{3,5}\\b\", texto) #palabras dentre 2 y 4 caracteres\n",
        "#w* no porque tiene que acabar ahi\n",
        "#\\b para encontrar palabra entera, y no dejar manera cortado"
      ],
      "metadata": {
        "colab": {
          "base_uri": "https://localhost:8080/"
        },
        "id": "u4_RiRP6VQ26",
        "outputId": "af1fae7d-76a0-4fa2-c35b-8decbca60ecd"
      },
      "id": "u4_RiRP6VQ26",
      "execution_count": 36,
      "outputs": [
        {
          "output_type": "execute_result",
          "data": {
            "text/plain": [
              "['menos', 'manera', 'mismo']"
            ]
          },
          "metadata": {},
          "execution_count": 36
        }
      ]
    },
    {
      "cell_type": "markdown",
      "id": "included-thanksgiving",
      "metadata": {
        "id": "included-thanksgiving"
      },
      "source": [
        "### Captura de grupos\n",
        "Un grupo es un patrón RegEx que queremos obtener (capturar) dentro de una patrón de expresión regular más amplio"
      ]
    },
    {
      "cell_type": "code",
      "execution_count": 37,
      "id": "reserved-violation",
      "metadata": {
        "id": "reserved-violation"
      },
      "outputs": [],
      "source": [
        "texto = 'Hay 35 alumnos en 1º pero sólo 7 en 4º'"
      ]
    },
    {
      "cell_type": "code",
      "execution_count": 38,
      "id": "suffering-rugby",
      "metadata": {
        "colab": {
          "base_uri": "https://localhost:8080/"
        },
        "id": "suffering-rugby",
        "outputId": "ccc60a52-f9bf-4054-ad5d-ee8105a96c4e"
      },
      "outputs": [
        {
          "output_type": "execute_result",
          "data": {
            "text/plain": [
              "['1', '4']"
            ]
          },
          "metadata": {},
          "execution_count": 38
        }
      ],
      "source": [
        "re.findall(r\"(\\d)º\", texto) #capturamos 1 dígito sólo si va seguido de 'º'"
      ]
    },
    {
      "cell_type": "code",
      "execution_count": 39,
      "id": "removed-services",
      "metadata": {
        "colab": {
          "base_uri": "https://localhost:8080/"
        },
        "id": "removed-services",
        "outputId": "40eaf63d-d856-4d68-ccd1-7d198d07999c"
      },
      "outputs": [
        {
          "output_type": "execute_result",
          "data": {
            "text/plain": [
              "[('1', 'A'), ('4', 'B')]"
            ]
          },
          "metadata": {},
          "execution_count": 39
        }
      ],
      "source": [
        "#Si hay varios grupos, findall devuelve una tupla\n",
        "texto = 'Hay 35 alumnos en 1A pero sólo 7 en 4B'\n",
        "re.findall(r\"(\\d)([A-Z])\", texto) #capturamos 1 dígito sólo si va seguido de una letra mayúscula"
      ]
    },
    {
      "cell_type": "code",
      "execution_count": null,
      "id": "planned-college",
      "metadata": {
        "colab": {
          "base_uri": "https://localhost:8080/"
        },
        "id": "planned-college",
        "outputId": "a0097394-391e-48ec-e0a7-5fb22e06fe89"
      },
      "outputs": [
        {
          "output_type": "execute_result",
          "data": {
            "text/plain": [
              "['2021-3-21', '2020-12-1', '2019-11-25']"
            ]
          },
          "metadata": {},
          "execution_count": 50
        }
      ],
      "source": [
        "#obtener una fecha con patrón yyyy-mm-dd\n",
        "fechas = \"2021-3-21, 2020-12-1, 2019-11-25, 2018-11\"\n",
        "re.findall(\"\\d{4}-\\d{1,2}-\\d{1,2}\", fechas)"
      ]
    },
    {
      "cell_type": "code",
      "execution_count": null,
      "id": "lightweight-camping",
      "metadata": {
        "colab": {
          "base_uri": "https://localhost:8080/"
        },
        "id": "lightweight-camping",
        "outputId": "22a92d70-99f1-42fb-ab1c-020b68f82cbc"
      },
      "outputs": [
        {
          "output_type": "execute_result",
          "data": {
            "text/plain": [
              "['3', '12', '11']"
            ]
          },
          "metadata": {},
          "execution_count": 51
        }
      ],
      "source": [
        "#obtener sólo el mes en un patrón yyyy-mm-dd\n",
        "re.findall(\"\\d{4}-(\\d{1,2})-\\d{1,2}\", fechas)"
      ]
    },
    {
      "cell_type": "markdown",
      "id": "coastal-canal",
      "metadata": {
        "id": "coastal-canal"
      },
      "source": [
        "Si queremos usar los paréntesis para aplicar un metacaracter o un cuantificador a un patrón en lugar de un sólo carácter, usamos un *non-capturing group* mediante la sintaxis expecial `(?:...)`"
      ]
    },
    {
      "cell_type": "code",
      "execution_count": null,
      "id": "rental-invasion",
      "metadata": {
        "colab": {
          "base_uri": "https://localhost:8080/"
        },
        "id": "rental-invasion",
        "outputId": "1e0baaac-8166-40cf-d4dc-cb7a93047989"
      },
      "outputs": [
        {
          "output_type": "execute_result",
          "data": {
            "text/plain": [
              "['34.5', '34,56', '5', '3.476,76']"
            ]
          },
          "metadata": {},
          "execution_count": 52
        }
      ],
      "source": [
        "#Encuentra todos los números\n",
        "re.findall(r\"\\d+(?:[\\.,]\\d+)*\", \"34.5 34,56 5 3.476,76\")"
      ]
    },
    {
      "cell_type": "code",
      "execution_count": null,
      "id": "b48da6fd",
      "metadata": {
        "colab": {
          "base_uri": "https://localhost:8080/"
        },
        "id": "b48da6fd",
        "outputId": "81fc7068-f218-48c7-d9c2-3bcc0c10cd2e"
      },
      "outputs": [
        {
          "output_type": "execute_result",
          "data": {
            "text/plain": [
              "['1º', '1er', '2ª']"
            ]
          },
          "metadata": {},
          "execution_count": 53
        }
      ],
      "source": [
        "#detecta todos los ordinales\n",
        "re.findall(r\"\\d+(?:er|º|ª)\", \"El corredor 23 quedo 1º en el 1er día de carrera y su mujer 2ª\")"
      ]
    },
    {
      "cell_type": "markdown",
      "id": "played-engagement",
      "metadata": {
        "id": "played-engagement"
      },
      "source": [
        "### Ejercicio\n",
        "La última fecha (2018-11) no se ha detectado, ¿cómo podemos detectarla?"
      ]
    },
    {
      "cell_type": "code",
      "execution_count": null,
      "id": "august-devon",
      "metadata": {
        "colab": {
          "base_uri": "https://localhost:8080/",
          "height": 35
        },
        "id": "august-devon",
        "outputId": "49dcbf8d-ec75-487c-8a96-69658e015eed"
      },
      "outputs": [
        {
          "output_type": "execute_result",
          "data": {
            "text/plain": [
              "'2021-3-21, 2020-12-1, 2019-11-25, 2018-11'"
            ],
            "application/vnd.google.colaboratory.intrinsic+json": {
              "type": "string"
            }
          },
          "metadata": {},
          "execution_count": 64
        }
      ],
      "source": [
        "fechas"
      ]
    },
    {
      "cell_type": "code",
      "source": [
        "re.findall(\"\\d{4}-\\d{1,2}(?:-\\d{1,2})?\", fechas)"
      ],
      "metadata": {
        "colab": {
          "base_uri": "https://localhost:8080/"
        },
        "id": "OEENmJXOZDdv",
        "outputId": "3764f8cf-f4c8-4534-c874-a498ce86600c"
      },
      "id": "OEENmJXOZDdv",
      "execution_count": null,
      "outputs": [
        {
          "output_type": "execute_result",
          "data": {
            "text/plain": [
              "['2021-3-21', '2020-12-1', '2019-11-25', '2018-11']"
            ]
          },
          "metadata": {},
          "execution_count": 67
        }
      ]
    },
    {
      "cell_type": "code",
      "source": [
        ""
      ],
      "metadata": {
        "id": "LHDp3ZvTZDux"
      },
      "id": "LHDp3ZvTZDux",
      "execution_count": null,
      "outputs": []
    },
    {
      "cell_type": "markdown",
      "id": "impaired-correspondence",
      "metadata": {
        "id": "impaired-correspondence"
      },
      "source": [
        "## Grupos numerados\n",
        "Podemos asignar un nombre a cada grupo y luego referenciarlo en el objeto `re.Match`"
      ]
    },
    {
      "cell_type": "code",
      "execution_count": null,
      "id": "quick-winter",
      "metadata": {
        "id": "quick-winter"
      },
      "outputs": [],
      "source": [
        "#buscamos letra seguida de dígito\n",
        "objeto = re.search(r\"(?P<letra>[ab])(?P<dígito>\\d)\", \"5, a3, b4\")"
      ]
    },
    {
      "cell_type": "code",
      "execution_count": null,
      "id": "expected-captain",
      "metadata": {
        "colab": {
          "base_uri": "https://localhost:8080/"
        },
        "id": "expected-captain",
        "outputId": "abfd297a-5dbe-4c0c-a4e9-11a0535ef087"
      },
      "outputs": [
        {
          "output_type": "execute_result",
          "data": {
            "text/plain": [
              "{'dígito': '3', 'letra': 'a'}"
            ]
          },
          "metadata": {},
          "execution_count": 60
        }
      ],
      "source": [
        "objeto.groupdict()"
      ]
    },
    {
      "cell_type": "code",
      "execution_count": null,
      "id": "married-hands",
      "metadata": {
        "colab": {
          "base_uri": "https://localhost:8080/",
          "height": 35
        },
        "id": "married-hands",
        "outputId": "360a29b0-a0b9-49c7-b980-0d433e4aa120"
      },
      "outputs": [
        {
          "output_type": "execute_result",
          "data": {
            "text/plain": [
              "'a'"
            ],
            "application/vnd.google.colaboratory.intrinsic+json": {
              "type": "string"
            }
          },
          "metadata": {},
          "execution_count": 61
        }
      ],
      "source": [
        "objeto['letra'] #grupo capturado 'letter'"
      ]
    },
    {
      "cell_type": "code",
      "execution_count": null,
      "id": "brutal-exchange",
      "metadata": {
        "colab": {
          "base_uri": "https://localhost:8080/",
          "height": 35
        },
        "id": "brutal-exchange",
        "outputId": "ba80acaa-db00-4aa6-f6f2-8fa6c4f50a36"
      },
      "outputs": [
        {
          "output_type": "execute_result",
          "data": {
            "text/plain": [
              "'a3'"
            ],
            "application/vnd.google.colaboratory.intrinsic+json": {
              "type": "string"
            }
          },
          "metadata": {},
          "execution_count": 62
        }
      ],
      "source": [
        "objeto[0] #texto completo capturado por el patrón"
      ]
    },
    {
      "cell_type": "code",
      "execution_count": null,
      "id": "pleased-combining",
      "metadata": {
        "colab": {
          "base_uri": "https://localhost:8080/"
        },
        "id": "pleased-combining",
        "outputId": "1decbfa3-ccbc-4071-bae6-aa71437ad41f"
      },
      "outputs": [
        {
          "output_type": "stream",
          "name": "stdout",
          "text": [
            "{'letra': None, 'dígito': '5'}\n",
            "{'letra': 'a', 'dígito': '3'}\n",
            "{'letra': 'b', 'dígito': '4'}\n"
          ]
        }
      ],
      "source": [
        "#Para buscar todos los matches hay que usar una búsqueda iterativa\n",
        "for objeto in re.finditer(r\"(?P<letra>[ab])?(?P<dígito>\\d)\", \"5, a3, b4\"):\n",
        "    print(objeto.groupdict())"
      ]
    },
    {
      "cell_type": "markdown",
      "id": "unexpected-astrology",
      "metadata": {
        "id": "unexpected-astrology"
      },
      "source": [
        "### División y substitución de texto\n",
        "usando `re.split()` y `re.sub()`"
      ]
    },
    {
      "cell_type": "code",
      "execution_count": null,
      "id": "harmful-consequence",
      "metadata": {
        "colab": {
          "base_uri": "https://localhost:8080/"
        },
        "id": "harmful-consequence",
        "outputId": "ef28e2af-b0a5-4524-ef51-bc66d62afa9f"
      },
      "outputs": [
        {
          "output_type": "execute_result",
          "data": {
            "text/plain": [
              "['Los',\n",
              " 'pájaros',\n",
              " 'cantan',\n",
              " 'las',\n",
              " 'nubes',\n",
              " 'se',\n",
              " 'levantan',\n",
              " 'Que',\n",
              " 'sí',\n",
              " 'que',\n",
              " 'no',\n",
              " 'que',\n",
              " 'caiga',\n",
              " 'un',\n",
              " 'chaparrón',\n",
              " '']"
            ]
          },
          "metadata": {},
          "execution_count": 54
        }
      ],
      "source": [
        "#Usando un patrón para dividir\n",
        "texto3 = \"Los pájaros cantan, las nubes se levantan. Que sí, que no, que caiga un chaparrón.\"\n",
        "re.split(\"[,.\\s]+\", texto3)"
      ]
    },
    {
      "cell_type": "code",
      "execution_count": null,
      "id": "particular-damage",
      "metadata": {
        "colab": {
          "base_uri": "https://localhost:8080/",
          "height": 35
        },
        "id": "particular-damage",
        "outputId": "f0fd3f69-9a83-40cd-a140-93d346426150"
      },
      "outputs": [
        {
          "output_type": "execute_result",
          "data": {
            "text/plain": [
              "'El_Sol_aparece_por_la_mañana_entre_las_montañas_y_los_ríos'"
            ],
            "application/vnd.google.colaboratory.intrinsic+json": {
              "type": "string"
            }
          },
          "metadata": {},
          "execution_count": 55
        }
      ],
      "source": [
        "#substitución de texto\n",
        "texto = 'El Sol aparece por la mañana entre las montañas y los ríos'\n",
        "re.sub(\" \", \"_\", texto)"
      ]
    },
    {
      "cell_type": "code",
      "execution_count": null,
      "id": "foreign-nylon",
      "metadata": {
        "colab": {
          "base_uri": "https://localhost:8080/",
          "height": 35
        },
        "id": "foreign-nylon",
        "outputId": "8c2d81a4-b666-43ec-8b48-65766b858000"
      },
      "outputs": [
        {
          "output_type": "execute_result",
          "data": {
            "text/plain": [
              "'El Sol aparece por la mañana entre l@s montañas y l@s ríos'"
            ],
            "application/vnd.google.colaboratory.intrinsic+json": {
              "type": "string"
            }
          },
          "metadata": {},
          "execution_count": 56
        }
      ],
      "source": [
        "#substitución de un patrón\n",
        "re.sub(\"l[ao]s\", \"l@s\", texto)"
      ]
    },
    {
      "cell_type": "code",
      "execution_count": null,
      "id": "adolescent-coordination",
      "metadata": {
        "colab": {
          "base_uri": "https://localhost:8080/",
          "height": 35
        },
        "id": "adolescent-coordination",
        "outputId": "f5d0babc-f119-442c-9175-86b20463f062"
      },
      "outputs": [
        {
          "output_type": "execute_result",
          "data": {
            "text/plain": [
              "'21/3/2021, 1/12/2020, 25/11/2019, 2018-11'"
            ],
            "application/vnd.google.colaboratory.intrinsic+json": {
              "type": "string"
            }
          },
          "metadata": {},
          "execution_count": 57
        }
      ],
      "source": [
        "#substitución de un grupo capturado\n",
        "fechas = \"2021-3-21, 2020-12-1, 2019-11-25, 2018-11\"\n",
        "re.sub(\"(\\d{4})-(\\d{1,2})-(\\d{1,2})\", r\"\\3/\\2/\\1\", fechas)"
      ]
    },
    {
      "cell_type": "code",
      "execution_count": null,
      "id": "rural-advertiser",
      "metadata": {
        "colab": {
          "base_uri": "https://localhost:8080/",
          "height": 35
        },
        "id": "rural-advertiser",
        "outputId": "27fe1147-2200-4a8a-b30c-551ff35c5481"
      },
      "outputs": [
        {
          "output_type": "execute_result",
          "data": {
            "text/plain": [
              "'El SOL aparece POR la mañana entre LAS montañas y LOS ríos'"
            ],
            "application/vnd.google.colaboratory.intrinsic+json": {
              "type": "string"
            }
          },
          "metadata": {},
          "execution_count": 58
        }
      ],
      "source": [
        "#Uso de una función sobre el texto a substituir\n",
        "def mayusculas(m):\n",
        "    return m[0].upper() #el elemento 0 de un objeto Match es el texto encontrado\n",
        "\n",
        "re.sub(r\"\\b\\w{3}\\b\", mayusculas, texto) #pasa a may. palabras de 3 letras"
      ]
    },
    {
      "cell_type": "markdown",
      "id": "personal-adjustment",
      "metadata": {
        "id": "personal-adjustment"
      },
      "source": [
        "## Uso de RegEx en Pandas"
      ]
    },
    {
      "cell_type": "code",
      "execution_count": null,
      "id": "canadian-approach",
      "metadata": {
        "id": "canadian-approach"
      },
      "outputs": [],
      "source": [
        "import pandas as pd\n",
        "import numpy as np"
      ]
    },
    {
      "cell_type": "code",
      "execution_count": null,
      "id": "improving-spectacular",
      "metadata": {
        "colab": {
          "base_uri": "https://localhost:8080/"
        },
        "id": "improving-spectacular",
        "outputId": "26ac6461-ce54-4a70-a5b1-29393617c40a"
      },
      "outputs": [
        {
          "output_type": "execute_result",
          "data": {
            "text/plain": [
              "0       A\n",
              "1       B\n",
              "2       C\n",
              "3    Aaba\n",
              "4    Baca\n",
              "5        \n",
              "6    <NA>\n",
              "7    CABA\n",
              "8     dog\n",
              "9     cat\n",
              "dtype: string"
            ]
          },
          "metadata": {},
          "execution_count": 69
        }
      ],
      "source": [
        "s = pd.Series(\n",
        "     [\"A\", \"B\", \"C\", \"Aaba\", \"Baca\", \"\", np.nan, \"CABA\", \"dog\", \"cat\"],\n",
        "     dtype=\"string\",\n",
        " )\n",
        "s"
      ]
    },
    {
      "cell_type": "markdown",
      "id": "fitted-sponsorship",
      "metadata": {
        "id": "fitted-sponsorship"
      },
      "source": [
        "\n",
        "\n",
        "### `str.replace()`"
      ]
    },
    {
      "cell_type": "code",
      "execution_count": null,
      "id": "occasional-vermont",
      "metadata": {
        "colab": {
          "base_uri": "https://localhost:8080/"
        },
        "id": "occasional-vermont",
        "outputId": "08134630-3e6f-4f0b-fb3f-735a667f36d8"
      },
      "outputs": [
        {
          "output_type": "execute_result",
          "data": {
            "text/plain": [
              "0       A\n",
              "1       B\n",
              "2       C\n",
              "3      XX\n",
              "4      XX\n",
              "5        \n",
              "6    <NA>\n",
              "7     CXX\n",
              "8     dog\n",
              "9     cat\n",
              "dtype: string"
            ]
          },
          "metadata": {},
          "execution_count": 70
        }
      ],
      "source": [
        "s.str.replace(\"A\\w+|B\\w+\", \"XX\", regex=True)"
      ]
    },
    {
      "cell_type": "markdown",
      "id": "front-pharmacy",
      "metadata": {
        "id": "front-pharmacy"
      },
      "source": [
        "\n",
        "\n",
        "### `str.extract()`y `str.extractall()`"
      ]
    },
    {
      "cell_type": "code",
      "execution_count": null,
      "id": "talented-cycle",
      "metadata": {
        "colab": {
          "base_uri": "https://localhost:8080/",
          "height": 143
        },
        "id": "talented-cycle",
        "outputId": "262afa05-be17-4276-88aa-76d8bb71ff27"
      },
      "outputs": [
        {
          "output_type": "execute_result",
          "data": {
            "text/plain": [
              "      0     1\n",
              "0     a     1\n",
              "1     b     2\n",
              "2  <NA>  <NA>"
            ],
            "text/html": [
              "\n",
              "  <div id=\"df-38887da0-2662-4a49-9281-84934b4864b7\">\n",
              "    <div class=\"colab-df-container\">\n",
              "      <div>\n",
              "<style scoped>\n",
              "    .dataframe tbody tr th:only-of-type {\n",
              "        vertical-align: middle;\n",
              "    }\n",
              "\n",
              "    .dataframe tbody tr th {\n",
              "        vertical-align: top;\n",
              "    }\n",
              "\n",
              "    .dataframe thead th {\n",
              "        text-align: right;\n",
              "    }\n",
              "</style>\n",
              "<table border=\"1\" class=\"dataframe\">\n",
              "  <thead>\n",
              "    <tr style=\"text-align: right;\">\n",
              "      <th></th>\n",
              "      <th>0</th>\n",
              "      <th>1</th>\n",
              "    </tr>\n",
              "  </thead>\n",
              "  <tbody>\n",
              "    <tr>\n",
              "      <th>0</th>\n",
              "      <td>a</td>\n",
              "      <td>1</td>\n",
              "    </tr>\n",
              "    <tr>\n",
              "      <th>1</th>\n",
              "      <td>b</td>\n",
              "      <td>2</td>\n",
              "    </tr>\n",
              "    <tr>\n",
              "      <th>2</th>\n",
              "      <td>&lt;NA&gt;</td>\n",
              "      <td>&lt;NA&gt;</td>\n",
              "    </tr>\n",
              "  </tbody>\n",
              "</table>\n",
              "</div>\n",
              "      <button class=\"colab-df-convert\" onclick=\"convertToInteractive('df-38887da0-2662-4a49-9281-84934b4864b7')\"\n",
              "              title=\"Convert this dataframe to an interactive table.\"\n",
              "              style=\"display:none;\">\n",
              "        \n",
              "  <svg xmlns=\"http://www.w3.org/2000/svg\" height=\"24px\"viewBox=\"0 0 24 24\"\n",
              "       width=\"24px\">\n",
              "    <path d=\"M0 0h24v24H0V0z\" fill=\"none\"/>\n",
              "    <path d=\"M18.56 5.44l.94 2.06.94-2.06 2.06-.94-2.06-.94-.94-2.06-.94 2.06-2.06.94zm-11 1L8.5 8.5l.94-2.06 2.06-.94-2.06-.94L8.5 2.5l-.94 2.06-2.06.94zm10 10l.94 2.06.94-2.06 2.06-.94-2.06-.94-.94-2.06-.94 2.06-2.06.94z\"/><path d=\"M17.41 7.96l-1.37-1.37c-.4-.4-.92-.59-1.43-.59-.52 0-1.04.2-1.43.59L10.3 9.45l-7.72 7.72c-.78.78-.78 2.05 0 2.83L4 21.41c.39.39.9.59 1.41.59.51 0 1.02-.2 1.41-.59l7.78-7.78 2.81-2.81c.8-.78.8-2.07 0-2.86zM5.41 20L4 18.59l7.72-7.72 1.47 1.35L5.41 20z\"/>\n",
              "  </svg>\n",
              "      </button>\n",
              "      \n",
              "  <style>\n",
              "    .colab-df-container {\n",
              "      display:flex;\n",
              "      flex-wrap:wrap;\n",
              "      gap: 12px;\n",
              "    }\n",
              "\n",
              "    .colab-df-convert {\n",
              "      background-color: #E8F0FE;\n",
              "      border: none;\n",
              "      border-radius: 50%;\n",
              "      cursor: pointer;\n",
              "      display: none;\n",
              "      fill: #1967D2;\n",
              "      height: 32px;\n",
              "      padding: 0 0 0 0;\n",
              "      width: 32px;\n",
              "    }\n",
              "\n",
              "    .colab-df-convert:hover {\n",
              "      background-color: #E2EBFA;\n",
              "      box-shadow: 0px 1px 2px rgba(60, 64, 67, 0.3), 0px 1px 3px 1px rgba(60, 64, 67, 0.15);\n",
              "      fill: #174EA6;\n",
              "    }\n",
              "\n",
              "    [theme=dark] .colab-df-convert {\n",
              "      background-color: #3B4455;\n",
              "      fill: #D2E3FC;\n",
              "    }\n",
              "\n",
              "    [theme=dark] .colab-df-convert:hover {\n",
              "      background-color: #434B5C;\n",
              "      box-shadow: 0px 1px 3px 1px rgba(0, 0, 0, 0.15);\n",
              "      filter: drop-shadow(0px 1px 2px rgba(0, 0, 0, 0.3));\n",
              "      fill: #FFFFFF;\n",
              "    }\n",
              "  </style>\n",
              "\n",
              "      <script>\n",
              "        const buttonEl =\n",
              "          document.querySelector('#df-38887da0-2662-4a49-9281-84934b4864b7 button.colab-df-convert');\n",
              "        buttonEl.style.display =\n",
              "          google.colab.kernel.accessAllowed ? 'block' : 'none';\n",
              "\n",
              "        async function convertToInteractive(key) {\n",
              "          const element = document.querySelector('#df-38887da0-2662-4a49-9281-84934b4864b7');\n",
              "          const dataTable =\n",
              "            await google.colab.kernel.invokeFunction('convertToInteractive',\n",
              "                                                     [key], {});\n",
              "          if (!dataTable) return;\n",
              "\n",
              "          const docLinkHtml = 'Like what you see? Visit the ' +\n",
              "            '<a target=\"_blank\" href=https://colab.research.google.com/notebooks/data_table.ipynb>data table notebook</a>'\n",
              "            + ' to learn more about interactive tables.';\n",
              "          element.innerHTML = '';\n",
              "          dataTable['output_type'] = 'display_data';\n",
              "          await google.colab.output.renderOutput(dataTable, element);\n",
              "          const docLink = document.createElement('div');\n",
              "          docLink.innerHTML = docLinkHtml;\n",
              "          element.appendChild(docLink);\n",
              "        }\n",
              "      </script>\n",
              "    </div>\n",
              "  </div>\n",
              "  "
            ]
          },
          "metadata": {},
          "execution_count": 71
        }
      ],
      "source": [
        "\n",
        "\n",
        "\n",
        "#The extract method accepts a regular expression with at least one capture group.\n",
        "pd.Series(\n",
        "     [\"a1\", \"b2\", \"c3\"],\n",
        "     dtype=\"string\",\n",
        " ).str.extract(r\"([ab])(\\d)\")"
      ]
    },
    {
      "cell_type": "code",
      "execution_count": null,
      "id": "higher-montgomery",
      "metadata": {
        "colab": {
          "base_uri": "https://localhost:8080/",
          "height": 174
        },
        "id": "higher-montgomery",
        "outputId": "997b3453-b6fa-4446-f307-413dc74f74f8"
      },
      "outputs": [
        {
          "output_type": "execute_result",
          "data": {
            "text/plain": [
              "      0     1\n",
              "0     a     1\n",
              "1     b     2\n",
              "2  <NA>     3\n",
              "3  <NA>  <NA>"
            ],
            "text/html": [
              "\n",
              "  <div id=\"df-e643f067-7da8-435b-a272-ab688639d51f\">\n",
              "    <div class=\"colab-df-container\">\n",
              "      <div>\n",
              "<style scoped>\n",
              "    .dataframe tbody tr th:only-of-type {\n",
              "        vertical-align: middle;\n",
              "    }\n",
              "\n",
              "    .dataframe tbody tr th {\n",
              "        vertical-align: top;\n",
              "    }\n",
              "\n",
              "    .dataframe thead th {\n",
              "        text-align: right;\n",
              "    }\n",
              "</style>\n",
              "<table border=\"1\" class=\"dataframe\">\n",
              "  <thead>\n",
              "    <tr style=\"text-align: right;\">\n",
              "      <th></th>\n",
              "      <th>0</th>\n",
              "      <th>1</th>\n",
              "    </tr>\n",
              "  </thead>\n",
              "  <tbody>\n",
              "    <tr>\n",
              "      <th>0</th>\n",
              "      <td>a</td>\n",
              "      <td>1</td>\n",
              "    </tr>\n",
              "    <tr>\n",
              "      <th>1</th>\n",
              "      <td>b</td>\n",
              "      <td>2</td>\n",
              "    </tr>\n",
              "    <tr>\n",
              "      <th>2</th>\n",
              "      <td>&lt;NA&gt;</td>\n",
              "      <td>3</td>\n",
              "    </tr>\n",
              "    <tr>\n",
              "      <th>3</th>\n",
              "      <td>&lt;NA&gt;</td>\n",
              "      <td>&lt;NA&gt;</td>\n",
              "    </tr>\n",
              "  </tbody>\n",
              "</table>\n",
              "</div>\n",
              "      <button class=\"colab-df-convert\" onclick=\"convertToInteractive('df-e643f067-7da8-435b-a272-ab688639d51f')\"\n",
              "              title=\"Convert this dataframe to an interactive table.\"\n",
              "              style=\"display:none;\">\n",
              "        \n",
              "  <svg xmlns=\"http://www.w3.org/2000/svg\" height=\"24px\"viewBox=\"0 0 24 24\"\n",
              "       width=\"24px\">\n",
              "    <path d=\"M0 0h24v24H0V0z\" fill=\"none\"/>\n",
              "    <path d=\"M18.56 5.44l.94 2.06.94-2.06 2.06-.94-2.06-.94-.94-2.06-.94 2.06-2.06.94zm-11 1L8.5 8.5l.94-2.06 2.06-.94-2.06-.94L8.5 2.5l-.94 2.06-2.06.94zm10 10l.94 2.06.94-2.06 2.06-.94-2.06-.94-.94-2.06-.94 2.06-2.06.94z\"/><path d=\"M17.41 7.96l-1.37-1.37c-.4-.4-.92-.59-1.43-.59-.52 0-1.04.2-1.43.59L10.3 9.45l-7.72 7.72c-.78.78-.78 2.05 0 2.83L4 21.41c.39.39.9.59 1.41.59.51 0 1.02-.2 1.41-.59l7.78-7.78 2.81-2.81c.8-.78.8-2.07 0-2.86zM5.41 20L4 18.59l7.72-7.72 1.47 1.35L5.41 20z\"/>\n",
              "  </svg>\n",
              "      </button>\n",
              "      \n",
              "  <style>\n",
              "    .colab-df-container {\n",
              "      display:flex;\n",
              "      flex-wrap:wrap;\n",
              "      gap: 12px;\n",
              "    }\n",
              "\n",
              "    .colab-df-convert {\n",
              "      background-color: #E8F0FE;\n",
              "      border: none;\n",
              "      border-radius: 50%;\n",
              "      cursor: pointer;\n",
              "      display: none;\n",
              "      fill: #1967D2;\n",
              "      height: 32px;\n",
              "      padding: 0 0 0 0;\n",
              "      width: 32px;\n",
              "    }\n",
              "\n",
              "    .colab-df-convert:hover {\n",
              "      background-color: #E2EBFA;\n",
              "      box-shadow: 0px 1px 2px rgba(60, 64, 67, 0.3), 0px 1px 3px 1px rgba(60, 64, 67, 0.15);\n",
              "      fill: #174EA6;\n",
              "    }\n",
              "\n",
              "    [theme=dark] .colab-df-convert {\n",
              "      background-color: #3B4455;\n",
              "      fill: #D2E3FC;\n",
              "    }\n",
              "\n",
              "    [theme=dark] .colab-df-convert:hover {\n",
              "      background-color: #434B5C;\n",
              "      box-shadow: 0px 1px 3px 1px rgba(0, 0, 0, 0.15);\n",
              "      filter: drop-shadow(0px 1px 2px rgba(0, 0, 0, 0.3));\n",
              "      fill: #FFFFFF;\n",
              "    }\n",
              "  </style>\n",
              "\n",
              "      <script>\n",
              "        const buttonEl =\n",
              "          document.querySelector('#df-e643f067-7da8-435b-a272-ab688639d51f button.colab-df-convert');\n",
              "        buttonEl.style.display =\n",
              "          google.colab.kernel.accessAllowed ? 'block' : 'none';\n",
              "\n",
              "        async function convertToInteractive(key) {\n",
              "          const element = document.querySelector('#df-e643f067-7da8-435b-a272-ab688639d51f');\n",
              "          const dataTable =\n",
              "            await google.colab.kernel.invokeFunction('convertToInteractive',\n",
              "                                                     [key], {});\n",
              "          if (!dataTable) return;\n",
              "\n",
              "          const docLinkHtml = 'Like what you see? Visit the ' +\n",
              "            '<a target=\"_blank\" href=https://colab.research.google.com/notebooks/data_table.ipynb>data table notebook</a>'\n",
              "            + ' to learn more about interactive tables.';\n",
              "          element.innerHTML = '';\n",
              "          dataTable['output_type'] = 'display_data';\n",
              "          await google.colab.output.renderOutput(dataTable, element);\n",
              "          const docLink = document.createElement('div');\n",
              "          docLink.innerHTML = docLinkHtml;\n",
              "          element.appendChild(docLink);\n",
              "        }\n",
              "      </script>\n",
              "    </div>\n",
              "  </div>\n",
              "  "
            ]
          },
          "metadata": {},
          "execution_count": 72
        }
      ],
      "source": [
        "\n",
        "\n",
        "\n",
        "#Podemos hacer un grupo opcional.\n",
        "pd.Series(\n",
        "     [\"a1\", \"b2\", \"c3\", \"ab\"],\n",
        "     dtype=\"string\",\n",
        " ).str.extract(r\"([ab])?(\\d)\")"
      ]
    },
    {
      "cell_type": "code",
      "execution_count": null,
      "id": "intellectual-record",
      "metadata": {
        "colab": {
          "base_uri": "https://localhost:8080/",
          "height": 143
        },
        "id": "intellectual-record",
        "outputId": "4513405b-472f-480b-dc33-f20c8de48209"
      },
      "outputs": [
        {
          "output_type": "execute_result",
          "data": {
            "text/plain": [
              "  letter digit\n",
              "0      a     1\n",
              "1      b     2\n",
              "2   <NA>     3"
            ],
            "text/html": [
              "\n",
              "  <div id=\"df-f83d9f69-94a2-4824-829a-c0a23e7ce8a3\">\n",
              "    <div class=\"colab-df-container\">\n",
              "      <div>\n",
              "<style scoped>\n",
              "    .dataframe tbody tr th:only-of-type {\n",
              "        vertical-align: middle;\n",
              "    }\n",
              "\n",
              "    .dataframe tbody tr th {\n",
              "        vertical-align: top;\n",
              "    }\n",
              "\n",
              "    .dataframe thead th {\n",
              "        text-align: right;\n",
              "    }\n",
              "</style>\n",
              "<table border=\"1\" class=\"dataframe\">\n",
              "  <thead>\n",
              "    <tr style=\"text-align: right;\">\n",
              "      <th></th>\n",
              "      <th>letter</th>\n",
              "      <th>digit</th>\n",
              "    </tr>\n",
              "  </thead>\n",
              "  <tbody>\n",
              "    <tr>\n",
              "      <th>0</th>\n",
              "      <td>a</td>\n",
              "      <td>1</td>\n",
              "    </tr>\n",
              "    <tr>\n",
              "      <th>1</th>\n",
              "      <td>b</td>\n",
              "      <td>2</td>\n",
              "    </tr>\n",
              "    <tr>\n",
              "      <th>2</th>\n",
              "      <td>&lt;NA&gt;</td>\n",
              "      <td>3</td>\n",
              "    </tr>\n",
              "  </tbody>\n",
              "</table>\n",
              "</div>\n",
              "      <button class=\"colab-df-convert\" onclick=\"convertToInteractive('df-f83d9f69-94a2-4824-829a-c0a23e7ce8a3')\"\n",
              "              title=\"Convert this dataframe to an interactive table.\"\n",
              "              style=\"display:none;\">\n",
              "        \n",
              "  <svg xmlns=\"http://www.w3.org/2000/svg\" height=\"24px\"viewBox=\"0 0 24 24\"\n",
              "       width=\"24px\">\n",
              "    <path d=\"M0 0h24v24H0V0z\" fill=\"none\"/>\n",
              "    <path d=\"M18.56 5.44l.94 2.06.94-2.06 2.06-.94-2.06-.94-.94-2.06-.94 2.06-2.06.94zm-11 1L8.5 8.5l.94-2.06 2.06-.94-2.06-.94L8.5 2.5l-.94 2.06-2.06.94zm10 10l.94 2.06.94-2.06 2.06-.94-2.06-.94-.94-2.06-.94 2.06-2.06.94z\"/><path d=\"M17.41 7.96l-1.37-1.37c-.4-.4-.92-.59-1.43-.59-.52 0-1.04.2-1.43.59L10.3 9.45l-7.72 7.72c-.78.78-.78 2.05 0 2.83L4 21.41c.39.39.9.59 1.41.59.51 0 1.02-.2 1.41-.59l7.78-7.78 2.81-2.81c.8-.78.8-2.07 0-2.86zM5.41 20L4 18.59l7.72-7.72 1.47 1.35L5.41 20z\"/>\n",
              "  </svg>\n",
              "      </button>\n",
              "      \n",
              "  <style>\n",
              "    .colab-df-container {\n",
              "      display:flex;\n",
              "      flex-wrap:wrap;\n",
              "      gap: 12px;\n",
              "    }\n",
              "\n",
              "    .colab-df-convert {\n",
              "      background-color: #E8F0FE;\n",
              "      border: none;\n",
              "      border-radius: 50%;\n",
              "      cursor: pointer;\n",
              "      display: none;\n",
              "      fill: #1967D2;\n",
              "      height: 32px;\n",
              "      padding: 0 0 0 0;\n",
              "      width: 32px;\n",
              "    }\n",
              "\n",
              "    .colab-df-convert:hover {\n",
              "      background-color: #E2EBFA;\n",
              "      box-shadow: 0px 1px 2px rgba(60, 64, 67, 0.3), 0px 1px 3px 1px rgba(60, 64, 67, 0.15);\n",
              "      fill: #174EA6;\n",
              "    }\n",
              "\n",
              "    [theme=dark] .colab-df-convert {\n",
              "      background-color: #3B4455;\n",
              "      fill: #D2E3FC;\n",
              "    }\n",
              "\n",
              "    [theme=dark] .colab-df-convert:hover {\n",
              "      background-color: #434B5C;\n",
              "      box-shadow: 0px 1px 3px 1px rgba(0, 0, 0, 0.15);\n",
              "      filter: drop-shadow(0px 1px 2px rgba(0, 0, 0, 0.3));\n",
              "      fill: #FFFFFF;\n",
              "    }\n",
              "  </style>\n",
              "\n",
              "      <script>\n",
              "        const buttonEl =\n",
              "          document.querySelector('#df-f83d9f69-94a2-4824-829a-c0a23e7ce8a3 button.colab-df-convert');\n",
              "        buttonEl.style.display =\n",
              "          google.colab.kernel.accessAllowed ? 'block' : 'none';\n",
              "\n",
              "        async function convertToInteractive(key) {\n",
              "          const element = document.querySelector('#df-f83d9f69-94a2-4824-829a-c0a23e7ce8a3');\n",
              "          const dataTable =\n",
              "            await google.colab.kernel.invokeFunction('convertToInteractive',\n",
              "                                                     [key], {});\n",
              "          if (!dataTable) return;\n",
              "\n",
              "          const docLinkHtml = 'Like what you see? Visit the ' +\n",
              "            '<a target=\"_blank\" href=https://colab.research.google.com/notebooks/data_table.ipynb>data table notebook</a>'\n",
              "            + ' to learn more about interactive tables.';\n",
              "          element.innerHTML = '';\n",
              "          dataTable['output_type'] = 'display_data';\n",
              "          await google.colab.output.renderOutput(dataTable, element);\n",
              "          const docLink = document.createElement('div');\n",
              "          docLink.innerHTML = docLinkHtml;\n",
              "          element.appendChild(docLink);\n",
              "        }\n",
              "      </script>\n",
              "    </div>\n",
              "  </div>\n",
              "  "
            ]
          },
          "metadata": {},
          "execution_count": 73
        }
      ],
      "source": [
        "#Podemos poner nombres a los grupos.\n",
        "pd.Series(\n",
        "     [\"a1,b7\", \"b2\", \"c3\"],\n",
        "     dtype=\"string\",\n",
        " ).str.extract(r\"(?P<letter>[ab])?(?P<digit>\\d)\")"
      ]
    },
    {
      "cell_type": "markdown",
      "id": "damaged-happening",
      "metadata": {
        "id": "damaged-happening"
      },
      "source": [
        "The `extractall` method returns every match. The result of `extractall` is always a DataFrame with a MultiIndex on its rows. The last level of the MultiIndex is named `match` and indicates the order in the subject."
      ]
    },
    {
      "cell_type": "code",
      "execution_count": null,
      "id": "middle-enemy",
      "metadata": {
        "colab": {
          "base_uri": "https://localhost:8080/"
        },
        "id": "middle-enemy",
        "outputId": "fd8d6b0d-f390-4dc1-f17f-246ff2de3e82"
      },
      "outputs": [
        {
          "output_type": "execute_result",
          "data": {
            "text/plain": [
              "A    a1a2\n",
              "B      b1\n",
              "C      c1\n",
              "dtype: string"
            ]
          },
          "metadata": {},
          "execution_count": 74
        }
      ],
      "source": [
        "s2 = pd.Series([\"a1a2\", \"b1\", \"c1\"], index=[\"A\", \"B\", \"C\"], dtype=\"string\")\n",
        "s2"
      ]
    },
    {
      "cell_type": "code",
      "execution_count": null,
      "id": "thirty-custody",
      "metadata": {
        "colab": {
          "base_uri": "https://localhost:8080/",
          "height": 206
        },
        "id": "thirty-custody",
        "outputId": "8cc7eb83-4897-43e9-b115-b8b831afdf9e"
      },
      "outputs": [
        {
          "output_type": "execute_result",
          "data": {
            "text/plain": [
              "        letter digit\n",
              "  match             \n",
              "A 0          a     1\n",
              "  1          a     2\n",
              "B 0          b     1\n",
              "C 0          c     1"
            ],
            "text/html": [
              "\n",
              "  <div id=\"df-8fa018ad-b96c-44d8-8ce3-5036c1903b72\">\n",
              "    <div class=\"colab-df-container\">\n",
              "      <div>\n",
              "<style scoped>\n",
              "    .dataframe tbody tr th:only-of-type {\n",
              "        vertical-align: middle;\n",
              "    }\n",
              "\n",
              "    .dataframe tbody tr th {\n",
              "        vertical-align: top;\n",
              "    }\n",
              "\n",
              "    .dataframe thead th {\n",
              "        text-align: right;\n",
              "    }\n",
              "</style>\n",
              "<table border=\"1\" class=\"dataframe\">\n",
              "  <thead>\n",
              "    <tr style=\"text-align: right;\">\n",
              "      <th></th>\n",
              "      <th></th>\n",
              "      <th>letter</th>\n",
              "      <th>digit</th>\n",
              "    </tr>\n",
              "    <tr>\n",
              "      <th></th>\n",
              "      <th>match</th>\n",
              "      <th></th>\n",
              "      <th></th>\n",
              "    </tr>\n",
              "  </thead>\n",
              "  <tbody>\n",
              "    <tr>\n",
              "      <th rowspan=\"2\" valign=\"top\">A</th>\n",
              "      <th>0</th>\n",
              "      <td>a</td>\n",
              "      <td>1</td>\n",
              "    </tr>\n",
              "    <tr>\n",
              "      <th>1</th>\n",
              "      <td>a</td>\n",
              "      <td>2</td>\n",
              "    </tr>\n",
              "    <tr>\n",
              "      <th>B</th>\n",
              "      <th>0</th>\n",
              "      <td>b</td>\n",
              "      <td>1</td>\n",
              "    </tr>\n",
              "    <tr>\n",
              "      <th>C</th>\n",
              "      <th>0</th>\n",
              "      <td>c</td>\n",
              "      <td>1</td>\n",
              "    </tr>\n",
              "  </tbody>\n",
              "</table>\n",
              "</div>\n",
              "      <button class=\"colab-df-convert\" onclick=\"convertToInteractive('df-8fa018ad-b96c-44d8-8ce3-5036c1903b72')\"\n",
              "              title=\"Convert this dataframe to an interactive table.\"\n",
              "              style=\"display:none;\">\n",
              "        \n",
              "  <svg xmlns=\"http://www.w3.org/2000/svg\" height=\"24px\"viewBox=\"0 0 24 24\"\n",
              "       width=\"24px\">\n",
              "    <path d=\"M0 0h24v24H0V0z\" fill=\"none\"/>\n",
              "    <path d=\"M18.56 5.44l.94 2.06.94-2.06 2.06-.94-2.06-.94-.94-2.06-.94 2.06-2.06.94zm-11 1L8.5 8.5l.94-2.06 2.06-.94-2.06-.94L8.5 2.5l-.94 2.06-2.06.94zm10 10l.94 2.06.94-2.06 2.06-.94-2.06-.94-.94-2.06-.94 2.06-2.06.94z\"/><path d=\"M17.41 7.96l-1.37-1.37c-.4-.4-.92-.59-1.43-.59-.52 0-1.04.2-1.43.59L10.3 9.45l-7.72 7.72c-.78.78-.78 2.05 0 2.83L4 21.41c.39.39.9.59 1.41.59.51 0 1.02-.2 1.41-.59l7.78-7.78 2.81-2.81c.8-.78.8-2.07 0-2.86zM5.41 20L4 18.59l7.72-7.72 1.47 1.35L5.41 20z\"/>\n",
              "  </svg>\n",
              "      </button>\n",
              "      \n",
              "  <style>\n",
              "    .colab-df-container {\n",
              "      display:flex;\n",
              "      flex-wrap:wrap;\n",
              "      gap: 12px;\n",
              "    }\n",
              "\n",
              "    .colab-df-convert {\n",
              "      background-color: #E8F0FE;\n",
              "      border: none;\n",
              "      border-radius: 50%;\n",
              "      cursor: pointer;\n",
              "      display: none;\n",
              "      fill: #1967D2;\n",
              "      height: 32px;\n",
              "      padding: 0 0 0 0;\n",
              "      width: 32px;\n",
              "    }\n",
              "\n",
              "    .colab-df-convert:hover {\n",
              "      background-color: #E2EBFA;\n",
              "      box-shadow: 0px 1px 2px rgba(60, 64, 67, 0.3), 0px 1px 3px 1px rgba(60, 64, 67, 0.15);\n",
              "      fill: #174EA6;\n",
              "    }\n",
              "\n",
              "    [theme=dark] .colab-df-convert {\n",
              "      background-color: #3B4455;\n",
              "      fill: #D2E3FC;\n",
              "    }\n",
              "\n",
              "    [theme=dark] .colab-df-convert:hover {\n",
              "      background-color: #434B5C;\n",
              "      box-shadow: 0px 1px 3px 1px rgba(0, 0, 0, 0.15);\n",
              "      filter: drop-shadow(0px 1px 2px rgba(0, 0, 0, 0.3));\n",
              "      fill: #FFFFFF;\n",
              "    }\n",
              "  </style>\n",
              "\n",
              "      <script>\n",
              "        const buttonEl =\n",
              "          document.querySelector('#df-8fa018ad-b96c-44d8-8ce3-5036c1903b72 button.colab-df-convert');\n",
              "        buttonEl.style.display =\n",
              "          google.colab.kernel.accessAllowed ? 'block' : 'none';\n",
              "\n",
              "        async function convertToInteractive(key) {\n",
              "          const element = document.querySelector('#df-8fa018ad-b96c-44d8-8ce3-5036c1903b72');\n",
              "          const dataTable =\n",
              "            await google.colab.kernel.invokeFunction('convertToInteractive',\n",
              "                                                     [key], {});\n",
              "          if (!dataTable) return;\n",
              "\n",
              "          const docLinkHtml = 'Like what you see? Visit the ' +\n",
              "            '<a target=\"_blank\" href=https://colab.research.google.com/notebooks/data_table.ipynb>data table notebook</a>'\n",
              "            + ' to learn more about interactive tables.';\n",
              "          element.innerHTML = '';\n",
              "          dataTable['output_type'] = 'display_data';\n",
              "          await google.colab.output.renderOutput(dataTable, element);\n",
              "          const docLink = document.createElement('div');\n",
              "          docLink.innerHTML = docLinkHtml;\n",
              "          element.appendChild(docLink);\n",
              "        }\n",
              "      </script>\n",
              "    </div>\n",
              "  </div>\n",
              "  "
            ]
          },
          "metadata": {},
          "execution_count": 75
        }
      ],
      "source": [
        "s2.str.extractall(\"(?P<letter>[a-z])(?P<digit>[0-9])\")"
      ]
    },
    {
      "cell_type": "markdown",
      "id": "missing-fellow",
      "metadata": {
        "id": "missing-fellow"
      },
      "source": [
        "### `match`, `fullmatch`, `contains`"
      ]
    },
    {
      "cell_type": "code",
      "execution_count": null,
      "id": "cloudy-visitor",
      "metadata": {
        "colab": {
          "base_uri": "https://localhost:8080/"
        },
        "id": "cloudy-visitor",
        "outputId": "cebc98e3-0388-4ec6-a7df-63a2a33a2dd9"
      },
      "outputs": [
        {
          "output_type": "execute_result",
          "data": {
            "text/plain": [
              "0      1\n",
              "1      2\n",
              "2     3a\n",
              "3     3b\n",
              "4    03c\n",
              "5    4dx\n",
              "6     5b\n",
              "dtype: string"
            ]
          },
          "metadata": {},
          "execution_count": 76
        }
      ],
      "source": [
        "s = pd.Series(\n",
        "     [\"1\", \"2\", \"3a\", \"3b\", \"03c\", \"4dx\", \"5b\"],\n",
        "     dtype=\"string\",\n",
        " )\n",
        "s"
      ]
    },
    {
      "cell_type": "code",
      "execution_count": null,
      "id": "bizarre-intermediate",
      "metadata": {
        "colab": {
          "base_uri": "https://localhost:8080/",
          "height": 269
        },
        "id": "bizarre-intermediate",
        "outputId": "3384055a-e1cd-4ee2-f78d-2d59c53314bd"
      },
      "outputs": [
        {
          "output_type": "execute_result",
          "data": {
            "text/plain": [
              "     0      1\n",
              "0    1  False\n",
              "1    2  False\n",
              "2   3a   True\n",
              "3   3b   True\n",
              "4  03c   True\n",
              "5  4dx  False\n",
              "6   5b  False"
            ],
            "text/html": [
              "\n",
              "  <div id=\"df-05cdca64-e625-4f7a-9865-8f1f8b4e5e4f\">\n",
              "    <div class=\"colab-df-container\">\n",
              "      <div>\n",
              "<style scoped>\n",
              "    .dataframe tbody tr th:only-of-type {\n",
              "        vertical-align: middle;\n",
              "    }\n",
              "\n",
              "    .dataframe tbody tr th {\n",
              "        vertical-align: top;\n",
              "    }\n",
              "\n",
              "    .dataframe thead th {\n",
              "        text-align: right;\n",
              "    }\n",
              "</style>\n",
              "<table border=\"1\" class=\"dataframe\">\n",
              "  <thead>\n",
              "    <tr style=\"text-align: right;\">\n",
              "      <th></th>\n",
              "      <th>0</th>\n",
              "      <th>1</th>\n",
              "    </tr>\n",
              "  </thead>\n",
              "  <tbody>\n",
              "    <tr>\n",
              "      <th>0</th>\n",
              "      <td>1</td>\n",
              "      <td>False</td>\n",
              "    </tr>\n",
              "    <tr>\n",
              "      <th>1</th>\n",
              "      <td>2</td>\n",
              "      <td>False</td>\n",
              "    </tr>\n",
              "    <tr>\n",
              "      <th>2</th>\n",
              "      <td>3a</td>\n",
              "      <td>True</td>\n",
              "    </tr>\n",
              "    <tr>\n",
              "      <th>3</th>\n",
              "      <td>3b</td>\n",
              "      <td>True</td>\n",
              "    </tr>\n",
              "    <tr>\n",
              "      <th>4</th>\n",
              "      <td>03c</td>\n",
              "      <td>True</td>\n",
              "    </tr>\n",
              "    <tr>\n",
              "      <th>5</th>\n",
              "      <td>4dx</td>\n",
              "      <td>False</td>\n",
              "    </tr>\n",
              "    <tr>\n",
              "      <th>6</th>\n",
              "      <td>5b</td>\n",
              "      <td>False</td>\n",
              "    </tr>\n",
              "  </tbody>\n",
              "</table>\n",
              "</div>\n",
              "      <button class=\"colab-df-convert\" onclick=\"convertToInteractive('df-05cdca64-e625-4f7a-9865-8f1f8b4e5e4f')\"\n",
              "              title=\"Convert this dataframe to an interactive table.\"\n",
              "              style=\"display:none;\">\n",
              "        \n",
              "  <svg xmlns=\"http://www.w3.org/2000/svg\" height=\"24px\"viewBox=\"0 0 24 24\"\n",
              "       width=\"24px\">\n",
              "    <path d=\"M0 0h24v24H0V0z\" fill=\"none\"/>\n",
              "    <path d=\"M18.56 5.44l.94 2.06.94-2.06 2.06-.94-2.06-.94-.94-2.06-.94 2.06-2.06.94zm-11 1L8.5 8.5l.94-2.06 2.06-.94-2.06-.94L8.5 2.5l-.94 2.06-2.06.94zm10 10l.94 2.06.94-2.06 2.06-.94-2.06-.94-.94-2.06-.94 2.06-2.06.94z\"/><path d=\"M17.41 7.96l-1.37-1.37c-.4-.4-.92-.59-1.43-.59-.52 0-1.04.2-1.43.59L10.3 9.45l-7.72 7.72c-.78.78-.78 2.05 0 2.83L4 21.41c.39.39.9.59 1.41.59.51 0 1.02-.2 1.41-.59l7.78-7.78 2.81-2.81c.8-.78.8-2.07 0-2.86zM5.41 20L4 18.59l7.72-7.72 1.47 1.35L5.41 20z\"/>\n",
              "  </svg>\n",
              "      </button>\n",
              "      \n",
              "  <style>\n",
              "    .colab-df-container {\n",
              "      display:flex;\n",
              "      flex-wrap:wrap;\n",
              "      gap: 12px;\n",
              "    }\n",
              "\n",
              "    .colab-df-convert {\n",
              "      background-color: #E8F0FE;\n",
              "      border: none;\n",
              "      border-radius: 50%;\n",
              "      cursor: pointer;\n",
              "      display: none;\n",
              "      fill: #1967D2;\n",
              "      height: 32px;\n",
              "      padding: 0 0 0 0;\n",
              "      width: 32px;\n",
              "    }\n",
              "\n",
              "    .colab-df-convert:hover {\n",
              "      background-color: #E2EBFA;\n",
              "      box-shadow: 0px 1px 2px rgba(60, 64, 67, 0.3), 0px 1px 3px 1px rgba(60, 64, 67, 0.15);\n",
              "      fill: #174EA6;\n",
              "    }\n",
              "\n",
              "    [theme=dark] .colab-df-convert {\n",
              "      background-color: #3B4455;\n",
              "      fill: #D2E3FC;\n",
              "    }\n",
              "\n",
              "    [theme=dark] .colab-df-convert:hover {\n",
              "      background-color: #434B5C;\n",
              "      box-shadow: 0px 1px 3px 1px rgba(0, 0, 0, 0.15);\n",
              "      filter: drop-shadow(0px 1px 2px rgba(0, 0, 0, 0.3));\n",
              "      fill: #FFFFFF;\n",
              "    }\n",
              "  </style>\n",
              "\n",
              "      <script>\n",
              "        const buttonEl =\n",
              "          document.querySelector('#df-05cdca64-e625-4f7a-9865-8f1f8b4e5e4f button.colab-df-convert');\n",
              "        buttonEl.style.display =\n",
              "          google.colab.kernel.accessAllowed ? 'block' : 'none';\n",
              "\n",
              "        async function convertToInteractive(key) {\n",
              "          const element = document.querySelector('#df-05cdca64-e625-4f7a-9865-8f1f8b4e5e4f');\n",
              "          const dataTable =\n",
              "            await google.colab.kernel.invokeFunction('convertToInteractive',\n",
              "                                                     [key], {});\n",
              "          if (!dataTable) return;\n",
              "\n",
              "          const docLinkHtml = 'Like what you see? Visit the ' +\n",
              "            '<a target=\"_blank\" href=https://colab.research.google.com/notebooks/data_table.ipynb>data table notebook</a>'\n",
              "            + ' to learn more about interactive tables.';\n",
              "          element.innerHTML = '';\n",
              "          dataTable['output_type'] = 'display_data';\n",
              "          await google.colab.output.renderOutput(dataTable, element);\n",
              "          const docLink = document.createElement('div');\n",
              "          docLink.innerHTML = docLinkHtml;\n",
              "          element.appendChild(docLink);\n",
              "        }\n",
              "      </script>\n",
              "    </div>\n",
              "  </div>\n",
              "  "
            ]
          },
          "metadata": {},
          "execution_count": 77
        }
      ],
      "source": [
        "pd.concat([s,s.str.contains(r\"[0-3][a-z]\")], axis=1) #en cualquier lugar del texto"
      ]
    },
    {
      "cell_type": "code",
      "execution_count": null,
      "id": "induced-inflation",
      "metadata": {
        "colab": {
          "base_uri": "https://localhost:8080/",
          "height": 269
        },
        "id": "induced-inflation",
        "outputId": "0313b2e2-7feb-4835-cb2a-14f7e846250c"
      },
      "outputs": [
        {
          "output_type": "execute_result",
          "data": {
            "text/plain": [
              "     0      1\n",
              "0    1  False\n",
              "1    2  False\n",
              "2   3a   True\n",
              "3   3b   True\n",
              "4  03c  False\n",
              "5  4dx   True\n",
              "6   5b   True"
            ],
            "text/html": [
              "\n",
              "  <div id=\"df-84ad916e-10e8-43b4-b0eb-d3cf6a2c354d\">\n",
              "    <div class=\"colab-df-container\">\n",
              "      <div>\n",
              "<style scoped>\n",
              "    .dataframe tbody tr th:only-of-type {\n",
              "        vertical-align: middle;\n",
              "    }\n",
              "\n",
              "    .dataframe tbody tr th {\n",
              "        vertical-align: top;\n",
              "    }\n",
              "\n",
              "    .dataframe thead th {\n",
              "        text-align: right;\n",
              "    }\n",
              "</style>\n",
              "<table border=\"1\" class=\"dataframe\">\n",
              "  <thead>\n",
              "    <tr style=\"text-align: right;\">\n",
              "      <th></th>\n",
              "      <th>0</th>\n",
              "      <th>1</th>\n",
              "    </tr>\n",
              "  </thead>\n",
              "  <tbody>\n",
              "    <tr>\n",
              "      <th>0</th>\n",
              "      <td>1</td>\n",
              "      <td>False</td>\n",
              "    </tr>\n",
              "    <tr>\n",
              "      <th>1</th>\n",
              "      <td>2</td>\n",
              "      <td>False</td>\n",
              "    </tr>\n",
              "    <tr>\n",
              "      <th>2</th>\n",
              "      <td>3a</td>\n",
              "      <td>True</td>\n",
              "    </tr>\n",
              "    <tr>\n",
              "      <th>3</th>\n",
              "      <td>3b</td>\n",
              "      <td>True</td>\n",
              "    </tr>\n",
              "    <tr>\n",
              "      <th>4</th>\n",
              "      <td>03c</td>\n",
              "      <td>False</td>\n",
              "    </tr>\n",
              "    <tr>\n",
              "      <th>5</th>\n",
              "      <td>4dx</td>\n",
              "      <td>True</td>\n",
              "    </tr>\n",
              "    <tr>\n",
              "      <th>6</th>\n",
              "      <td>5b</td>\n",
              "      <td>True</td>\n",
              "    </tr>\n",
              "  </tbody>\n",
              "</table>\n",
              "</div>\n",
              "      <button class=\"colab-df-convert\" onclick=\"convertToInteractive('df-84ad916e-10e8-43b4-b0eb-d3cf6a2c354d')\"\n",
              "              title=\"Convert this dataframe to an interactive table.\"\n",
              "              style=\"display:none;\">\n",
              "        \n",
              "  <svg xmlns=\"http://www.w3.org/2000/svg\" height=\"24px\"viewBox=\"0 0 24 24\"\n",
              "       width=\"24px\">\n",
              "    <path d=\"M0 0h24v24H0V0z\" fill=\"none\"/>\n",
              "    <path d=\"M18.56 5.44l.94 2.06.94-2.06 2.06-.94-2.06-.94-.94-2.06-.94 2.06-2.06.94zm-11 1L8.5 8.5l.94-2.06 2.06-.94-2.06-.94L8.5 2.5l-.94 2.06-2.06.94zm10 10l.94 2.06.94-2.06 2.06-.94-2.06-.94-.94-2.06-.94 2.06-2.06.94z\"/><path d=\"M17.41 7.96l-1.37-1.37c-.4-.4-.92-.59-1.43-.59-.52 0-1.04.2-1.43.59L10.3 9.45l-7.72 7.72c-.78.78-.78 2.05 0 2.83L4 21.41c.39.39.9.59 1.41.59.51 0 1.02-.2 1.41-.59l7.78-7.78 2.81-2.81c.8-.78.8-2.07 0-2.86zM5.41 20L4 18.59l7.72-7.72 1.47 1.35L5.41 20z\"/>\n",
              "  </svg>\n",
              "      </button>\n",
              "      \n",
              "  <style>\n",
              "    .colab-df-container {\n",
              "      display:flex;\n",
              "      flex-wrap:wrap;\n",
              "      gap: 12px;\n",
              "    }\n",
              "\n",
              "    .colab-df-convert {\n",
              "      background-color: #E8F0FE;\n",
              "      border: none;\n",
              "      border-radius: 50%;\n",
              "      cursor: pointer;\n",
              "      display: none;\n",
              "      fill: #1967D2;\n",
              "      height: 32px;\n",
              "      padding: 0 0 0 0;\n",
              "      width: 32px;\n",
              "    }\n",
              "\n",
              "    .colab-df-convert:hover {\n",
              "      background-color: #E2EBFA;\n",
              "      box-shadow: 0px 1px 2px rgba(60, 64, 67, 0.3), 0px 1px 3px 1px rgba(60, 64, 67, 0.15);\n",
              "      fill: #174EA6;\n",
              "    }\n",
              "\n",
              "    [theme=dark] .colab-df-convert {\n",
              "      background-color: #3B4455;\n",
              "      fill: #D2E3FC;\n",
              "    }\n",
              "\n",
              "    [theme=dark] .colab-df-convert:hover {\n",
              "      background-color: #434B5C;\n",
              "      box-shadow: 0px 1px 3px 1px rgba(0, 0, 0, 0.15);\n",
              "      filter: drop-shadow(0px 1px 2px rgba(0, 0, 0, 0.3));\n",
              "      fill: #FFFFFF;\n",
              "    }\n",
              "  </style>\n",
              "\n",
              "      <script>\n",
              "        const buttonEl =\n",
              "          document.querySelector('#df-84ad916e-10e8-43b4-b0eb-d3cf6a2c354d button.colab-df-convert');\n",
              "        buttonEl.style.display =\n",
              "          google.colab.kernel.accessAllowed ? 'block' : 'none';\n",
              "\n",
              "        async function convertToInteractive(key) {\n",
              "          const element = document.querySelector('#df-84ad916e-10e8-43b4-b0eb-d3cf6a2c354d');\n",
              "          const dataTable =\n",
              "            await google.colab.kernel.invokeFunction('convertToInteractive',\n",
              "                                                     [key], {});\n",
              "          if (!dataTable) return;\n",
              "\n",
              "          const docLinkHtml = 'Like what you see? Visit the ' +\n",
              "            '<a target=\"_blank\" href=https://colab.research.google.com/notebooks/data_table.ipynb>data table notebook</a>'\n",
              "            + ' to learn more about interactive tables.';\n",
              "          element.innerHTML = '';\n",
              "          dataTable['output_type'] = 'display_data';\n",
              "          await google.colab.output.renderOutput(dataTable, element);\n",
              "          const docLink = document.createElement('div');\n",
              "          docLink.innerHTML = docLinkHtml;\n",
              "          element.appendChild(docLink);\n",
              "        }\n",
              "      </script>\n",
              "    </div>\n",
              "  </div>\n",
              "  "
            ]
          },
          "metadata": {},
          "execution_count": 78
        }
      ],
      "source": [
        "pd.concat([s,s.str.match(r\"[0-9][a-z]\")], axis=1) #sólo al inicio del texto"
      ]
    },
    {
      "cell_type": "code",
      "execution_count": null,
      "id": "exotic-induction",
      "metadata": {
        "colab": {
          "base_uri": "https://localhost:8080/",
          "height": 269
        },
        "id": "exotic-induction",
        "outputId": "d31ae70b-2a0f-4c08-f6dd-a1de6ababb6c"
      },
      "outputs": [
        {
          "output_type": "execute_result",
          "data": {
            "text/plain": [
              "     0      1\n",
              "0    1  False\n",
              "1    2  False\n",
              "2   3a   True\n",
              "3   3b   True\n",
              "4  03c  False\n",
              "5  4dx  False\n",
              "6   5b   True"
            ],
            "text/html": [
              "\n",
              "  <div id=\"df-720f6420-ea60-4fab-9f5c-9aee7c2cef69\">\n",
              "    <div class=\"colab-df-container\">\n",
              "      <div>\n",
              "<style scoped>\n",
              "    .dataframe tbody tr th:only-of-type {\n",
              "        vertical-align: middle;\n",
              "    }\n",
              "\n",
              "    .dataframe tbody tr th {\n",
              "        vertical-align: top;\n",
              "    }\n",
              "\n",
              "    .dataframe thead th {\n",
              "        text-align: right;\n",
              "    }\n",
              "</style>\n",
              "<table border=\"1\" class=\"dataframe\">\n",
              "  <thead>\n",
              "    <tr style=\"text-align: right;\">\n",
              "      <th></th>\n",
              "      <th>0</th>\n",
              "      <th>1</th>\n",
              "    </tr>\n",
              "  </thead>\n",
              "  <tbody>\n",
              "    <tr>\n",
              "      <th>0</th>\n",
              "      <td>1</td>\n",
              "      <td>False</td>\n",
              "    </tr>\n",
              "    <tr>\n",
              "      <th>1</th>\n",
              "      <td>2</td>\n",
              "      <td>False</td>\n",
              "    </tr>\n",
              "    <tr>\n",
              "      <th>2</th>\n",
              "      <td>3a</td>\n",
              "      <td>True</td>\n",
              "    </tr>\n",
              "    <tr>\n",
              "      <th>3</th>\n",
              "      <td>3b</td>\n",
              "      <td>True</td>\n",
              "    </tr>\n",
              "    <tr>\n",
              "      <th>4</th>\n",
              "      <td>03c</td>\n",
              "      <td>False</td>\n",
              "    </tr>\n",
              "    <tr>\n",
              "      <th>5</th>\n",
              "      <td>4dx</td>\n",
              "      <td>False</td>\n",
              "    </tr>\n",
              "    <tr>\n",
              "      <th>6</th>\n",
              "      <td>5b</td>\n",
              "      <td>True</td>\n",
              "    </tr>\n",
              "  </tbody>\n",
              "</table>\n",
              "</div>\n",
              "      <button class=\"colab-df-convert\" onclick=\"convertToInteractive('df-720f6420-ea60-4fab-9f5c-9aee7c2cef69')\"\n",
              "              title=\"Convert this dataframe to an interactive table.\"\n",
              "              style=\"display:none;\">\n",
              "        \n",
              "  <svg xmlns=\"http://www.w3.org/2000/svg\" height=\"24px\"viewBox=\"0 0 24 24\"\n",
              "       width=\"24px\">\n",
              "    <path d=\"M0 0h24v24H0V0z\" fill=\"none\"/>\n",
              "    <path d=\"M18.56 5.44l.94 2.06.94-2.06 2.06-.94-2.06-.94-.94-2.06-.94 2.06-2.06.94zm-11 1L8.5 8.5l.94-2.06 2.06-.94-2.06-.94L8.5 2.5l-.94 2.06-2.06.94zm10 10l.94 2.06.94-2.06 2.06-.94-2.06-.94-.94-2.06-.94 2.06-2.06.94z\"/><path d=\"M17.41 7.96l-1.37-1.37c-.4-.4-.92-.59-1.43-.59-.52 0-1.04.2-1.43.59L10.3 9.45l-7.72 7.72c-.78.78-.78 2.05 0 2.83L4 21.41c.39.39.9.59 1.41.59.51 0 1.02-.2 1.41-.59l7.78-7.78 2.81-2.81c.8-.78.8-2.07 0-2.86zM5.41 20L4 18.59l7.72-7.72 1.47 1.35L5.41 20z\"/>\n",
              "  </svg>\n",
              "      </button>\n",
              "      \n",
              "  <style>\n",
              "    .colab-df-container {\n",
              "      display:flex;\n",
              "      flex-wrap:wrap;\n",
              "      gap: 12px;\n",
              "    }\n",
              "\n",
              "    .colab-df-convert {\n",
              "      background-color: #E8F0FE;\n",
              "      border: none;\n",
              "      border-radius: 50%;\n",
              "      cursor: pointer;\n",
              "      display: none;\n",
              "      fill: #1967D2;\n",
              "      height: 32px;\n",
              "      padding: 0 0 0 0;\n",
              "      width: 32px;\n",
              "    }\n",
              "\n",
              "    .colab-df-convert:hover {\n",
              "      background-color: #E2EBFA;\n",
              "      box-shadow: 0px 1px 2px rgba(60, 64, 67, 0.3), 0px 1px 3px 1px rgba(60, 64, 67, 0.15);\n",
              "      fill: #174EA6;\n",
              "    }\n",
              "\n",
              "    [theme=dark] .colab-df-convert {\n",
              "      background-color: #3B4455;\n",
              "      fill: #D2E3FC;\n",
              "    }\n",
              "\n",
              "    [theme=dark] .colab-df-convert:hover {\n",
              "      background-color: #434B5C;\n",
              "      box-shadow: 0px 1px 3px 1px rgba(0, 0, 0, 0.15);\n",
              "      filter: drop-shadow(0px 1px 2px rgba(0, 0, 0, 0.3));\n",
              "      fill: #FFFFFF;\n",
              "    }\n",
              "  </style>\n",
              "\n",
              "      <script>\n",
              "        const buttonEl =\n",
              "          document.querySelector('#df-720f6420-ea60-4fab-9f5c-9aee7c2cef69 button.colab-df-convert');\n",
              "        buttonEl.style.display =\n",
              "          google.colab.kernel.accessAllowed ? 'block' : 'none';\n",
              "\n",
              "        async function convertToInteractive(key) {\n",
              "          const element = document.querySelector('#df-720f6420-ea60-4fab-9f5c-9aee7c2cef69');\n",
              "          const dataTable =\n",
              "            await google.colab.kernel.invokeFunction('convertToInteractive',\n",
              "                                                     [key], {});\n",
              "          if (!dataTable) return;\n",
              "\n",
              "          const docLinkHtml = 'Like what you see? Visit the ' +\n",
              "            '<a target=\"_blank\" href=https://colab.research.google.com/notebooks/data_table.ipynb>data table notebook</a>'\n",
              "            + ' to learn more about interactive tables.';\n",
              "          element.innerHTML = '';\n",
              "          dataTable['output_type'] = 'display_data';\n",
              "          await google.colab.output.renderOutput(dataTable, element);\n",
              "          const docLink = document.createElement('div');\n",
              "          docLink.innerHTML = docLinkHtml;\n",
              "          element.appendChild(docLink);\n",
              "        }\n",
              "      </script>\n",
              "    </div>\n",
              "  </div>\n",
              "  "
            ]
          },
          "metadata": {},
          "execution_count": 79
        }
      ],
      "source": [
        "pd.concat([s,s.str.fullmatch(r\"[0-9][a-z]\")], axis=1)"
      ]
    },
    {
      "cell_type": "code",
      "execution_count": null,
      "id": "specialized-copyright",
      "metadata": {
        "id": "specialized-copyright"
      },
      "outputs": [],
      "source": [
        ""
      ]
    }
  ],
  "metadata": {
    "kernelspec": {
      "display_name": "Python 3",
      "language": "python",
      "name": "python3"
    },
    "language_info": {
      "codemirror_mode": {
        "name": "ipython",
        "version": 3
      },
      "file_extension": ".py",
      "mimetype": "text/x-python",
      "name": "python",
      "nbconvert_exporter": "python",
      "pygments_lexer": "ipython3",
      "version": "3.8.8"
    },
    "colab": {
      "name": "NLP_02-Expresiones regulares.ipynb",
      "provenance": [],
      "include_colab_link": true
    }
  },
  "nbformat": 4,
  "nbformat_minor": 5
}